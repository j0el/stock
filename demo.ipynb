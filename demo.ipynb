{
  "nbformat": 4,
  "nbformat_minor": 0,
  "metadata": {
    "colab": {
      "name": "demo.ipynb",
      "private_outputs": true,
      "provenance": [],
      "authorship_tag": "ABX9TyM5fTndCatoNuwIfqZZGXYq",
      "include_colab_link": true
    },
    "kernelspec": {
      "name": "python3",
      "display_name": "Python 3"
    },
    "language_info": {
      "name": "python"
    }
  },
  "cells": [
    {
      "cell_type": "markdown",
      "metadata": {
        "id": "view-in-github",
        "colab_type": "text"
      },
      "source": [
        "<a href=\"https://colab.research.google.com/github/j0el/stock/blob/main/demo.ipynb\" target=\"_parent\"><img src=\"https://colab.research.google.com/assets/colab-badge.svg\" alt=\"Open In Colab\"/></a>"
      ]
    },
    {
      "cell_type": "code",
      "metadata": {
        "id": "zHZiBsI64Itx"
      },
      "source": [
        "# This installs some of the libraries into your environment\n",
        "# WHen you run the first time, this needs to run, but you can comment it out by\n",
        "# converting it to a text cell ctrl-m m  and back to a code cell with ctrl-m y\n",
        "\n",
        "!pip install pandas-ta\n",
        "!pip install yfinance\n",
        "!pip install ta\n",
        "!pip install vectorbt"
      ],
      "execution_count": null,
      "outputs": []
    },
    {
      "cell_type": "code",
      "metadata": {
        "id": "6DlBNWo97NTw"
      },
      "source": [
        "# This cell imports the functions you need to run this notebook\n",
        "import vectorbt as vbt\n",
        "import pandas as pd\n",
        "from ta import add_all_ta_features\n",
        "from ta.utils import dropna\n",
        "import matplotlib.pyplot as plt\n",
        "import matplotlib as mpl\n",
        "mpl.style.use('seaborn')\n",
        "\n"
      ],
      "execution_count": null,
      "outputs": []
    },
    {
      "cell_type": "code",
      "metadata": {
        "id": "ZnkoajhF60zD"
      },
      "source": [
        "# This is a simple demo of adding indicators.\n",
        "\n",
        "#First we download some data for SPY\n",
        "symbol = vbt.YFData.download('SPY',start=\"2019-1-1\").get()\n",
        "\n",
        "# Python keeps data in rows and columns like a spreadsheet, but the index (date) is aa special column. \n",
        "# SO because we will write this out to excel I am creating a column with the Dates in it.  But I have to strip timezone info out.\n",
        "symbol['Date'] = symbol.index.values\n",
        "symbol['Date'] = symbol['Date'].dt.tz_localize(None)\n",
        "\n",
        "#Now I write to an excel file.  If you click on the file folder to the left you will see the files in colab and can download them to your machine.\n",
        "# FIrst I just write the norml OHLCV data  \n",
        "symbol.to_excel(\"symbol.xlsx\", index=False)\n",
        "\n",
        "#Now I add all the features supplied by the TA library.\n",
        "# You can find the descriptions of the functions here - https://technical-analysis-library-in-python.readthedocs.io/en/latest/\n",
        "symbol = add_all_ta_features(\n",
        "    symbol, open=\"Open\", high=\"High\", low=\"Low\", close=\"Close\", volume=\"Volume\", fillna=True)\n",
        "symbol.to_excel(\"allData.xlsx\", index=False)\n",
        "\n",
        "# And you can just plot them in python - here are some examples\n",
        "\n"
      ],
      "execution_count": null,
      "outputs": []
    },
    {
      "cell_type": "code",
      "metadata": {
        "id": "mga8NXnbcBcJ"
      },
      "source": [
        "plt.plot(symbol.Close)\n",
        "plt.plot(symbol.volatility_bbh, label='High BB')\n",
        "plt.plot(symbol.volatility_bbl, label='Low BB')\n",
        "plt.plot(symbol.volatility_bbm, label='EMA BB')\n",
        "plt.title('Bollinger Bands')\n",
        "plt.legend()\n",
        "plt.show()"
      ],
      "execution_count": null,
      "outputs": []
    },
    {
      "cell_type": "code",
      "metadata": {
        "id": "5_ppfcJUGt_1"
      },
      "source": [
        "plt.plot(symbol.Close)\n",
        "plt.plot(symbol.volatility_kcc, label='Central KC')\n",
        "plt.plot(symbol.volatility_kch, label='High KC')\n",
        "plt.plot(symbol.volatility_kcl, label='Low KC')\n",
        "plt.title('Keltner Channel')\n",
        "plt.legend()\n",
        "plt.show()"
      ],
      "execution_count": null,
      "outputs": []
    },
    {
      "cell_type": "code",
      "metadata": {
        "id": "9R9th69BdGQY"
      },
      "source": [
        "plt.plot(symbol.trend_macd, label='MACD')\n",
        "plt.plot(symbol.trend_macd_signal, label='MACD Signal')\n",
        "plt.plot(symbol.trend_macd_diff, label='MACD Difference')\n",
        "plt.title('MACD, MACD Signal and MACD Difference')\n",
        "plt.legend()\n",
        "plt.show()"
      ],
      "execution_count": null,
      "outputs": []
    },
    {
      "cell_type": "code",
      "metadata": {
        "id": "LAjvEr-vd3ZI"
      },
      "source": [
        "for col in symbol.columns:\n",
        "    plt.plot(symbol[col])\n",
        "    plt.title(col)\n",
        "    plt.show()"
      ],
      "execution_count": null,
      "outputs": []
    }
  ]
}