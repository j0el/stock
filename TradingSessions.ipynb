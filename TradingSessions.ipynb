{
  "nbformat": 4,
  "nbformat_minor": 0,
  "metadata": {
    "kernelspec": {
      "display_name": "Python 3 (ipykernel)",
      "language": "python",
      "name": "python3"
    },
    "language_info": {
      "codemirror_mode": {
        "name": "ipython",
        "version": 3
      },
      "file_extension": ".py",
      "mimetype": "text/x-python",
      "name": "python",
      "nbconvert_exporter": "python",
      "pygments_lexer": "ipython3",
      "version": "3.7.3"
    },
    "colab": {
      "name": "TradingSessions.ipynb",
      "provenance": [],
      "include_colab_link": true
    }
  },
  "cells": [
    {
      "cell_type": "markdown",
      "metadata": {
        "id": "view-in-github",
        "colab_type": "text"
      },
      "source": [
        "<a href=\"https://colab.research.google.com/github/j0el/stock/blob/main/TradingSessions.ipynb\" target=\"_parent\"><img src=\"https://colab.research.google.com/assets/colab-badge.svg\" alt=\"Open In Colab\"/></a>"
      ]
    },
    {
      "cell_type": "code",
      "metadata": {
        "colab": {
          "base_uri": "https://localhost:8080/"
        },
        "id": "JFx182xwhSRh",
        "outputId": "120276cc-ac78-4ae7-e296-de9961bb7ade"
      },
      "source": [
        "!pip install vectorbt\n",
        "!pip install yfinance"
      ],
      "execution_count": 1,
      "outputs": [
        {
          "output_type": "stream",
          "name": "stdout",
          "text": [
            "Collecting vectorbt\n",
            "  Downloading vectorbt-0.21.0.tar.gz (489 kB)\n",
            "\u001b[K     |████████████████████████████████| 489 kB 4.3 MB/s \n",
            "\u001b[?25hRequirement already satisfied: numpy>=1.16.5 in /usr/local/lib/python3.7/dist-packages (from vectorbt) (1.19.5)\n",
            "Requirement already satisfied: pandas in /usr/local/lib/python3.7/dist-packages (from vectorbt) (1.1.5)\n",
            "Requirement already satisfied: scipy in /usr/local/lib/python3.7/dist-packages (from vectorbt) (1.4.1)\n",
            "Requirement already satisfied: matplotlib in /usr/local/lib/python3.7/dist-packages (from vectorbt) (3.2.2)\n",
            "Collecting plotly>=4.12.0\n",
            "  Downloading plotly-5.3.1-py2.py3-none-any.whl (23.9 MB)\n",
            "\u001b[K     |████████████████████████████████| 23.9 MB 11 kB/s \n",
            "\u001b[?25hRequirement already satisfied: ipywidgets>=7.0.0 in /usr/local/lib/python3.7/dist-packages (from vectorbt) (7.6.3)\n",
            "Requirement already satisfied: dill in /usr/local/lib/python3.7/dist-packages (from vectorbt) (0.3.4)\n",
            "Requirement already satisfied: tqdm in /usr/local/lib/python3.7/dist-packages (from vectorbt) (4.62.0)\n",
            "Collecting dateparser\n",
            "  Downloading dateparser-1.0.0-py2.py3-none-any.whl (279 kB)\n",
            "\u001b[K     |████████████████████████████████| 279 kB 69.8 MB/s \n",
            "\u001b[?25hRequirement already satisfied: imageio in /usr/local/lib/python3.7/dist-packages (from vectorbt) (2.4.1)\n",
            "Requirement already satisfied: scikit-learn in /usr/local/lib/python3.7/dist-packages (from vectorbt) (0.22.2.post1)\n",
            "Collecting schedule\n",
            "  Downloading schedule-1.1.0-py2.py3-none-any.whl (10 kB)\n",
            "Requirement already satisfied: requests in /usr/local/lib/python3.7/dist-packages (from vectorbt) (2.23.0)\n",
            "Requirement already satisfied: pytz in /usr/local/lib/python3.7/dist-packages (from vectorbt) (2018.9)\n",
            "Collecting mypy_extensions\n",
            "  Downloading mypy_extensions-0.4.3-py2.py3-none-any.whl (4.5 kB)\n",
            "Collecting kaleido\n",
            "  Downloading kaleido-0.2.1-py2.py3-none-manylinux1_x86_64.whl (79.9 MB)\n",
            "\u001b[K     |████████████████████████████████| 79.9 MB 48 kB/s \n",
            "\u001b[?25hRequirement already satisfied: typing_extensions in /usr/local/lib/python3.7/dist-packages (from vectorbt) (3.7.4.3)\n",
            "Collecting numba==0.53.1\n",
            "  Downloading numba-0.53.1-cp37-cp37m-manylinux2014_x86_64.whl (3.4 MB)\n",
            "\u001b[K     |████████████████████████████████| 3.4 MB 28.4 MB/s \n",
            "\u001b[?25hRequirement already satisfied: setuptools in /usr/local/lib/python3.7/dist-packages (from numba==0.53.1->vectorbt) (57.4.0)\n",
            "Collecting llvmlite<0.37,>=0.36.0rc1\n",
            "  Downloading llvmlite-0.36.0-cp37-cp37m-manylinux2010_x86_64.whl (25.3 MB)\n",
            "\u001b[K     |████████████████████████████████| 25.3 MB 77 kB/s \n",
            "\u001b[?25hRequirement already satisfied: traitlets>=4.3.1 in /usr/local/lib/python3.7/dist-packages (from ipywidgets>=7.0.0->vectorbt) (5.0.5)\n",
            "Requirement already satisfied: widgetsnbextension~=3.5.0 in /usr/local/lib/python3.7/dist-packages (from ipywidgets>=7.0.0->vectorbt) (3.5.1)\n",
            "Requirement already satisfied: ipykernel>=4.5.1 in /usr/local/lib/python3.7/dist-packages (from ipywidgets>=7.0.0->vectorbt) (4.10.1)\n",
            "Requirement already satisfied: jupyterlab-widgets>=1.0.0 in /usr/local/lib/python3.7/dist-packages (from ipywidgets>=7.0.0->vectorbt) (1.0.0)\n",
            "Requirement already satisfied: nbformat>=4.2.0 in /usr/local/lib/python3.7/dist-packages (from ipywidgets>=7.0.0->vectorbt) (5.1.3)\n",
            "Requirement already satisfied: ipython>=4.0.0 in /usr/local/lib/python3.7/dist-packages (from ipywidgets>=7.0.0->vectorbt) (5.5.0)\n",
            "Requirement already satisfied: jupyter-client in /usr/local/lib/python3.7/dist-packages (from ipykernel>=4.5.1->ipywidgets>=7.0.0->vectorbt) (5.3.5)\n",
            "Requirement already satisfied: tornado>=4.0 in /usr/local/lib/python3.7/dist-packages (from ipykernel>=4.5.1->ipywidgets>=7.0.0->vectorbt) (5.1.1)\n",
            "Requirement already satisfied: pygments in /usr/local/lib/python3.7/dist-packages (from ipython>=4.0.0->ipywidgets>=7.0.0->vectorbt) (2.6.1)\n",
            "Requirement already satisfied: simplegeneric>0.8 in /usr/local/lib/python3.7/dist-packages (from ipython>=4.0.0->ipywidgets>=7.0.0->vectorbt) (0.8.1)\n",
            "Requirement already satisfied: pexpect in /usr/local/lib/python3.7/dist-packages (from ipython>=4.0.0->ipywidgets>=7.0.0->vectorbt) (4.8.0)\n",
            "Requirement already satisfied: pickleshare in /usr/local/lib/python3.7/dist-packages (from ipython>=4.0.0->ipywidgets>=7.0.0->vectorbt) (0.7.5)\n",
            "Requirement already satisfied: decorator in /usr/local/lib/python3.7/dist-packages (from ipython>=4.0.0->ipywidgets>=7.0.0->vectorbt) (4.4.2)\n",
            "Requirement already satisfied: prompt-toolkit<2.0.0,>=1.0.4 in /usr/local/lib/python3.7/dist-packages (from ipython>=4.0.0->ipywidgets>=7.0.0->vectorbt) (1.0.18)\n",
            "Requirement already satisfied: ipython-genutils in /usr/local/lib/python3.7/dist-packages (from nbformat>=4.2.0->ipywidgets>=7.0.0->vectorbt) (0.2.0)\n",
            "Requirement already satisfied: jupyter-core in /usr/local/lib/python3.7/dist-packages (from nbformat>=4.2.0->ipywidgets>=7.0.0->vectorbt) (4.7.1)\n",
            "Requirement already satisfied: jsonschema!=2.5.0,>=2.4 in /usr/local/lib/python3.7/dist-packages (from nbformat>=4.2.0->ipywidgets>=7.0.0->vectorbt) (2.6.0)\n",
            "Requirement already satisfied: six in /usr/local/lib/python3.7/dist-packages (from plotly>=4.12.0->vectorbt) (1.15.0)\n",
            "Collecting tenacity>=6.2.0\n",
            "  Downloading tenacity-8.0.1-py3-none-any.whl (24 kB)\n",
            "Requirement already satisfied: wcwidth in /usr/local/lib/python3.7/dist-packages (from prompt-toolkit<2.0.0,>=1.0.4->ipython>=4.0.0->ipywidgets>=7.0.0->vectorbt) (0.2.5)\n",
            "Requirement already satisfied: notebook>=4.4.1 in /usr/local/lib/python3.7/dist-packages (from widgetsnbextension~=3.5.0->ipywidgets>=7.0.0->vectorbt) (5.3.1)\n",
            "Requirement already satisfied: terminado>=0.8.1 in /usr/local/lib/python3.7/dist-packages (from notebook>=4.4.1->widgetsnbextension~=3.5.0->ipywidgets>=7.0.0->vectorbt) (0.11.0)\n",
            "Requirement already satisfied: jinja2 in /usr/local/lib/python3.7/dist-packages (from notebook>=4.4.1->widgetsnbextension~=3.5.0->ipywidgets>=7.0.0->vectorbt) (2.11.3)\n",
            "Requirement already satisfied: Send2Trash in /usr/local/lib/python3.7/dist-packages (from notebook>=4.4.1->widgetsnbextension~=3.5.0->ipywidgets>=7.0.0->vectorbt) (1.8.0)\n",
            "Requirement already satisfied: nbconvert in /usr/local/lib/python3.7/dist-packages (from notebook>=4.4.1->widgetsnbextension~=3.5.0->ipywidgets>=7.0.0->vectorbt) (5.6.1)\n",
            "Requirement already satisfied: python-dateutil>=2.1 in /usr/local/lib/python3.7/dist-packages (from jupyter-client->ipykernel>=4.5.1->ipywidgets>=7.0.0->vectorbt) (2.8.2)\n",
            "Requirement already satisfied: pyzmq>=13 in /usr/local/lib/python3.7/dist-packages (from jupyter-client->ipykernel>=4.5.1->ipywidgets>=7.0.0->vectorbt) (22.2.1)\n",
            "Requirement already satisfied: ptyprocess in /usr/local/lib/python3.7/dist-packages (from terminado>=0.8.1->notebook>=4.4.1->widgetsnbextension~=3.5.0->ipywidgets>=7.0.0->vectorbt) (0.7.0)\n",
            "Requirement already satisfied: tzlocal in /usr/local/lib/python3.7/dist-packages (from dateparser->vectorbt) (1.5.1)\n",
            "Requirement already satisfied: regex!=2019.02.19 in /usr/local/lib/python3.7/dist-packages (from dateparser->vectorbt) (2019.12.20)\n",
            "Requirement already satisfied: pillow in /usr/local/lib/python3.7/dist-packages (from imageio->vectorbt) (7.1.2)\n",
            "Requirement already satisfied: MarkupSafe>=0.23 in /usr/local/lib/python3.7/dist-packages (from jinja2->notebook>=4.4.1->widgetsnbextension~=3.5.0->ipywidgets>=7.0.0->vectorbt) (2.0.1)\n",
            "Requirement already satisfied: cycler>=0.10 in /usr/local/lib/python3.7/dist-packages (from matplotlib->vectorbt) (0.10.0)\n",
            "Requirement already satisfied: pyparsing!=2.0.4,!=2.1.2,!=2.1.6,>=2.0.1 in /usr/local/lib/python3.7/dist-packages (from matplotlib->vectorbt) (2.4.7)\n",
            "Requirement already satisfied: kiwisolver>=1.0.1 in /usr/local/lib/python3.7/dist-packages (from matplotlib->vectorbt) (1.3.1)\n",
            "Requirement already satisfied: entrypoints>=0.2.2 in /usr/local/lib/python3.7/dist-packages (from nbconvert->notebook>=4.4.1->widgetsnbextension~=3.5.0->ipywidgets>=7.0.0->vectorbt) (0.3)\n",
            "Requirement already satisfied: bleach in /usr/local/lib/python3.7/dist-packages (from nbconvert->notebook>=4.4.1->widgetsnbextension~=3.5.0->ipywidgets>=7.0.0->vectorbt) (4.0.0)\n",
            "Requirement already satisfied: defusedxml in /usr/local/lib/python3.7/dist-packages (from nbconvert->notebook>=4.4.1->widgetsnbextension~=3.5.0->ipywidgets>=7.0.0->vectorbt) (0.7.1)\n",
            "Requirement already satisfied: mistune<2,>=0.8.1 in /usr/local/lib/python3.7/dist-packages (from nbconvert->notebook>=4.4.1->widgetsnbextension~=3.5.0->ipywidgets>=7.0.0->vectorbt) (0.8.4)\n",
            "Requirement already satisfied: testpath in /usr/local/lib/python3.7/dist-packages (from nbconvert->notebook>=4.4.1->widgetsnbextension~=3.5.0->ipywidgets>=7.0.0->vectorbt) (0.5.0)\n",
            "Requirement already satisfied: pandocfilters>=1.4.1 in /usr/local/lib/python3.7/dist-packages (from nbconvert->notebook>=4.4.1->widgetsnbextension~=3.5.0->ipywidgets>=7.0.0->vectorbt) (1.4.3)\n",
            "Requirement already satisfied: webencodings in /usr/local/lib/python3.7/dist-packages (from bleach->nbconvert->notebook>=4.4.1->widgetsnbextension~=3.5.0->ipywidgets>=7.0.0->vectorbt) (0.5.1)\n",
            "Requirement already satisfied: packaging in /usr/local/lib/python3.7/dist-packages (from bleach->nbconvert->notebook>=4.4.1->widgetsnbextension~=3.5.0->ipywidgets>=7.0.0->vectorbt) (21.0)\n",
            "Requirement already satisfied: certifi>=2017.4.17 in /usr/local/lib/python3.7/dist-packages (from requests->vectorbt) (2021.5.30)\n",
            "Requirement already satisfied: idna<3,>=2.5 in /usr/local/lib/python3.7/dist-packages (from requests->vectorbt) (2.10)\n",
            "Requirement already satisfied: chardet<4,>=3.0.2 in /usr/local/lib/python3.7/dist-packages (from requests->vectorbt) (3.0.4)\n",
            "Requirement already satisfied: urllib3!=1.25.0,!=1.25.1,<1.26,>=1.21.1 in /usr/local/lib/python3.7/dist-packages (from requests->vectorbt) (1.24.3)\n",
            "Requirement already satisfied: joblib>=0.11 in /usr/local/lib/python3.7/dist-packages (from scikit-learn->vectorbt) (1.0.1)\n",
            "Building wheels for collected packages: vectorbt\n",
            "  Building wheel for vectorbt (setup.py) ... \u001b[?25l\u001b[?25hdone\n",
            "  Created wheel for vectorbt: filename=vectorbt-0.21.0-py3-none-any.whl size=535734 sha256=84f6f63d97722c3cdc70246fe142f54d66cf181d070f26ea7e07fea37834bc06\n",
            "  Stored in directory: /root/.cache/pip/wheels/0b/eb/c8/6965d7bab40d2e7ccbdb2ccb18cab13723486103e831d1c395\n",
            "Successfully built vectorbt\n",
            "Installing collected packages: tenacity, llvmlite, schedule, plotly, numba, mypy-extensions, kaleido, dateparser, vectorbt\n",
            "  Attempting uninstall: llvmlite\n",
            "    Found existing installation: llvmlite 0.34.0\n",
            "    Uninstalling llvmlite-0.34.0:\n",
            "      Successfully uninstalled llvmlite-0.34.0\n",
            "  Attempting uninstall: plotly\n",
            "    Found existing installation: plotly 4.4.1\n",
            "    Uninstalling plotly-4.4.1:\n",
            "      Successfully uninstalled plotly-4.4.1\n",
            "  Attempting uninstall: numba\n",
            "    Found existing installation: numba 0.51.2\n",
            "    Uninstalling numba-0.51.2:\n",
            "      Successfully uninstalled numba-0.51.2\n",
            "Successfully installed dateparser-1.0.0 kaleido-0.2.1 llvmlite-0.36.0 mypy-extensions-0.4.3 numba-0.53.1 plotly-5.3.1 schedule-1.1.0 tenacity-8.0.1 vectorbt-0.21.0\n",
            "Collecting yfinance\n",
            "  Downloading yfinance-0.1.63.tar.gz (26 kB)\n",
            "Requirement already satisfied: pandas>=0.24 in /usr/local/lib/python3.7/dist-packages (from yfinance) (1.1.5)\n",
            "Requirement already satisfied: numpy>=1.15 in /usr/local/lib/python3.7/dist-packages (from yfinance) (1.19.5)\n",
            "Requirement already satisfied: requests>=2.20 in /usr/local/lib/python3.7/dist-packages (from yfinance) (2.23.0)\n",
            "Requirement already satisfied: multitasking>=0.0.7 in /usr/local/lib/python3.7/dist-packages (from yfinance) (0.0.9)\n",
            "Collecting lxml>=4.5.1\n",
            "  Downloading lxml-4.6.3-cp37-cp37m-manylinux2014_x86_64.whl (6.3 MB)\n",
            "\u001b[K     |████████████████████████████████| 6.3 MB 6.5 MB/s \n",
            "\u001b[?25hRequirement already satisfied: pytz>=2017.2 in /usr/local/lib/python3.7/dist-packages (from pandas>=0.24->yfinance) (2018.9)\n",
            "Requirement already satisfied: python-dateutil>=2.7.3 in /usr/local/lib/python3.7/dist-packages (from pandas>=0.24->yfinance) (2.8.2)\n",
            "Requirement already satisfied: six>=1.5 in /usr/local/lib/python3.7/dist-packages (from python-dateutil>=2.7.3->pandas>=0.24->yfinance) (1.15.0)\n",
            "Requirement already satisfied: certifi>=2017.4.17 in /usr/local/lib/python3.7/dist-packages (from requests>=2.20->yfinance) (2021.5.30)\n",
            "Requirement already satisfied: urllib3!=1.25.0,!=1.25.1,<1.26,>=1.21.1 in /usr/local/lib/python3.7/dist-packages (from requests>=2.20->yfinance) (1.24.3)\n",
            "Requirement already satisfied: idna<3,>=2.5 in /usr/local/lib/python3.7/dist-packages (from requests>=2.20->yfinance) (2.10)\n",
            "Requirement already satisfied: chardet<4,>=3.0.2 in /usr/local/lib/python3.7/dist-packages (from requests>=2.20->yfinance) (3.0.4)\n",
            "Building wheels for collected packages: yfinance\n",
            "  Building wheel for yfinance (setup.py) ... \u001b[?25l\u001b[?25hdone\n",
            "  Created wheel for yfinance: filename=yfinance-0.1.63-py2.py3-none-any.whl size=23918 sha256=8808205ae3b078e52a2677223db0f5823346fde5edbe5a217b77de6dfb5640a3\n",
            "  Stored in directory: /root/.cache/pip/wheels/fe/87/8b/7ec24486e001d3926537f5f7801f57a74d181be25b11157983\n",
            "Successfully built yfinance\n",
            "Installing collected packages: lxml, yfinance\n",
            "  Attempting uninstall: lxml\n",
            "    Found existing installation: lxml 4.2.6\n",
            "    Uninstalling lxml-4.2.6:\n",
            "      Successfully uninstalled lxml-4.2.6\n",
            "Successfully installed lxml-4.6.3 yfinance-0.1.63\n"
          ]
        }
      ]
    },
    {
      "cell_type": "code",
      "metadata": {
        "id": "x9fb_3mBhOLy"
      },
      "source": [
        "import pandas as pd\n",
        "import numpy as np\n",
        "import vectorbt as vbt\n",
        "from datetime import timedelta"
      ],
      "execution_count": 2,
      "outputs": []
    },
    {
      "cell_type": "code",
      "metadata": {
        "colab": {
          "base_uri": "https://localhost:8080/"
        },
        "id": "VWy3JoyyhOL3",
        "outputId": "f465d69f-1545-4f8c-ce55-eba7f75991c6"
      },
      "source": [
        "# Generate sample price\n",
        "price_idx = pd.date_range('2018-01-01 12:00:00', periods=48, freq='H')\n",
        "np.random.seed(42)\n",
        "price = pd.Series(np.random.uniform(size=price_idx.shape), index=price_idx)\n",
        "print(price)"
      ],
      "execution_count": 3,
      "outputs": [
        {
          "output_type": "stream",
          "name": "stdout",
          "text": [
            "2018-01-01 12:00:00    0.374540\n",
            "2018-01-01 13:00:00    0.950714\n",
            "2018-01-01 14:00:00    0.731994\n",
            "2018-01-01 15:00:00    0.598658\n",
            "2018-01-01 16:00:00    0.156019\n",
            "2018-01-01 17:00:00    0.155995\n",
            "2018-01-01 18:00:00    0.058084\n",
            "2018-01-01 19:00:00    0.866176\n",
            "2018-01-01 20:00:00    0.601115\n",
            "2018-01-01 21:00:00    0.708073\n",
            "2018-01-01 22:00:00    0.020584\n",
            "2018-01-01 23:00:00    0.969910\n",
            "2018-01-02 00:00:00    0.832443\n",
            "2018-01-02 01:00:00    0.212339\n",
            "2018-01-02 02:00:00    0.181825\n",
            "2018-01-02 03:00:00    0.183405\n",
            "2018-01-02 04:00:00    0.304242\n",
            "2018-01-02 05:00:00    0.524756\n",
            "2018-01-02 06:00:00    0.431945\n",
            "2018-01-02 07:00:00    0.291229\n",
            "2018-01-02 08:00:00    0.611853\n",
            "2018-01-02 09:00:00    0.139494\n",
            "2018-01-02 10:00:00    0.292145\n",
            "2018-01-02 11:00:00    0.366362\n",
            "2018-01-02 12:00:00    0.456070\n",
            "2018-01-02 13:00:00    0.785176\n",
            "2018-01-02 14:00:00    0.199674\n",
            "2018-01-02 15:00:00    0.514234\n",
            "2018-01-02 16:00:00    0.592415\n",
            "2018-01-02 17:00:00    0.046450\n",
            "2018-01-02 18:00:00    0.607545\n",
            "2018-01-02 19:00:00    0.170524\n",
            "2018-01-02 20:00:00    0.065052\n",
            "2018-01-02 21:00:00    0.948886\n",
            "2018-01-02 22:00:00    0.965632\n",
            "2018-01-02 23:00:00    0.808397\n",
            "2018-01-03 00:00:00    0.304614\n",
            "2018-01-03 01:00:00    0.097672\n",
            "2018-01-03 02:00:00    0.684233\n",
            "2018-01-03 03:00:00    0.440152\n",
            "2018-01-03 04:00:00    0.122038\n",
            "2018-01-03 05:00:00    0.495177\n",
            "2018-01-03 06:00:00    0.034389\n",
            "2018-01-03 07:00:00    0.909320\n",
            "2018-01-03 08:00:00    0.258780\n",
            "2018-01-03 09:00:00    0.662522\n",
            "2018-01-03 10:00:00    0.311711\n",
            "2018-01-03 11:00:00    0.520068\n",
            "Freq: H, dtype: float64\n"
          ]
        }
      ]
    },
    {
      "cell_type": "code",
      "metadata": {
        "colab": {
          "base_uri": "https://localhost:8080/"
        },
        "id": "oPf0HSD_hOL-",
        "outputId": "e18881b8-bda6-4cde-ca81-5cf0ab00f054"
      },
      "source": [
        "# Sessions must be equal - fill missing dates\n",
        "# Fill on first date before 12:00 and on last date after 11:00\n",
        "first_date = price.index[0].date()\n",
        "last_date = price.index[-1].date()+timedelta(days=1)\n",
        "filled_idx = pd.date_range(first_date, last_date, freq='H')\n",
        "filled_price = price.reindex(filled_idx)\n",
        "print(filled_price)"
      ],
      "execution_count": 4,
      "outputs": [
        {
          "output_type": "stream",
          "name": "stdout",
          "text": [
            "2018-01-01 00:00:00   NaN\n",
            "2018-01-01 01:00:00   NaN\n",
            "2018-01-01 02:00:00   NaN\n",
            "2018-01-01 03:00:00   NaN\n",
            "2018-01-01 04:00:00   NaN\n",
            "                       ..\n",
            "2018-01-03 20:00:00   NaN\n",
            "2018-01-03 21:00:00   NaN\n",
            "2018-01-03 22:00:00   NaN\n",
            "2018-01-03 23:00:00   NaN\n",
            "2018-01-04 00:00:00   NaN\n",
            "Freq: H, Length: 73, dtype: float64\n"
          ]
        }
      ]
    },
    {
      "cell_type": "code",
      "metadata": {
        "colab": {
          "base_uri": "https://localhost:8080/"
        },
        "id": "c-Ur4VKqhOL_",
        "outputId": "7e4cfea5-ec2b-4a4d-dd80-c9f6a34adcab"
      },
      "source": [
        "# Remove dates that are outside of trading sessions\n",
        "session_price_idx = filled_price.between_time('9:00', '17:00', include_end=False).index\n",
        "session_price = filled_price.loc[session_price_idx]\n",
        "print(session_price)"
      ],
      "execution_count": 5,
      "outputs": [
        {
          "output_type": "stream",
          "name": "stdout",
          "text": [
            "2018-01-01 09:00:00         NaN\n",
            "2018-01-01 10:00:00         NaN\n",
            "2018-01-01 11:00:00         NaN\n",
            "2018-01-01 12:00:00    0.374540\n",
            "2018-01-01 13:00:00    0.950714\n",
            "2018-01-01 14:00:00    0.731994\n",
            "2018-01-01 15:00:00    0.598658\n",
            "2018-01-01 16:00:00    0.156019\n",
            "2018-01-02 09:00:00    0.139494\n",
            "2018-01-02 10:00:00    0.292145\n",
            "2018-01-02 11:00:00    0.366362\n",
            "2018-01-02 12:00:00    0.456070\n",
            "2018-01-02 13:00:00    0.785176\n",
            "2018-01-02 14:00:00    0.199674\n",
            "2018-01-02 15:00:00    0.514234\n",
            "2018-01-02 16:00:00    0.592415\n",
            "2018-01-03 09:00:00    0.662522\n",
            "2018-01-03 10:00:00    0.311711\n",
            "2018-01-03 11:00:00    0.520068\n",
            "2018-01-03 12:00:00         NaN\n",
            "2018-01-03 13:00:00         NaN\n",
            "2018-01-03 14:00:00         NaN\n",
            "2018-01-03 15:00:00         NaN\n",
            "2018-01-03 16:00:00         NaN\n",
            "dtype: float64\n"
          ]
        }
      ]
    },
    {
      "cell_type": "code",
      "metadata": {
        "colab": {
          "base_uri": "https://localhost:8080/"
        },
        "id": "lyTFQMEOhOMA",
        "outputId": "cf4c04ab-1f06-4aee-d3aa-f47fd7bf24b2"
      },
      "source": [
        "# Select first and last ticks of each trading session and split price into ranges between those ticks\n",
        "start_idxs = session_price.index[session_price.index.hour == 9]\n",
        "end_idxs = session_price.index[session_price.index.hour == 16]\n",
        "price_per_session, _ = session_price.vbt(freq='1H').range_split(start_idxs=start_idxs, end_idxs=end_idxs)\n",
        "print(price_per_session)"
      ],
      "execution_count": 6,
      "outputs": [
        {
          "output_type": "stream",
          "name": "stdout",
          "text": [
            "split_idx         0         1         2\n",
            "0               NaN  0.139494  0.662522\n",
            "1               NaN  0.292145  0.311711\n",
            "2               NaN  0.366362  0.520068\n",
            "3          0.374540  0.456070       NaN\n",
            "4          0.950714  0.785176       NaN\n",
            "5          0.731994  0.199674       NaN\n",
            "6          0.598658  0.514234       NaN\n",
            "7          0.156019  0.592415       NaN\n"
          ]
        }
      ]
    },
    {
      "cell_type": "code",
      "metadata": {
        "colab": {
          "base_uri": "https://localhost:8080/"
        },
        "id": "znfgKwtVhOMB",
        "outputId": "9663de24-ca02-43c7-95fd-631f22d7348c"
      },
      "source": [
        "# Run your strategy (here using random signals)\n",
        "entries, exits = pd.DataFrame.vbt.signals.generate_random_both(price_per_session.shape, n=2, seed=42)\n",
        "pf = vbt.Portfolio.from_signals(price_per_session, entries, exits, freq='1H')\n",
        "print(pf.total_return())"
      ],
      "execution_count": 7,
      "outputs": [
        {
          "output_type": "stream",
          "name": "stdout",
          "text": [
            "0   -0.786858\n",
            "1    1.466807\n",
            "2   -0.529509\n",
            "Name: total_return, dtype: float64\n"
          ]
        }
      ]
    },
    {
      "cell_type": "code",
      "metadata": {
        "id": "Nn7y-_y6hOMC"
      },
      "source": [
        ""
      ],
      "execution_count": null,
      "outputs": []
    }
  ]
}