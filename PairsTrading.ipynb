{
  "nbformat": 4,
  "nbformat_minor": 0,
  "metadata": {
    "kernelspec": {
      "display_name": "Python 3 (ipykernel)",
      "language": "python",
      "name": "python3"
    },
    "language_info": {
      "codemirror_mode": {
        "name": "ipython",
        "version": 3
      },
      "file_extension": ".py",
      "mimetype": "text/x-python",
      "name": "python",
      "nbconvert_exporter": "python",
      "pygments_lexer": "ipython3",
      "version": "3.7.3"
    },
    "colab": {
      "name": "PairsTrading.ipynb",
      "provenance": [],
      "include_colab_link": true
    }
  },
  "cells": [
    {
      "cell_type": "markdown",
      "metadata": {
        "id": "view-in-github",
        "colab_type": "text"
      },
      "source": [
        "<a href=\"https://colab.research.google.com/github/j0el/stock/blob/main/PairsTrading.ipynb\" target=\"_parent\"><img src=\"https://colab.research.google.com/assets/colab-badge.svg\" alt=\"Open In Colab\"/></a>"
      ]
    },
    {
      "cell_type": "markdown",
      "metadata": {
        "id": "8qDtq3QueWyR"
      },
      "source": [
        "In this example, we will compare development of a pairs trading strategy using backtrader and vectorbt."
      ]
    },
    {
      "cell_type": "code",
      "metadata": {
        "id": "u3SX64Q1eg3V"
      },
      "source": [
        "#!pip install yfinance\n",
        "#!pip install vectorbt\n",
        "#!pip install backtrader"
      ],
      "execution_count": 15,
      "outputs": []
    },
    {
      "cell_type": "code",
      "metadata": {
        "id": "ZufQFaIueWyV"
      },
      "source": [
        "import numpy as np\n",
        "import pandas as pd\n",
        "import datetime\n",
        "import collections\n",
        "import math\n",
        "import pytz"
      ],
      "execution_count": 16,
      "outputs": []
    },
    {
      "cell_type": "code",
      "metadata": {
        "id": "U43RdBTWeWyX"
      },
      "source": [
        "import scipy.stats as st\n",
        "\n",
        "SYMBOL1 = 'PEP'\n",
        "SYMBOL2 = 'KO'\n",
        "FROMDATE = datetime.datetime(2017, 1, 1, tzinfo=pytz.utc)\n",
        "TODATE = datetime.datetime(2019, 1, 1, tzinfo=pytz.utc)\n",
        "PERIOD = 100\n",
        "CASH = 100000\n",
        "COMMPERC = 0.005  # 0.5%\n",
        "ORDER_PCT1 = 0.1\n",
        "ORDER_PCT2 = 0.1\n",
        "UPPER = st.norm.ppf(1 - 0.05 / 2)\n",
        "LOWER = -st.norm.ppf(1 - 0.05 / 2)\n",
        "MODE = 'OLS'  # OLS, log_return"
      ],
      "execution_count": 17,
      "outputs": []
    },
    {
      "cell_type": "markdown",
      "metadata": {
        "id": "zM8xCo5YeWyY"
      },
      "source": [
        "## Data"
      ]
    },
    {
      "cell_type": "code",
      "metadata": {
        "id": "N2uqRAnOeWyY"
      },
      "source": [
        "import vectorbt as vbt\n",
        "\n",
        "start_date = FROMDATE.replace(tzinfo=pytz.utc)\n",
        "end_date = TODATE.replace(tzinfo=pytz.utc)\n",
        "data = vbt.YFData.download([SYMBOL1, SYMBOL2], start=start_date, end=end_date)\n",
        "data = data.loc[(data.wrapper.index >= start_date) & (data.wrapper.index < end_date)]"
      ],
      "execution_count": 18,
      "outputs": []
    },
    {
      "cell_type": "code",
      "metadata": {
        "colab": {
          "base_uri": "https://localhost:8080/"
        },
        "id": "1Wnu99lIeWyZ",
        "outputId": "86638a78-32f7-4a0b-c465-56beb6c79a2d"
      },
      "source": [
        "print(data.data[SYMBOL1].iloc[[0, -1]])\n",
        "print(data.data[SYMBOL2].iloc[[0, -1]])"
      ],
      "execution_count": 19,
      "outputs": [
        {
          "output_type": "stream",
          "name": "stdout",
          "text": [
            "                                 Open        High  ...  Dividends  Stock Splits\n",
            "Date                                               ...                         \n",
            "2017-01-03 00:00:00+00:00   91.831129   91.962386  ...        0.0             0\n",
            "2018-12-31 00:00:00+00:00  102.775161  103.249160  ...        0.0             0\n",
            "\n",
            "[2 rows x 7 columns]\n",
            "                                Open       High  ...  Dividends  Stock Splits\n",
            "Date                                             ...                         \n",
            "2017-01-03 00:00:00+00:00  35.801111  36.068542  ...        0.0             0\n",
            "2018-12-31 00:00:00+00:00  43.810820  43.856946  ...        0.0             0\n",
            "\n",
            "[2 rows x 7 columns]\n"
          ]
        }
      ]
    },
    {
      "cell_type": "markdown",
      "metadata": {
        "id": "-CxmVDNjeWya"
      },
      "source": [
        "## backtrader"
      ]
    },
    {
      "cell_type": "markdown",
      "metadata": {
        "id": "9guqToYxeWyb"
      },
      "source": [
        "Adapted version of https://github.com/mementum/backtrader/blob/master/contrib/samples/pair-trading/pair-trading.py"
      ]
    },
    {
      "cell_type": "code",
      "metadata": {
        "id": "AUxbGjjHeWyc"
      },
      "source": [
        "import backtrader as bt\n",
        "import backtrader.feeds as btfeeds\n",
        "import backtrader.indicators as btind\n",
        "\n",
        "class CommInfoFloat(bt.CommInfoBase):\n",
        "    \"\"\"Commission schema that keeps size as float.\"\"\"\n",
        "    params = (\n",
        "        ('stocklike', True),\n",
        "        ('commtype', bt.CommInfoBase.COMM_PERC),\n",
        "        ('percabs', True),\n",
        "      )\n",
        "    \n",
        "    def getsize(self, price, cash):\n",
        "        if not self._stocklike:\n",
        "            return self.p.leverage * (cash / self.get_margin(price))\n",
        "\n",
        "        return self.p.leverage * (cash / price)\n",
        "    \n",
        "class OLSSlopeIntercept(btind.PeriodN):\n",
        "    \"\"\"Calculates a linear regression using OLS.\"\"\"\n",
        "    _mindatas = 2  # ensure at least 2 data feeds are passed\n",
        "\n",
        "    packages = (\n",
        "        ('pandas', 'pd'),\n",
        "        ('statsmodels.api', 'sm'),\n",
        "    )\n",
        "    lines = ('slope', 'intercept',)\n",
        "    params = (\n",
        "        ('period', 10),\n",
        "    )\n",
        "\n",
        "    def next(self):\n",
        "        p0 = pd.Series(self.data0.get(size=self.p.period))\n",
        "        p1 = pd.Series(self.data1.get(size=self.p.period))\n",
        "        p1 = sm.add_constant(p1)\n",
        "        intercept, slope = sm.OLS(p0, p1).fit().params\n",
        "\n",
        "        self.lines.slope[0] = slope\n",
        "        self.lines.intercept[0] = intercept\n",
        "        \n",
        "        \n",
        "class Log(btind.Indicator):\n",
        "    \"\"\"Calculates log.\"\"\"\n",
        "    lines = ('log',)\n",
        "    \n",
        "    def next(self):\n",
        "        self.l.log[0] = math.log(self.data[0])\n",
        "\n",
        "\n",
        "class OLSSpread(btind.PeriodN):\n",
        "    \"\"\"Calculates the z-score of the OLS spread.\"\"\"\n",
        "    _mindatas = 2  # ensure at least 2 data feeds are passed\n",
        "    lines = ('spread', 'spread_mean', 'spread_std', 'zscore',)\n",
        "    params = (('period', 10),)\n",
        "\n",
        "    def __init__(self):\n",
        "        data0_log = Log(self.data0)\n",
        "        data1_log = Log(self.data1)\n",
        "        slint = OLSSlopeIntercept(data0_log, data1_log, period=self.p.period)\n",
        "\n",
        "        spread = data0_log - (slint.slope * data1_log + slint.intercept)\n",
        "        self.l.spread = spread\n",
        "\n",
        "        self.l.spread_mean = bt.ind.SMA(spread, period=self.p.period)\n",
        "        self.l.spread_std = bt.ind.StdDev(spread, period=self.p.period)\n",
        "        self.l.zscore = (spread - self.l.spread_mean) / self.l.spread_std\n",
        "    \n",
        "class LogReturns(btind.PeriodN):\n",
        "    \"\"\"Calculates the log returns.\"\"\"\n",
        "    lines = ('logret',)\n",
        "    params = (('period', 1),)\n",
        "    \n",
        "    def __init__(self):\n",
        "        self.addminperiod(self.p.period + 1)\n",
        "    \n",
        "    def next(self):\n",
        "        self.l.logret[0] = math.log(self.data[0] / self.data[-self.p.period])\n",
        "    \n",
        "class LogReturnSpread(btind.PeriodN):\n",
        "    \"\"\"Calculates the spread of the log returns.\"\"\"\n",
        "    _mindatas = 2  # ensure at least 2 data feeds are passed\n",
        "    lines = ('logret0', 'logret1', 'spread', 'spread_mean', 'spread_std', 'zscore',)\n",
        "    params = (('period', 10),)\n",
        "\n",
        "    def __init__(self):\n",
        "        self.l.logret0 = LogReturns(self.data0, period=1)\n",
        "        self.l.logret1 = LogReturns(self.data1, period=1)\n",
        "        self.l.spread = self.l.logret0 - self.l.logret1\n",
        "        self.l.spread_mean = bt.ind.SMA(self.l.spread, period=self.p.period)\n",
        "        self.l.spread_std = bt.ind.StdDev(self.l.spread, period=self.p.period)\n",
        "        self.l.zscore = (self.l.spread - self.l.spread_mean) / self.l.spread_std\n",
        "\n",
        "class PairTradingStrategy(bt.Strategy):\n",
        "    \"\"\"Basic pair trading strategy.\"\"\"\n",
        "    params = dict(\n",
        "        period=PERIOD,\n",
        "        order_pct1=ORDER_PCT1,\n",
        "        order_pct2=ORDER_PCT2,\n",
        "        printout=True,\n",
        "        upper=UPPER,\n",
        "        lower=LOWER,\n",
        "        mode=MODE\n",
        "    )\n",
        "\n",
        "    def log(self, txt, dt=None):\n",
        "        if self.p.printout:\n",
        "            dt = dt or self.data.datetime[0]\n",
        "            dt = bt.num2date(dt)\n",
        "            print('%s, %s' % (dt.isoformat(), txt))\n",
        "\n",
        "    def notify_order(self, order):\n",
        "        if order.status in [bt.Order.Submitted, bt.Order.Accepted]:\n",
        "            return  # Await further notifications\n",
        "\n",
        "        if order.status == order.Completed:\n",
        "            if order.isbuy():\n",
        "                buytxt = 'BUY COMPLETE {}, size = {:.2f}, price = {:.2f}'.format(\n",
        "                    order.data._name, order.executed.size, order.executed.price)\n",
        "                self.log(buytxt, order.executed.dt)\n",
        "            else:\n",
        "                selltxt = 'SELL COMPLETE {}, size = {:.2f}, price = {:.2f}'.format(\n",
        "                    order.data._name, order.executed.size, order.executed.price)\n",
        "                self.log(selltxt, order.executed.dt)\n",
        "\n",
        "        elif order.status in [order.Expired, order.Canceled, order.Margin]:\n",
        "            self.log('%s ,' % order.Status[order.status])\n",
        "            pass  # Simply log\n",
        "\n",
        "        # Allow new orders\n",
        "        self.orderid = None\n",
        "\n",
        "    def __init__(self):\n",
        "        # To control operation entries\n",
        "        self.orderid = None\n",
        "        self.order_pct1 = self.p.order_pct1\n",
        "        self.order_pct2 = self.p.order_pct2\n",
        "        self.upper = self.p.upper\n",
        "        self.lower = self.p.lower\n",
        "        self.status = 0\n",
        "        \n",
        "        # Signals performed with PD.OLS :\n",
        "        if self.p.mode == 'log_return':\n",
        "            self.transform = LogReturnSpread(self.data0, self.data1, period=self.p.period)\n",
        "        elif self.p.mode == 'OLS':\n",
        "            self.transform = OLSSpread(self.data0, self.data1, period=self.p.period)\n",
        "        else:\n",
        "            raise ValueError(\"Unknown mode\")\n",
        "        self.spread = self.transform.spread\n",
        "        self.zscore = self.transform.zscore\n",
        "        \n",
        "        # For tracking\n",
        "        self.spread_sr = pd.Series(dtype=float, name='spread')\n",
        "        self.zscore_sr = pd.Series(dtype=float, name='zscore')\n",
        "        self.short_signal_sr = pd.Series(dtype=bool, name='short_signals')\n",
        "        self.long_signal_sr = pd.Series(dtype=bool, name='long_signals')\n",
        "\n",
        "    def next(self):\n",
        "        if self.orderid:\n",
        "            return  # if an order is active, no new orders are allowed\n",
        "        \n",
        "        self.spread_sr[self.data0.datetime.datetime()] = self.spread[0]\n",
        "        self.zscore_sr[self.data0.datetime.datetime()] = self.zscore[0]\n",
        "        self.short_signal_sr[self.data0.datetime.datetime()] = False\n",
        "        self.long_signal_sr[self.data0.datetime.datetime()] = False\n",
        "\n",
        "        if self.zscore[0] > self.upper and self.status != 1:\n",
        "            # Check conditions for shorting the spread & place the order\n",
        "            self.short_signal_sr[self.data0.datetime.datetime()] = True\n",
        "\n",
        "            # Placing the order\n",
        "            self.log('SELL CREATE {}, price = {:.2f}, target pct = {:.2%}'.format(\n",
        "                self.data0._name, self.data0.close[0], -self.order_pct1))\n",
        "            self.order_target_percent(data=self.data0, target=-self.order_pct1)\n",
        "            self.log('BUY CREATE {}, price = {:.2f}, target pct = {:.2%}'.format(\n",
        "                self.data1._name, self.data1.close[0], self.order_pct2))\n",
        "            self.order_target_percent(data=self.data1, target=self.order_pct2)\n",
        "\n",
        "            self.status = 1\n",
        "\n",
        "        elif self.zscore[0] < self.lower and self.status != 2:\n",
        "            # Check conditions for longing the spread & place the order\n",
        "            self.long_signal_sr[self.data0.datetime.datetime()] = True\n",
        "\n",
        "            # Place the order\n",
        "            self.log('SELL CREATE {}, price = {:.2f}, target pct = {:.2%}'.format(\n",
        "                self.data1._name, self.data1.close[0], -self.order_pct2))\n",
        "            self.order_target_percent(data=self.data1, target=-self.order_pct2)\n",
        "            self.log('BUY CREATE {}, price = {:.2f}, target pct = {:.2%}'.format(\n",
        "                self.data0._name, self.data0.close[0], self.order_pct1))\n",
        "            self.order_target_percent(data=self.data0, target=self.order_pct1)\n",
        "                     \n",
        "            self.status = 2\n",
        "\n",
        "    def stop(self):\n",
        "        if self.p.printout:\n",
        "            print('==================================================')\n",
        "            print('Starting Value - %.2f' % self.broker.startingcash)\n",
        "            print('Ending   Value - %.2f' % self.broker.getvalue())\n",
        "            print('==================================================')"
      ],
      "execution_count": 20,
      "outputs": []
    },
    {
      "cell_type": "code",
      "metadata": {
        "id": "LsowxesmeWyf"
      },
      "source": [
        "class DataAnalyzer(bt.analyzers.Analyzer):\n",
        "    \"\"\"Analyzer to extract OHLCV.\"\"\"\n",
        "    def create_analysis(self):\n",
        "        self.rets0 = {}\n",
        "        self.rets1 = {}\n",
        "\n",
        "    def next(self):\n",
        "        self.rets0[self.strategy.datetime.datetime()] = [\n",
        "            self.data0.open[0],\n",
        "            self.data0.high[0],\n",
        "            self.data0.low[0],\n",
        "            self.data0.close[0],\n",
        "            self.data0.volume[0]\n",
        "        ]\n",
        "        self.rets1[self.strategy.datetime.datetime()] = [\n",
        "            self.data1.open[0],\n",
        "            self.data1.high[0],\n",
        "            self.data1.low[0],\n",
        "            self.data1.close[0],\n",
        "            self.data1.volume[0]\n",
        "        ]\n",
        "\n",
        "    def get_analysis(self):\n",
        "        return self.rets0, self.rets1\n",
        "\n",
        "class CashValueAnalyzer(bt.analyzers.Analyzer):\n",
        "    \"\"\"Analyzer to extract cash and value.\"\"\"\n",
        "    def create_analysis(self):\n",
        "        self.rets = {}\n",
        "\n",
        "    def notify_cashvalue(self, cash, value):\n",
        "        self.rets[self.strategy.datetime.datetime()] = (cash, value)\n",
        "\n",
        "    def get_analysis(self):\n",
        "        return self.rets\n",
        "    \n",
        "class OrderAnalyzer(bt.analyzers.Analyzer):\n",
        "    \"\"\"Analyzer to extract order price, size, value, and paid commission.\"\"\"\n",
        "    def create_analysis(self):\n",
        "        self.rets0 = {}\n",
        "        self.rets1 = {}\n",
        "\n",
        "    def notify_order(self, order):\n",
        "        if order.status == order.Completed:\n",
        "            if order.data._name == SYMBOL1:\n",
        "                rets = self.rets0\n",
        "            else:\n",
        "                rets = self.rets1\n",
        "            rets[self.strategy.datetime.datetime()] = (\n",
        "                order.executed.price,\n",
        "                order.executed.size,\n",
        "                -order.executed.size * order.executed.price,\n",
        "                order.executed.comm\n",
        "            )\n",
        "\n",
        "    def get_analysis(self):\n",
        "        return self.rets0, self.rets1"
      ],
      "execution_count": 21,
      "outputs": []
    },
    {
      "cell_type": "code",
      "metadata": {
        "id": "Md-5BFWdeWyg"
      },
      "source": [
        "def prepare_cerebro(data0, data1, use_analyzers=True, **params):\n",
        "    # Create a cerebro\n",
        "    cerebro = bt.Cerebro()\n",
        "\n",
        "    # Add the 1st data to cerebro\n",
        "    cerebro.adddata(data0)\n",
        "\n",
        "    # Add the 2nd data to cerebro\n",
        "    cerebro.adddata(data1)\n",
        "\n",
        "    # Add the strategy\n",
        "    cerebro.addstrategy(PairTradingStrategy, **params)\n",
        "\n",
        "    # Add the commission - only stocks like a for each operation\n",
        "    cerebro.broker.setcash(CASH)\n",
        "\n",
        "    # Add the commission - only stocks like a for each operation\n",
        "    comminfo = CommInfoFloat(commission=COMMPERC)\n",
        "    cerebro.broker.addcommissioninfo(comminfo)\n",
        "\n",
        "    if use_analyzers:\n",
        "        # Add analyzers    \n",
        "        cerebro.addanalyzer(DataAnalyzer)\n",
        "        cerebro.addanalyzer(CashValueAnalyzer)\n",
        "        cerebro.addanalyzer(OrderAnalyzer)\n",
        "    \n",
        "    return cerebro"
      ],
      "execution_count": 22,
      "outputs": []
    },
    {
      "cell_type": "code",
      "metadata": {
        "id": "XGwG_gPGeWyh"
      },
      "source": [
        "class PandasData(btfeeds.PandasData):\n",
        "    params = (\n",
        "        # Possible values for datetime (must always be present)\n",
        "        #  None : datetime is the \"index\" in the Pandas Dataframe\n",
        "        #  -1 : autodetect position or case-wise equal name\n",
        "        #  >= 0 : numeric index to the colum in the pandas dataframe\n",
        "        #  string : column name (as index) in the pandas dataframe\n",
        "        ('datetime', None),\n",
        "\n",
        "        ('open', 'Open'),\n",
        "        ('high', 'High'),\n",
        "        ('low', 'Low'),\n",
        "        ('close', 'Close'),\n",
        "        ('volume', 'Volume'),\n",
        "        ('openinterest', None),\n",
        "    )"
      ],
      "execution_count": 23,
      "outputs": []
    },
    {
      "cell_type": "code",
      "metadata": {
        "colab": {
          "base_uri": "https://localhost:8080/"
        },
        "id": "tIIPUgQbeWyi",
        "outputId": "6a3d7286-b089-421a-f44b-b4f9ecf07855"
      },
      "source": [
        "# Create the 1st data\n",
        "data0 = PandasData(dataname=data.data[SYMBOL1], name=SYMBOL1)\n",
        "\n",
        "# Create the 2nd data\n",
        "data1 = PandasData(dataname=data.data[SYMBOL2], name=SYMBOL2)\n",
        "\n",
        "# Prepare a cerebro\n",
        "cerebro = prepare_cerebro(data0, data1)\n",
        "\n",
        "# And run it\n",
        "bt_strategy = cerebro.run()[0]"
      ],
      "execution_count": 24,
      "outputs": [
        {
          "output_type": "stream",
          "name": "stderr",
          "text": [
            "/usr/local/lib/python3.7/dist-packages/statsmodels/tools/_testing.py:19: FutureWarning: pandas.util.testing is deprecated. Use the functions in the public API at pandas.testing instead.\n",
            "  import pandas.util.testing as tm\n"
          ]
        },
        {
          "output_type": "stream",
          "name": "stdout",
          "text": [
            "2017-11-14T00:00:00, SELL CREATE PEP, price = 103.41, target pct = -10.00%\n",
            "2017-11-14T00:00:00, BUY CREATE KO, price = 41.95, target pct = 10.00%\n",
            "2017-11-15T00:00:00, SELL COMPLETE PEP, size = -96.70, price = 103.32\n",
            "2017-11-15T00:00:00, BUY COMPLETE KO, size = 238.39, price = 41.85\n",
            "2018-04-11T00:00:00, SELL CREATE KO, price = 39.57, target pct = -10.00%\n",
            "2018-04-11T00:00:00, BUY CREATE PEP, price = 98.49, target pct = 10.00%\n",
            "2018-04-12T00:00:00, SELL COMPLETE KO, size = -490.65, price = 39.65\n",
            "2018-04-12T00:00:00, BUY COMPLETE PEP, size = 198.06, price = 98.74\n",
            "2018-08-31T00:00:00, SELL CREATE PEP, price = 102.44, target pct = -10.00%\n",
            "2018-08-31T00:00:00, BUY CREATE KO, price = 40.45, target pct = 10.00%\n",
            "2018-09-04T00:00:00, SELL COMPLETE PEP, size = -198.78, price = 102.26\n",
            "2018-09-04T00:00:00, BUY COMPLETE KO, size = 498.98, price = 40.48\n",
            "2018-10-02T00:00:00, SELL CREATE KO, price = 42.57, target pct = -10.00%\n",
            "2018-10-02T00:00:00, BUY CREATE PEP, price = 100.25, target pct = 10.00%\n",
            "2018-10-03T00:00:00, SELL COMPLETE KO, size = -482.28, price = 42.52\n",
            "2018-10-03T00:00:00, BUY COMPLETE PEP, size = 197.45, price = 100.70\n",
            "2018-11-30T00:00:00, SELL CREATE PEP, price = 112.44, target pct = -10.00%\n",
            "2018-11-30T00:00:00, BUY CREATE KO, price = 46.50, target pct = 10.00%\n",
            "2018-12-03T00:00:00, SELL COMPLETE PEP, size = -189.20, price = 111.09\n",
            "2018-12-03T00:00:00, BUY COMPLETE KO, size = 451.21, price = 46.01\n",
            "==================================================\n",
            "Starting Value - 100000.00\n",
            "Ending   Value - 100284.08\n",
            "==================================================\n"
          ]
        }
      ]
    },
    {
      "cell_type": "code",
      "metadata": {
        "colab": {
          "base_uri": "https://localhost:8080/",
          "height": 595
        },
        "id": "kfjhfTmMeWyj",
        "outputId": "436869f1-e878-4b2c-a3e5-82d881259827"
      },
      "source": [
        "%matplotlib inline\n",
        "import matplotlib.pyplot as plt\n",
        "\n",
        "plt.rcParams[\"figure.figsize\"] = (13, 8)\n",
        "cerebro.plot(iplot=False)"
      ],
      "execution_count": 25,
      "outputs": [
        {
          "output_type": "display_data",
          "data": {
            "image/png": "[encoded data removed]",
            "text/plain": [
              "<Figure size 936x576 with 7 Axes>"
            ]
          },
          "metadata": {
            "needs_background": "light"
          }
        },
        {
          "output_type": "execute_result",
          "data": {
            "text/plain": [
              "[[<Figure size 936x576 with 7 Axes>]]"
            ]
          },
          "metadata": {},
          "execution_count": 25
        }
      ]
    },
    {
      "cell_type": "code",
      "metadata": {
        "colab": {
          "base_uri": "https://localhost:8080/"
        },
        "id": "7MRm7kmYeWyj",
        "outputId": "b8ee983d-4d1b-4990-b38f-2e87b3dc9605"
      },
      "source": [
        "# Extract OHLCV\n",
        "bt_s1_rets, bt_s2_rets = bt_strategy.analyzers.dataanalyzer.get_analysis()\n",
        "data_cols = ['open', 'high', 'low', 'close', 'volume']\n",
        "bt_s1_ohlcv = pd.DataFrame.from_dict(bt_s1_rets, orient='index', columns=data_cols)\n",
        "bt_s2_ohlcv = pd.DataFrame.from_dict(bt_s2_rets, orient='index', columns=data_cols)\n",
        "\n",
        "print(bt_s1_ohlcv.shape)\n",
        "print(bt_s2_ohlcv.shape)\n",
        "\n",
        "print(bt_s1_ohlcv.iloc[[0, -1]])\n",
        "print(bt_s2_ohlcv.iloc[[0, -1]])"
      ],
      "execution_count": 26,
      "outputs": [
        {
          "output_type": "stream",
          "name": "stdout",
          "text": [
            "(502, 5)\n",
            "(502, 5)\n",
            "                  open        high         low       close     volume\n",
            "2017-01-03   91.831129   91.962386   91.192316   91.577354  3741200.0\n",
            "2018-12-31  102.775161  103.249160  101.604091  102.682220  5019100.0\n",
            "                 open       high        low      close      volume\n",
            "2017-01-03  35.801111  36.068542  35.611321  36.059914  14711000.0\n",
            "2018-12-31  43.810820  43.856946  43.321878  43.681664  10576300.0\n"
          ]
        }
      ]
    },
    {
      "cell_type": "code",
      "metadata": {
        "id": "YOixty3EeWyk"
      },
      "source": [
        "try:\n",
        "    np.testing.assert_allclose(bt_s1_ohlcv.values, data.data[SYMBOL1].iloc[:, :5].values)\n",
        "    np.testing.assert_allclose(bt_s2_ohlcv.values, data.data[SYMBOL2].iloc[:, :5].values)\n",
        "except AssertionError as e:\n",
        "    print(e)"
      ],
      "execution_count": 27,
      "outputs": []
    },
    {
      "cell_type": "code",
      "metadata": {
        "colab": {
          "base_uri": "https://localhost:8080/"
        },
        "id": "MdmDR2DveWyk",
        "outputId": "bf5bfb56-54f7-4a9b-b6d5-073d22d3b98d"
      },
      "source": [
        "# Extract cash and value series\n",
        "bt_cashvalue_rets = bt_strategy.analyzers.cashvalueanalyzer.get_analysis()\n",
        "bt_cashvalue_df = pd.DataFrame.from_dict(bt_cashvalue_rets, orient='index', columns=['cash', 'value'])\n",
        "bt_cash = bt_cashvalue_df['cash']\n",
        "bt_value = bt_cashvalue_df['value']\n",
        "\n",
        "print(bt_cash.iloc[[0, -1]])\n",
        "print(bt_value.iloc[[0, -1]])"
      ],
      "execution_count": 28,
      "outputs": [
        {
          "output_type": "stream",
          "name": "stdout",
          "text": [
            "2017-01-03    100000.000000\n",
            "2018-12-31    100020.682139\n",
            "Name: cash, dtype: float64\n",
            "2017-01-03    100000.000000\n",
            "2018-12-31    100284.081822\n",
            "Name: value, dtype: float64\n"
          ]
        }
      ]
    },
    {
      "cell_type": "code",
      "metadata": {
        "colab": {
          "base_uri": "https://localhost:8080/"
        },
        "id": "91Do7rjAeWyk",
        "outputId": "1d4a6103-6934-44d5-dcfb-c6c21f66b7ea"
      },
      "source": [
        "# Extract order info\n",
        "bt_s1_order_rets, bt_s2_order_rets = bt_strategy.analyzers.orderanalyzer.get_analysis()\n",
        "order_cols = ['order_price', 'order_size', 'order_value', 'order_comm']\n",
        "bt_s1_orders = pd.DataFrame.from_dict(bt_s1_order_rets, orient='index', columns=order_cols)\n",
        "bt_s2_orders = pd.DataFrame.from_dict(bt_s2_order_rets, orient='index', columns=order_cols)\n",
        "\n",
        "print(bt_s1_orders.iloc[[0, -1]])\n",
        "print(bt_s2_orders.iloc[[0, -1]])"
      ],
      "execution_count": 29,
      "outputs": [
        {
          "output_type": "stream",
          "name": "stdout",
          "text": [
            "            order_price  order_size   order_value  order_comm\n",
            "2017-11-15   103.316229  -96.698241   9990.497637   49.952488\n",
            "2018-12-03   111.094282 -189.202087  21019.269920  105.096350\n",
            "            order_price  order_size   order_value  order_comm\n",
            "2017-11-15    41.851497  238.385955  -9976.809115   49.884046\n",
            "2018-12-03    46.006429  451.211817 -20758.644494  103.793222\n"
          ]
        }
      ]
    },
    {
      "cell_type": "code",
      "metadata": {
        "colab": {
          "base_uri": "https://localhost:8080/"
        },
        "id": "0jot39q2eWyk",
        "outputId": "794c3ef9-4643-4ec8-a0c2-50c5cd671b28"
      },
      "source": [
        "# Extract spread and z-score\n",
        "bt_spread = bt_strategy.spread_sr\n",
        "bt_zscore = bt_strategy.zscore_sr\n",
        "\n",
        "print(bt_spread.iloc[[0, -1]])\n",
        "print(bt_zscore.iloc[[0, -1]])"
      ],
      "execution_count": 30,
      "outputs": [
        {
          "output_type": "stream",
          "name": "stdout",
          "text": [
            "2017-10-16   -0.009388\n",
            "2018-12-31   -0.021157\n",
            "Name: spread, dtype: float64\n",
            "2017-10-16    0.242706\n",
            "2018-12-31   -0.307914\n",
            "Name: zscore, dtype: float64\n"
          ]
        }
      ]
    },
    {
      "cell_type": "code",
      "metadata": {
        "colab": {
          "base_uri": "https://localhost:8080/"
        },
        "id": "83KqP4h5eWyl",
        "outputId": "38b12898-cbc9-4328-fbff-a9fd1fc26312"
      },
      "source": [
        "# Extract signals\n",
        "bt_short_signals = bt_strategy.short_signal_sr\n",
        "bt_long_signals = bt_strategy.long_signal_sr\n",
        "\n",
        "print(bt_short_signals[bt_short_signals])\n",
        "print(bt_long_signals[bt_long_signals])"
      ],
      "execution_count": 31,
      "outputs": [
        {
          "output_type": "stream",
          "name": "stdout",
          "text": [
            "2017-11-14    True\n",
            "2018-08-31    True\n",
            "2018-11-30    True\n",
            "Name: short_signals, dtype: bool\n",
            "2018-04-11    True\n",
            "2018-10-02    True\n",
            "Name: long_signals, dtype: bool\n"
          ]
        }
      ]
    },
    {
      "cell_type": "code",
      "metadata": {
        "colab": {
          "base_uri": "https://localhost:8080/"
        },
        "id": "WIMMx-MUeWyl",
        "outputId": "733300a8-da92-47bc-9a88-b0efe3b0d6e7"
      },
      "source": [
        "# How fast is bt?\n",
        "cerebro = prepare_cerebro(data0, data1, use_analyzers=False, printout=False)\n",
        "\n",
        "%timeit cerebro.run(preload=False)"
      ],
      "execution_count": 32,
      "outputs": [
        {
          "output_type": "stream",
          "name": "stdout",
          "text": [
            "1 loop, best of 5: 2.93 s per loop\n"
          ]
        }
      ]
    },
    {
      "cell_type": "markdown",
      "metadata": {
        "id": "oUnWUGjneWym"
      },
      "source": [
        "## vectorbt"
      ]
    },
    {
      "cell_type": "markdown",
      "metadata": {
        "id": "GOzLssJTeWym"
      },
      "source": [
        "### Using Portfolio.from_orders"
      ]
    },
    {
      "cell_type": "code",
      "metadata": {
        "id": "pbaIANTIeWym"
      },
      "source": [
        "from numba import njit\n",
        "\n",
        "@njit\n",
        "def rolling_logret_zscore_nb(a, b, period):\n",
        "    \"\"\"Calculate the log return spread.\"\"\"\n",
        "    spread = np.full_like(a, np.nan, dtype=np.float_)\n",
        "    spread[1:] = np.log(a[1:] / a[:-1]) - np.log(b[1:] / b[:-1])\n",
        "    zscore = np.full_like(a, np.nan, dtype=np.float_)\n",
        "    for i in range(a.shape[0]):\n",
        "        from_i = max(0, i + 1 - period)\n",
        "        to_i = i + 1\n",
        "        if i < period - 1:\n",
        "            continue\n",
        "        spread_mean = np.mean(spread[from_i:to_i])\n",
        "        spread_std = np.std(spread[from_i:to_i])\n",
        "        zscore[i] = (spread[i] - spread_mean) / spread_std\n",
        "    return spread, zscore\n",
        "\n",
        "@njit\n",
        "def ols_spread_nb(a, b):\n",
        "    \"\"\"Calculate the OLS spread.\"\"\"\n",
        "    a = np.log(a)\n",
        "    b = np.log(b)\n",
        "    _b = np.vstack((b, np.ones(len(b)))).T\n",
        "    slope, intercept = np.dot(np.linalg.inv(np.dot(_b.T, _b)), np.dot(_b.T, a))\n",
        "    spread = a - (slope * b + intercept)\n",
        "    return spread[-1]\n",
        "    \n",
        "@njit\n",
        "def rolling_ols_zscore_nb(a, b, period):\n",
        "    \"\"\"Calculate the z-score of the rolling OLS spread.\"\"\"\n",
        "    spread = np.full_like(a, np.nan, dtype=np.float_)\n",
        "    zscore = np.full_like(a, np.nan, dtype=np.float_)\n",
        "    for i in range(a.shape[0]):\n",
        "        from_i = max(0, i + 1 - period)\n",
        "        to_i = i + 1\n",
        "        if i < period - 1:\n",
        "            continue\n",
        "        spread[i] = ols_spread_nb(a[from_i:to_i], b[from_i:to_i])\n",
        "        spread_mean = np.mean(spread[from_i:to_i])\n",
        "        spread_std = np.std(spread[from_i:to_i])\n",
        "        zscore[i] = (spread[i] - spread_mean) / spread_std\n",
        "    return spread, zscore"
      ],
      "execution_count": 33,
      "outputs": []
    },
    {
      "cell_type": "code",
      "metadata": {
        "id": "a12CQa3meWym"
      },
      "source": [
        "# Calculate OLS z-score using Numba for a nice speedup\n",
        "if MODE == 'OLS':\n",
        "    vbt_spread, vbt_zscore = rolling_ols_zscore_nb(\n",
        "        bt_s1_ohlcv['close'].values, \n",
        "        bt_s2_ohlcv['close'].values, \n",
        "        PERIOD\n",
        "    )\n",
        "elif MODE == 'log_return':\n",
        "    vbt_spread, vbt_zscore = rolling_logret_zscore_nb(\n",
        "        bt_s1_ohlcv['close'].values, \n",
        "        bt_s2_ohlcv['close'].values, \n",
        "        PERIOD\n",
        "    )\n",
        "else:\n",
        "    raise ValueError(\"Unknown mode\")\n",
        "vbt_spread = pd.Series(vbt_spread, index=bt_s1_ohlcv.index, name='spread')\n",
        "vbt_zscore = pd.Series(vbt_zscore, index=bt_s1_ohlcv.index, name='zscore')"
      ],
      "execution_count": 34,
      "outputs": []
    },
    {
      "cell_type": "code",
      "metadata": {
        "id": "mV8B1JPReWyn"
      },
      "source": [
        "# Assert equality of bt and vbt z-score arrays\n",
        "pd.testing.assert_series_equal(bt_spread, vbt_spread[bt_spread.index])\n",
        "pd.testing.assert_series_equal(bt_zscore, vbt_zscore[bt_zscore.index])"
      ],
      "execution_count": 35,
      "outputs": []
    },
    {
      "cell_type": "code",
      "metadata": {
        "id": "3RsXo7DFeWyn"
      },
      "source": [
        "# Generate short and long spread signals\n",
        "vbt_short_signals = (vbt_zscore > UPPER).rename('short_signals')\n",
        "vbt_long_signals = (vbt_zscore < LOWER).rename('long_signals')"
      ],
      "execution_count": 36,
      "outputs": []
    },
    {
      "cell_type": "code",
      "metadata": {
        "colab": {
          "base_uri": "https://localhost:8080/",
          "height": 521
        },
        "id": "o7rrS183eWyn",
        "outputId": "6051edc3-e6a2-4ca4-df56-c12e7cbda398"
      },
      "source": [
        "vbt_short_signals, vbt_long_signals = pd.Series.vbt.signals.clean(\n",
        "    vbt_short_signals, vbt_long_signals, entry_first=False, broadcast_kwargs=dict(columns_from='keep'))\n",
        "\n",
        "def plot_spread_and_zscore(spread, zscore):\n",
        "    fig = vbt.make_subplots(rows=2, cols=1, shared_xaxes=True, vertical_spacing=0.05)\n",
        "    spread.vbt.plot(add_trace_kwargs=dict(row=1, col=1), fig=fig)\n",
        "    zscore.vbt.plot(add_trace_kwargs=dict(row=2, col=1), fig=fig)\n",
        "    vbt_short_signals.vbt.signals.plot_as_exit_markers(zscore, add_trace_kwargs=dict(row=2, col=1), fig=fig)\n",
        "    vbt_long_signals.vbt.signals.plot_as_entry_markers(zscore, add_trace_kwargs=dict(row=2, col=1), fig=fig)\n",
        "    fig.update_layout(height=500)\n",
        "    fig.add_shape(\n",
        "        type=\"rect\",\n",
        "        xref='paper',\n",
        "        yref='y2',\n",
        "        x0=0,\n",
        "        y0=UPPER,\n",
        "        x1=1,\n",
        "        y1=LOWER,\n",
        "        fillcolor=\"gray\",\n",
        "        opacity=0.2,\n",
        "        layer=\"below\",\n",
        "        line_width=0,\n",
        "    )\n",
        "    return fig\n",
        "    \n",
        "plot_spread_and_zscore(vbt_spread, vbt_zscore).show_svg()"
      ],
      "execution_count": 37,
      "outputs": [
        {
          "output_type": "display_data",
          "data": {
            "image/svg+xml": "<svg class=\"main-svg\" xmlns=\"http://www.w3.org/2000/svg\" xmlns:xlink=\"http://www.w3.org/1999/xlink\" width=\"700\" height=\"500\" style=\"\" viewBox=\"0 0 700 500\"><rect x=\"0\" y=\"0\" width=\"700\" height=\"500\" style=\"fill: rgb(255, 255, 255); fill-opacity: 1;\"/><defs id=\"defs-6cdb52\"><g class=\"clips\"><clipPath id=\"clip6cdb52xyplot\" class=\"plotclip\"><rect width=\"627\" height=\"199.975\"/></clipPath><clipPath id=\"clip6cdb52x2y2plot\" class=\"plotclip\"><rect width=\"627\" height=\"199.975\"/></clipPath><clipPath class=\"axesclip\" id=\"clip6cdb52x\"><rect x=\"43\" y=\"0\" width=\"627\" height=\"500\"/></clipPath><clipPath class=\"axesclip\" id=\"clip6cdb52y\"><rect x=\"0\" y=\"49\" width=\"700\" height=\"199.975\"/></clipPath><clipPath class=\"axesclip\" id=\"clip6cdb52xy\"><rect x=\"43\" y=\"49\" width=\"627\" height=\"199.975\"/></clipPath><clipPath class=\"axesclip\" id=\"clip6cdb52y2\"><rect x=\"0\" y=\"270.025\" width=\"700\" height=\"199.975\"/></clipPath><clipPath class=\"axesclip\" id=\"clip6cdb52xy2\"><rect x=\"43\" y=\"270.025\" width=\"627\" height=\"199.975\"/></clipPath><clipPath class=\"axesclip\" id=\"clip6cdb52x2\"><rect x=\"43\" y=\"0\" width=\"627\" height=\"500\"/></clipPath><clipPath class=\"axesclip\" id=\"clip6cdb52x2y\"><rect x=\"43\" y=\"49\" width=\"627\" height=\"199.975\"/></clipPath><clipPath class=\"axesclip\" id=\"clip6cdb52x2y2\"><rect x=\"43\" y=\"270.025\" width=\"627\" height=\"199.975\"/></clipPath></g><g class=\"gradients\"/><g class=\"patterns\"/></defs><g class=\"bglayer\"><rect class=\"bg\" x=\"43\" y=\"49\" width=\"627\" height=\"199.975\" style=\"fill: rgb(229, 236, 246); fill-opacity: 1; stroke-width: 0;\"/><rect class=\"bg\" x=\"43\" y=\"270.025\" width=\"627\" height=\"199.975\" style=\"fill: rgb(229, 236, 246); fill-opacity: 1; stroke-width: 0;\"/></g><g class=\"layer-below\"><g class=\"imagelayer\"/><g class=\"shapelayer\"><path data-index=\"0\" fill-rule=\"evenodd\" d=\"M43,307.025H670V418.44499999999994H43Z\" clip-path=\"url(#clip6cdb52y2)\" style=\"opacity: 0.2; stroke: rgb(0, 0, 0); stroke-opacity: 0; fill: rgb(128, 128, 128); fill-opacity: 1; stroke-width: 0px;\"/></g></g><g class=\"cartesianlayer\"><g class=\"subplot xy\"><g class=\"layer-subplot\"><g class=\"shapelayer\"/><g class=\"imagelayer\"/></g><g class=\"gridlayer\"><g class=\"x\"><path class=\"xgrid crisp\" transform=\"translate(117.69,0)\" d=\"M0,49v199.975\" style=\"stroke: rgb(255, 255, 255); stroke-opacity: 1; stroke-width: 1px;\"/><path class=\"xgrid crisp\" transform=\"translate(194.93,0)\" d=\"M0,49v199.975\" style=\"stroke: rgb(255, 255, 255); stroke-opacity: 1; stroke-width: 1px;\"/><path class=\"xgrid crisp\" transform=\"translate(273.02,0)\" d=\"M0,49v199.975\" style=\"stroke: rgb(255, 255, 255); stroke-opacity: 1; stroke-width: 1px;\"/><path class=\"xgrid crisp\" transform=\"translate(351.11,0)\" d=\"M0,49v199.975\" style=\"stroke: rgb(255, 255, 255); stroke-opacity: 1; stroke-width: 1px;\"/><path class=\"xgrid crisp\" transform=\"translate(427.5,0)\" d=\"M0,49v199.975\" style=\"stroke: rgb(255, 255, 255); stroke-opacity: 1; stroke-width: 1px;\"/><path class=\"xgrid crisp\" transform=\"translate(504.74,0)\" d=\"M0,49v199.975\" style=\"stroke: rgb(255, 255, 255); stroke-opacity: 1; stroke-width: 1px;\"/><path class=\"xgrid crisp\" transform=\"translate(582.82,0)\" d=\"M0,49v199.975\" style=\"stroke: rgb(255, 255, 255); stroke-opacity: 1; stroke-width: 1px;\"/><path class=\"xgrid crisp\" transform=\"translate(660.91,0)\" d=\"M0,49v199.975\" style=\"stroke: rgb(255, 255, 255); stroke-opacity: 1; stroke-width: 1px;\"/></g><g class=\"y\"><path class=\"ygrid crisp\" transform=\"translate(0,198.3)\" d=\"M43,0h627\" style=\"stroke: rgb(255, 255, 255); stroke-opacity: 1; stroke-width: 1px;\"/><path class=\"ygrid crisp\" transform=\"translate(0,57.59)\" d=\"M43,0h627\" style=\"stroke: rgb(255, 255, 255); stroke-opacity: 1; stroke-width: 1px;\"/></g></g><g class=\"zerolinelayer\"><path class=\"yzl zl crisp\" transform=\"translate(0,127.95)\" d=\"M43,0h627\" style=\"stroke: rgb(255, 255, 255); stroke-opacity: 1; stroke-width: 2px;\"/></g><path class=\"xlines-below\"/><path class=\"ylines-below\"/><g class=\"overlines-below\"/><g class=\"xaxislayer-below\"/><g class=\"yaxislayer-below\"/><g class=\"overaxes-below\"/><g class=\"plot\" transform=\"translate(43,49)\" clip-path=\"url(#clip6cdb52xyplot)\"><g class=\"scatterlayer mlayer\"><g class=\"trace scatter tracefd52d8ed-a2c2-41f3-9f53-20497a23a2eb\" style=\"stroke-miterlimit: 2; opacity: 1;\"><g class=\"fills\"/><g class=\"errorbars\"/><g class=\"lines\"><path class=\"js-line\" d=\"M120.53,110.21L121.38,102.6L124.77,100.94L126.47,109.25L127.32,104.91L130.71,101.93L131.56,91.89L132.41,91.57L133.26,95.8L136.65,91.24L137.5,86.05L138.35,85.56L139.2,90.75L142.6,85.21L143.44,79.53L144.29,89.6L145.14,84.2L147.69,86.12L148.54,89.22L150.23,91.33L151.08,87.69L153.63,85.77L155.33,88.49L157.02,75.09L159.57,89.79L160.42,94.8L161.27,86.26L162.12,93.27L162.97,87.83L165.51,88.77L166.36,86.23L167.21,85.75L168.06,83.29L168.91,74.6L171.45,76.31L174.85,95.19L177.4,90.93L179.09,96.32L179.94,89.08L180.79,84.39L183.34,80.06L185.03,82.86L185.88,88.61L190.13,67.22L190.98,66.55L191.82,68.35L192.67,74.04L195.22,66.75L196.07,69.33L198.61,93.37L201.16,93.69L203.71,83.85L204.56,87.14L207.95,89.62L208.8,84.6L209.65,83.58L210.5,106.91L213.04,102.8L213.89,114.07L214.74,122.03L215.59,116.69L216.44,109.29L218.99,105.46L219.83,108.29L220.68,115.06L221.53,117.13L222.38,129.67L224.93,130.56L225.78,129.29L227.47,120.86L228.32,124.59L231.72,154.9L232.57,154.6L233.41,139.5L234.26,138.77L236.81,142.08L237.66,133.54L240.21,105.3L242.75,92.16L244.45,109.66L245.3,99.04L246.15,111.66L248.69,109.59L250.39,128.49L251.24,117.39L252.09,119.22L254.63,132.1L255.48,122.75L256.33,124.95L257.18,124.42L258.03,120.44L260.58,137.11L261.42,116.02L262.27,93.67L263.12,98.87L263.97,79.66L266.52,62.66L267.37,38.72L268.21,52.78L269.06,53.88L269.91,65.97L272.46,64.83L273.31,49.28L274.16,60.94L275.85,51.06L278.4,51.9L279.25,41.57L280.1,42.9L280.95,34.03L284.34,22.72L285.19,22.97L286.04,10L286.89,37.11L287.74,39.48L290.28,30.03L291.13,30.13L291.98,27.01L292.83,26.2L293.68,14.74L296.22,27.65L297.07,23.88L297.92,19.96L298.77,24.38L299.62,20.76L303.01,20.65L305.56,12.21L308.96,28.7L309.81,30.89L310.65,36.47L311.5,33.2L314.05,40.16L316.6,55.7L317.44,53.24L320.84,59.36L321.69,54.76L322.54,60.65L323.39,59.48L325.93,55.59L326.78,63.93L328.48,86.82L329.33,101.87L331.87,92.74L332.72,78.92L333.57,81.27L334.42,75.75L337.81,39.45L338.66,42.61L339.51,40.41L340.36,28.56L341.21,23.53L343.76,47.34L344.61,53.92L345.45,88.96L346.3,89.42L347.15,95.39L351.4,77.01L352.24,68.08L353.09,81.31L355.64,66.54L356.49,55.78L357.34,59.86L358.19,78.26L359.03,76.8L362.43,78.25L363.28,72.12L364.13,64.26L364.98,70.49L367.52,59.42L368.37,50.93L369.22,51.57L370.07,56.59L370.92,55.3L373.46,65.85L374.31,69.26L375.16,79.52L376.01,82.19L376.86,91.11L379.41,94.37L380.25,90.25L381.1,85.16L381.95,89.59L385.35,91.12L386.2,100.84L387.89,105.19L388.74,105.24L391.29,101.07L392.14,106.31L394.68,126.24L397.23,123.68L398.93,154.22L399.78,164.7L400.62,183.62L403.17,189.98L405.72,126.09L406.57,168.87L409.11,173.41L409.96,169.26L410.81,168.85L411.66,152.15L412.51,151.85L415.05,149.37L415.9,150.64L416.75,155.08L417.6,156.73L418.45,150.17L421,146.81L421.84,132.97L422.69,116.77L423.54,144.73L424.39,142.47L426.94,125.24L427.79,109.97L428.63,110.04L429.48,108.88L430.33,110.61L433.73,113.78L434.58,126.84L435.42,128.33L436.27,133.89L438.82,154.26L439.67,132.31L440.52,141.31L441.37,134.98L442.21,142.51L444.76,141.23L445.61,137.64L446.46,114.91L448.16,100.14L450.7,100.57L451.55,95.78L452.4,80.64L454.1,48.22L456.64,60.56L457.49,59.38L458.34,41.45L460.04,81.15L462.59,65.48L465.13,117.92L465.98,113.92L468.53,120.67L469.38,87.01L470.22,81.07L471.07,86.92L471.92,76.1L474.47,72.45L475.32,78.23L476.17,71.49L477.01,59.87L477.86,67.09L480.41,68.46L481.26,82.15L482.96,127.34L483.81,130.2L486.35,128.63L487.2,134.14L488.05,134.14L488.9,107.57L489.75,106.75L492.29,93.51L493.14,121.58L493.99,111.78L494.84,116.93L495.69,112.86L498.23,98.3L499.08,99.76L499.93,104.43L500.78,100.94L501.63,109.73L504.18,115.84L505.02,103.95L505.87,107.7L507.57,92.67L510.12,91.72L510.97,90.92L511.81,77.49L513.51,39.77L516.91,62.14L519.45,77.18L522,83.8L522.85,84.88L523.7,89.19L524.55,74.58L525.4,87.39L527.94,93.06L528.79,91.17L529.64,94.87L530.49,109L531.34,108.74L533.88,115.96L534.73,100.61L535.58,113.83L536.43,125.89L537.28,123.44L539.82,137.21L540.67,172.17L541.52,157.95L542.37,167.13L543.22,168.02L545.77,167.58L546.61,162.15L547.46,143.45L549.16,131.78L551.71,135.42L552.56,132.83L553.41,132.88L555.1,120.65L557.65,119.12L558.5,120.13L559.35,93.59L560.2,87.19L561.04,100.67L563.59,82.53L564.44,96.38L566.14,119.39L566.99,124.35L570.38,87.58L571.23,83.8L572.93,63.11L575.47,71.24L576.32,69.39L577.17,74.02L578.02,71.74L578.87,60.01L581.41,58.19L582.26,78.47L583.11,78.25L584.81,80.18L588.21,72.35L589.05,52.73L589.9,52.36L590.75,32.68L594.15,71.58L595.84,69.77L596.69,77.99L599.24,76.37L601.79,57.47L602.63,107.89L605.18,102.99L606.03,114.88L606.88,129.37L607.73,120.14L608.58,129.94L611.12,144.32L613.67,126.86L614.52,108.05L617.06,108.72\" style=\"vector-effect: non-scaling-stroke; fill: none; stroke: rgb(31, 119, 180); stroke-opacity: 1; stroke-width: 2px; opacity: 1;\"/></g><g class=\"points\"/><g class=\"text\"/></g></g></g><g class=\"overplot\"/><path class=\"xlines-above crisp\" d=\"M0,0\" style=\"fill: none;\"/><path class=\"ylines-above crisp\" d=\"M0,0\" style=\"fill: none;\"/><g class=\"overlines-above\"/><g class=\"xaxislayer-above\"/><g class=\"yaxislayer-above\"><g class=\"ytick\"><text text-anchor=\"end\" x=\"42\" y=\"4.199999999999999\" transform=\"translate(0,198.3)\" style=\"font-family: 'Open Sans', verdana, arial, sans-serif; font-size: 12px; fill: rgb(42, 63, 95); fill-opacity: 1; white-space: pre; opacity: 1;\">−0.05</text></g><g class=\"ytick\"><text text-anchor=\"end\" x=\"42\" y=\"4.199999999999999\" style=\"font-family: 'Open Sans', verdana, arial, sans-serif; font-size: 12px; fill: rgb(42, 63, 95); fill-opacity: 1; white-space: pre; opacity: 1;\" transform=\"translate(0,127.95)\">0</text></g><g class=\"ytick\"><text text-anchor=\"end\" x=\"42\" y=\"4.199999999999999\" style=\"font-family: 'Open Sans', verdana, arial, sans-serif; font-size: 12px; fill: rgb(42, 63, 95); fill-opacity: 1; white-space: pre; opacity: 1;\" transform=\"translate(0,57.59)\">0.05</text></g></g><g class=\"overaxes-above\"/></g><g class=\"subplot x2y2\"><g class=\"layer-subplot\"><g class=\"shapelayer\"/><g class=\"imagelayer\"/></g><g class=\"gridlayer\"><g class=\"x2\"><path class=\"x2grid crisp\" transform=\"translate(117.69,0)\" d=\"M0,270.025v199.975\" style=\"stroke: rgb(255, 255, 255); stroke-opacity: 1; stroke-width: 1px;\"/><path class=\"x2grid crisp\" transform=\"translate(194.93,0)\" d=\"M0,270.025v199.975\" style=\"stroke: rgb(255, 255, 255); stroke-opacity: 1; stroke-width: 1px;\"/><path class=\"x2grid crisp\" transform=\"translate(273.02,0)\" d=\"M0,270.025v199.975\" style=\"stroke: rgb(255, 255, 255); stroke-opacity: 1; stroke-width: 1px;\"/><path class=\"x2grid crisp\" transform=\"translate(351.11,0)\" d=\"M0,270.025v199.975\" style=\"stroke: rgb(255, 255, 255); stroke-opacity: 1; stroke-width: 1px;\"/><path class=\"x2grid crisp\" transform=\"translate(427.5,0)\" d=\"M0,270.025v199.975\" style=\"stroke: rgb(255, 255, 255); stroke-opacity: 1; stroke-width: 1px;\"/><path class=\"x2grid crisp\" transform=\"translate(504.74,0)\" d=\"M0,270.025v199.975\" style=\"stroke: rgb(255, 255, 255); stroke-opacity: 1; stroke-width: 1px;\"/><path class=\"x2grid crisp\" transform=\"translate(582.82,0)\" d=\"M0,270.025v199.975\" style=\"stroke: rgb(255, 255, 255); stroke-opacity: 1; stroke-width: 1px;\"/><path class=\"x2grid crisp\" transform=\"translate(660.91,0)\" d=\"M0,270.025v199.975\" style=\"stroke: rgb(255, 255, 255); stroke-opacity: 1; stroke-width: 1px;\"/></g><g class=\"y2\"><path class=\"y2grid crisp\" transform=\"translate(0,419.575)\" d=\"M43,0h627\" style=\"stroke: rgb(255, 255, 255); stroke-opacity: 1; stroke-width: 1px;\"/><path class=\"y2grid crisp\" transform=\"translate(0,305.895)\" d=\"M43,0h627\" style=\"stroke: rgb(255, 255, 255); stroke-opacity: 1; stroke-width: 1px;\"/></g></g><g class=\"zerolinelayer\"><path class=\"y2zl zl crisp\" transform=\"translate(0,362.73499999999996)\" d=\"M43,0h627\" style=\"stroke: rgb(255, 255, 255); stroke-opacity: 1; stroke-width: 2px;\"/></g><path class=\"xlines-below\"/><path class=\"ylines-below\"/><g class=\"overlines-below\"/><g class=\"xaxislayer-below\"/><g class=\"yaxislayer-below\"/><g class=\"overaxes-below\"/><g class=\"plot\" transform=\"translate(43,270.025)\" clip-path=\"url(#clip6cdb52x2y2plot)\"><g class=\"scatterlayer mlayer\"><g class=\"trace scatter trace65e2b551-a782-4344-8b63-d9fb441ad1f6\" style=\"stroke-miterlimit: 2; opacity: 1;\"><g class=\"fills\"/><g class=\"errorbars\"/><g class=\"lines\"><path class=\"js-line\" d=\"M242.75,85.81L243.6,108.55L244.45,111.1L245.3,95.75L246.15,113.88L248.69,110.88L249.54,126.41L250.39,136.79L251.24,120.69L252.09,122.73L254.63,139.62L255.48,126.06L256.33,128.36L257.18,126.95L258.03,120.99L260.58,142.19L261.42,113.65L262.27,83.75L263.12,90.51L263.97,64.79L266.52,43.11L267.37,15L268.21,34.47L269.06,37.32L269.91,52.8L272.46,52.14L273.31,35.09L274.16,49.57L275.85,39.43L278.4,41.44L279.25,31.4L280.1,34.64L280.95,27.48L281.8,26.47L284.34,21.34L285.19,24.31L286.04,15.59L287.74,45.25L290.28,38.25L291.13,39.61L291.98,38.31L292.83,39.06L293.68,31.51L296.22,43.35L297.07,41.73L297.92,40.11L298.77,44.8L299.62,43.36L303.01,44.5L304.71,43.14L305.56,42.13L310.65,61.26L311.5,59.48L314.9,67.93L315.75,70.9L316.6,75.81L317.44,74.25L320.84,78.5L321.69,75.54L322.54,79.73L323.39,79.17L325.93,76.81L326.78,82.64L328.48,98.15L329.33,108.22L331.87,102.02L332.72,92.72L333.57,94.33L334.42,90.8L337.81,66.93L338.66,69.56L339.51,68.56L340.36,61.14L341.21,58.44L343.76,74.92L344.61,79.73L345.45,103.76L346.3,104.45L347.15,108.93L351.4,96.92L352.24,90.96L353.09,100.77L355.64,90.71L356.49,83.32L357.34,86.95L358.19,101.82L359.03,101.32L362.43,103.91L363.28,99.29L364.13,92.98L364.98,98.68L367.52,89.37L368.37,82.39L369.22,83.37L370.07,88.16L370.92,87.45L373.46,97.42L374.31,101.16L375.16,111.61L376.01,114.85L376.86,124.24L379.41,128.71L380.25,125.53L381.1,121.41L381.95,127.28L385.35,130.03L386.2,142.89L387.04,147.8L387.89,147.96L388.74,147.69L391.29,142.13L394.68,160.68L397.23,155.85L398.93,176.9L399.78,180.92L400.62,189.98L403.17,188.16L405.72,134.05L406.57,162.26L409.11,162.68L409.96,157.51L410.81,155.32L411.66,142.79L412.51,141.3L415.05,138.56L415.9,138.29L416.75,139.99L417.6,139.91L418.45,134.91L421,131.95L421.84,122.59L422.69,111.83L423.54,129.09L424.39,127L426.94,115.4L427.79,105L428.63,104.6L429.48,103.36L430.33,104.11L433.73,105.88L434.58,114.53L435.42,115.12L436.27,118.55L438.82,132.29L439.67,116.13L440.52,121.99L441.37,116.96L442.21,121.79L444.76,120.32L445.61,117.21L446.46,100.41L448.16,88.96L450.7,89.15L451.55,85.53L452.4,74.51L454.1,51.77L456.64,61.04L457.49,60.43L458.34,48.03L460.04,75.68L462.59,63.85L465.13,101.57L465.98,98.06L468.53,102.89L469.38,76.53L470.22,71.97L471.07,76.64L471.92,68.24L474.47,65.45L475.32,69.82L476.17,64.7L477.01,55.77L477.86,61.18L480.41,62.09L481.26,72.77L482.96,107.56L483.81,109.43L486.35,107.8L487.2,111.73L488.05,111.29L488.9,89.6L489.75,88.42L492.29,76.98L493.14,99.93L493.99,91.15L494.84,95.15L495.69,91.24L498.23,78.27L499.08,79.34L499.93,83.32L500.78,80.16L501.63,87.76L504.18,92.92L505.02,82.16L505.87,85.34L507.57,72.02L510.12,71.35L510.97,70.82L511.81,59.27L513.51,29.54L516.91,49.57L519.45,64.2L522,70.15L522.85,71.5L523.7,75.53L524.55,63.25L525.4,74.95L527.94,80.4L528.79,79L529.64,82.8L530.49,96.45L531.34,96.87L533.88,104.61L534.73,89.95L535.58,103.7L536.43,116.41L537.28,114.44L539.82,129.29L540.67,164.84L541.52,149.74L542.37,158.05L545.77,154.81L546.61,148.81L548.31,121.07L549.16,119.14L551.71,122.21L552.56,119.41L553.41,119.14L554.25,114.61L555.1,107.53L557.65,106.2L558.5,107.34L559.35,82.69L560.2,76.95L561.04,90.27L563.59,73.14L564.44,86.99L566.14,110.26L566.99,115.05L570.38,78.81L571.23,75.27L572.93,55.53L575.47,63.07L576.32,60.68L577.17,65.01L578.02,62.43L578.87,49.87L581.41,48.09L582.26,68.86L583.11,68.37L584.81,70.49L587.36,63.4L588.21,63.6L589.05,44.94L589.9,45.54L590.75,28.13L593.3,53.63L594.15,66.3L595.84,64.62L596.69,72.49L599.24,70.86L601.79,52.8L602.63,100.8L605.18,96.29L606.03,107.87L606.88,121.85L607.73,113.08L608.58,122.64L611.12,136.24L613.67,118.77L614.52,100.68L617.06,101.46\" style=\"vector-effect: non-scaling-stroke; fill: none; stroke: rgb(255, 127, 14); stroke-opacity: 1; stroke-width: 2px; opacity: 1;\"/></g><g class=\"points\"/><g class=\"text\"/></g><g class=\"trace scatter trace05ff9a96-3991-4ad7-aecb-e1ae8d13bbb5\" style=\"stroke-miterlimit: 2; opacity: 1;\"><g class=\"fills\"/><g class=\"errorbars\"/><g class=\"lines\"/><g class=\"points\"><path class=\"point\" transform=\"translate(267.37,15)\" d=\"M-4.62,-2H4.62L0,4Z\" style=\"opacity: 1; stroke-width: 1px; fill: rgb(234, 67, 53); fill-opacity: 1; stroke: rgb(181, 31, 18); stroke-opacity: 1;\"/><path class=\"point\" transform=\"translate(513.51,29.54)\" d=\"M-4.62,-2H4.62L0,4Z\" style=\"opacity: 1; stroke-width: 1px; fill: rgb(234, 67, 53); fill-opacity: 1; stroke: rgb(181, 31, 18); stroke-opacity: 1;\"/><path class=\"point\" transform=\"translate(590.75,28.13)\" d=\"M-4.62,-2H4.62L0,4Z\" style=\"opacity: 1; stroke-width: 1px; fill: rgb(234, 67, 53); fill-opacity: 1; stroke: rgb(181, 31, 18); stroke-opacity: 1;\"/></g><g class=\"text\"/></g><g class=\"trace scatter trace7731fd4f-286f-4f7b-ad7e-5332acb565cf\" style=\"stroke-miterlimit: 2; opacity: 1;\"><g class=\"fills\"/><g class=\"errorbars\"/><g class=\"lines\"/><g class=\"points\"><path class=\"point\" transform=\"translate(392.99,154.24)\" d=\"M-4.62,2H4.62L0,-4Z\" style=\"opacity: 1; stroke-width: 1px; fill: rgb(55, 177, 63); fill-opacity: 1; stroke: rgb(38, 123, 44); stroke-opacity: 1;\"/><path class=\"point\" transform=\"translate(540.67,164.84)\" d=\"M-4.62,2H4.62L0,-4Z\" style=\"opacity: 1; stroke-width: 1px; fill: rgb(55, 177, 63); fill-opacity: 1; stroke: rgb(38, 123, 44); stroke-opacity: 1;\"/></g><g class=\"text\"/></g></g></g><g class=\"overplot\"/><path class=\"xlines-above crisp\" d=\"M0,0\" style=\"fill: none;\"/><path class=\"ylines-above crisp\" d=\"M0,0\" style=\"fill: none;\"/><g class=\"overlines-above\"/><g class=\"xaxislayer-above\"><g class=\"x2tick\"><text text-anchor=\"middle\" x=\"0\" y=\"483\" transform=\"translate(117.69,0)\" style=\"font-family: 'Open Sans', verdana, arial, sans-serif; font-size: 12px; fill: rgb(42, 63, 95); fill-opacity: 1; white-space: pre; opacity: 1;\">Apr 2017</text></g><g class=\"x2tick\"><text text-anchor=\"middle\" x=\"0\" y=\"483\" style=\"font-family: 'Open Sans', verdana, arial, sans-serif; font-size: 12px; fill: rgb(42, 63, 95); fill-opacity: 1; white-space: pre; opacity: 1;\" transform=\"translate(194.93,0)\">Jul 2017</text></g><g class=\"x2tick\"><text text-anchor=\"middle\" x=\"0\" y=\"483\" style=\"font-family: 'Open Sans', verdana, arial, sans-serif; font-size: 12px; fill: rgb(42, 63, 95); fill-opacity: 1; white-space: pre; opacity: 1;\" transform=\"translate(273.02,0)\">Oct 2017</text></g><g class=\"x2tick\"><text text-anchor=\"middle\" x=\"0\" y=\"483\" style=\"font-family: 'Open Sans', verdana, arial, sans-serif; font-size: 12px; fill: rgb(42, 63, 95); fill-opacity: 1; white-space: pre; opacity: 1;\" transform=\"translate(351.11,0)\">Jan 2018</text></g><g class=\"x2tick\"><text text-anchor=\"middle\" x=\"0\" y=\"483\" style=\"font-family: 'Open Sans', verdana, arial, sans-serif; font-size: 12px; fill: rgb(42, 63, 95); fill-opacity: 1; white-space: pre; opacity: 1;\" transform=\"translate(427.5,0)\">Apr 2018</text></g><g class=\"x2tick\"><text text-anchor=\"middle\" x=\"0\" y=\"483\" style=\"font-family: 'Open Sans', verdana, arial, sans-serif; font-size: 12px; fill: rgb(42, 63, 95); fill-opacity: 1; white-space: pre; opacity: 1;\" transform=\"translate(504.74,0)\">Jul 2018</text></g><g class=\"x2tick\"><text text-anchor=\"middle\" x=\"0\" y=\"483\" style=\"font-family: 'Open Sans', verdana, arial, sans-serif; font-size: 12px; fill: rgb(42, 63, 95); fill-opacity: 1; white-space: pre; opacity: 1;\" transform=\"translate(582.82,0)\">Oct 2018</text></g><g class=\"x2tick\"><text text-anchor=\"middle\" x=\"0\" y=\"483\" style=\"font-family: 'Open Sans', verdana, arial, sans-serif; font-size: 12px; fill: rgb(42, 63, 95); fill-opacity: 1; white-space: pre; opacity: 1;\" transform=\"translate(660.91,0)\">Jan 2019</text></g></g><g class=\"yaxislayer-above\"><g class=\"y2tick\"><text text-anchor=\"end\" x=\"42\" y=\"4.199999999999999\" transform=\"translate(0,419.575)\" style=\"font-family: 'Open Sans', verdana, arial, sans-serif; font-size: 12px; fill: rgb(42, 63, 95); fill-opacity: 1; white-space: pre; opacity: 1;\">−2</text></g><g class=\"y2tick\"><text text-anchor=\"end\" x=\"42\" y=\"4.199999999999999\" style=\"font-family: 'Open Sans', verdana, arial, sans-serif; font-size: 12px; fill: rgb(42, 63, 95); fill-opacity: 1; white-space: pre; opacity: 1;\" transform=\"translate(0,362.73499999999996)\">0</text></g><g class=\"y2tick\"><text text-anchor=\"end\" x=\"42\" y=\"4.199999999999999\" style=\"font-family: 'Open Sans', verdana, arial, sans-serif; font-size: 12px; fill: rgb(42, 63, 95); fill-opacity: 1; white-space: pre; opacity: 1;\" transform=\"translate(0,305.895)\">2</text></g></g><g class=\"overaxes-above\"/></g></g><g class=\"polarlayer\"/><g class=\"ternarylayer\"/><g class=\"geolayer\"/><g class=\"funnelarealayer\"/><g class=\"pielayer\"/><g class=\"iciclelayer\"/><g class=\"treemaplayer\"/><g class=\"sunburstlayer\"/><g class=\"glimages\"/><defs id=\"topdefs-6cdb52\"><g class=\"clips\"/><clipPath id=\"legend6cdb52\"><rect width=\"302\" height=\"29\" x=\"0\" y=\"0\"/></clipPath></defs><g class=\"layer-above\"><g class=\"imagelayer\"/><g class=\"shapelayer\"/></g><g class=\"infolayer\"><g class=\"legend\" pointer-events=\"all\" transform=\"translate(368,11.579999999999991)\"><rect class=\"bg\" shape-rendering=\"crispEdges\" style=\"stroke: rgb(68, 68, 68); stroke-opacity: 1; fill: rgb(255, 255, 255); fill-opacity: 1; stroke-width: 0px;\" width=\"302\" height=\"29\" x=\"0\" y=\"0\"/><g class=\"scrollbox\" transform=\"\" clip-path=\"url(#legend6cdb52)\"><g class=\"groups\"><g class=\"traces\" transform=\"translate(0,14.5)\" style=\"opacity: 1;\"><text class=\"legendtext\" text-anchor=\"start\" x=\"40\" y=\"4.680000000000001\" style=\"font-family: 'Open Sans', verdana, arial, sans-serif; font-size: 12px; fill: rgb(42, 63, 95); fill-opacity: 1; white-space: pre;\">spread</text><g class=\"layers\" style=\"opacity: 1;\"><g class=\"legendfill\"/><g class=\"legendlines\"><path class=\"js-line\" d=\"M5,0h30\" style=\"fill: none; stroke: rgb(31, 119, 180); stroke-opacity: 1; stroke-width: 2px;\"/></g><g class=\"legendsymbols\"><g class=\"legendpoints\"/></g></g><rect class=\"legendtoggle\" x=\"0\" y=\"-9.5\" width=\"79.203125\" height=\"19\" style=\"fill: rgb(0, 0, 0); fill-opacity: 0;\"/></g><g class=\"traces\" transform=\"translate(81.703125,14.5)\" style=\"opacity: 1;\"><text class=\"legendtext\" text-anchor=\"start\" x=\"40\" y=\"4.680000000000001\" style=\"font-family: 'Open Sans', verdana, arial, sans-serif; font-size: 12px; fill: rgb(42, 63, 95); fill-opacity: 1; white-space: pre;\">zscore</text><g class=\"layers\" style=\"opacity: 1;\"><g class=\"legendfill\"/><g class=\"legendlines\"><path class=\"js-line\" d=\"M5,0h30\" style=\"fill: none; stroke: rgb(255, 127, 14); stroke-opacity: 1; stroke-width: 2px;\"/></g><g class=\"legendsymbols\"><g class=\"legendpoints\"/></g></g><rect class=\"legendtoggle\" x=\"0\" y=\"-9.5\" width=\"78.171875\" height=\"19\" style=\"fill: rgb(0, 0, 0); fill-opacity: 0;\"/></g><g class=\"traces\" transform=\"translate(162.375,14.5)\" style=\"opacity: 1;\"><text class=\"legendtext\" text-anchor=\"start\" x=\"40\" y=\"4.680000000000001\" style=\"font-family: 'Open Sans', verdana, arial, sans-serif; font-size: 12px; fill: rgb(42, 63, 95); fill-opacity: 1; white-space: pre;\">Exit</text><g class=\"layers\" style=\"opacity: 1;\"><g class=\"legendfill\"/><g class=\"legendlines\"/><g class=\"legendsymbols\"><g class=\"legendpoints\"><path class=\"scatterpts\" transform=\"translate(20,0)\" d=\"M-4.62,-2H4.62L0,4Z\" style=\"opacity: 1; stroke-width: 1px; fill: rgb(234, 67, 53); fill-opacity: 1; stroke: rgb(181, 31, 18); stroke-opacity: 1;\"/></g></g></g><rect class=\"legendtoggle\" x=\"0\" y=\"-9.5\" width=\"63.171875\" height=\"19\" style=\"fill: rgb(0, 0, 0); fill-opacity: 0;\"/></g><g class=\"traces\" transform=\"translate(228.046875,14.5)\" style=\"opacity: 1;\"><text class=\"legendtext\" text-anchor=\"start\" x=\"40\" y=\"4.680000000000001\" style=\"font-family: 'Open Sans', verdana, arial, sans-serif; font-size: 12px; fill: rgb(42, 63, 95); fill-opacity: 1; white-space: pre;\">Entry</text><g class=\"layers\" style=\"opacity: 1;\"><g class=\"legendfill\"/><g class=\"legendlines\"/><g class=\"legendsymbols\"><g class=\"legendpoints\"><path class=\"scatterpts\" transform=\"translate(20,0)\" d=\"M-4.62,2H4.62L0,-4Z\" style=\"opacity: 1; stroke-width: 1px; fill: rgb(55, 177, 63); fill-opacity: 1; stroke: rgb(38, 123, 44); stroke-opacity: 1;\"/></g></g></g><rect class=\"legendtoggle\" x=\"0\" y=\"-9.5\" width=\"70.515625\" height=\"19\" style=\"fill: rgb(0, 0, 0); fill-opacity: 0;\"/></g></g></g><rect class=\"scrollbar\" rx=\"20\" ry=\"3\" width=\"0\" height=\"0\" style=\"fill: rgb(128, 139, 164); fill-opacity: 1;\" x=\"0\" y=\"0\"/></g><g class=\"g-gtitle\"/><g class=\"g-xtitle\"/><g class=\"g-x2title\"/><g class=\"g-ytitle\"/><g class=\"g-y2title\"/></g></svg>"
          },
          "metadata": {}
        }
      ]
    },
    {
      "cell_type": "code",
      "metadata": {
        "id": "hez8lIIgeWyn"
      },
      "source": [
        "# Assert equality of bt and vbt signal arrays\n",
        "pd.testing.assert_series_equal(\n",
        "    bt_short_signals[bt_short_signals], \n",
        "    vbt_short_signals[vbt_short_signals]\n",
        ")\n",
        "pd.testing.assert_series_equal(\n",
        "    bt_long_signals[bt_long_signals], \n",
        "    vbt_long_signals[vbt_long_signals]\n",
        ")"
      ],
      "execution_count": 38,
      "outputs": []
    },
    {
      "cell_type": "code",
      "metadata": {
        "colab": {
          "base_uri": "https://localhost:8080/"
        },
        "id": "Ce8RrwhIeWyo",
        "outputId": "d2b364f3-9db2-47dd-f857-8ea01618da9f"
      },
      "source": [
        "# Build percentage order size\n",
        "symbol_cols = pd.Index([SYMBOL1, SYMBOL2], name='symbol')\n",
        "vbt_order_size = pd.DataFrame(index=bt_s1_ohlcv.index, columns=symbol_cols)\n",
        "vbt_order_size[SYMBOL1] = np.nan\n",
        "vbt_order_size[SYMBOL2] = np.nan\n",
        "vbt_order_size.loc[vbt_short_signals, SYMBOL1] = -ORDER_PCT1\n",
        "vbt_order_size.loc[vbt_long_signals, SYMBOL1] = ORDER_PCT1\n",
        "vbt_order_size.loc[vbt_short_signals, SYMBOL2] = ORDER_PCT2\n",
        "vbt_order_size.loc[vbt_long_signals, SYMBOL2] = -ORDER_PCT2\n",
        "\n",
        "# Execute at the next bar\n",
        "vbt_order_size = vbt_order_size.vbt.fshift(1)\n",
        "\n",
        "print(vbt_order_size[~vbt_order_size.isnull().any(axis=1)])"
      ],
      "execution_count": 39,
      "outputs": [
        {
          "output_type": "stream",
          "name": "stdout",
          "text": [
            "symbol      PEP   KO\n",
            "2017-11-15 -0.1  0.1\n",
            "2018-04-12  0.1 -0.1\n",
            "2018-09-04 -0.1  0.1\n",
            "2018-10-03  0.1 -0.1\n",
            "2018-12-03 -0.1  0.1\n"
          ]
        }
      ]
    },
    {
      "cell_type": "code",
      "metadata": {
        "id": "8d6N-d3oeWyo"
      },
      "source": [
        "# Simulate the portfolio\n",
        "vbt_close_price = pd.concat((bt_s1_ohlcv['close'], bt_s2_ohlcv['close']), axis=1, keys=symbol_cols)\n",
        "vbt_open_price = pd.concat((bt_s1_ohlcv['open'], bt_s2_ohlcv['open']), axis=1, keys=symbol_cols)\n",
        "\n",
        "def simulate_from_orders():\n",
        "    \"\"\"Simulate using `Portfolio.from_orders`.\"\"\"\n",
        "    return vbt.Portfolio.from_orders(\n",
        "        vbt_close_price,  # current close as reference price\n",
        "        size=vbt_order_size,  \n",
        "        price=vbt_open_price,  # current open as execution price\n",
        "        size_type='targetpercent', \n",
        "        val_price=vbt_close_price.vbt.fshift(1),  # previous close as group valuation price\n",
        "        init_cash=CASH,\n",
        "        fees=COMMPERC,\n",
        "        cash_sharing=True,  # share capital between assets in the same group\n",
        "        group_by=True,  # all columns belong to the same group\n",
        "        call_seq='auto',  # sell before buying\n",
        "        freq='d'  # index frequency for annualization\n",
        "    )\n",
        "\n",
        "vbt_pf = simulate_from_orders()"
      ],
      "execution_count": 40,
      "outputs": []
    },
    {
      "cell_type": "code",
      "metadata": {
        "colab": {
          "base_uri": "https://localhost:8080/"
        },
        "id": "6co3j2bCeWyo",
        "outputId": "81aa5339-6324-4dc8-e1d9-e68a1d409d05"
      },
      "source": [
        "print(vbt_pf.orders.records_readable)"
      ],
      "execution_count": 41,
      "outputs": [
        {
          "output_type": "stream",
          "name": "stdout",
          "text": [
            "   Order Id Column  Timestamp        Size       Price        Fees  Side\n",
            "0         0    PEP 2017-11-15   96.698241  103.316229   49.952488  Sell\n",
            "1         1     KO 2017-11-15  238.385955   41.851497   49.884046   Buy\n",
            "2         2     KO 2018-04-12  490.647327   39.652521   97.277017  Sell\n",
            "3         3    PEP 2018-04-12  198.056953   98.739352   97.780076   Buy\n",
            "4         4    PEP 2018-09-04  198.781680  102.263047  101.640101  Sell\n",
            "5         5     KO 2018-09-04  498.975917   40.477607  100.986755   Buy\n",
            "6         6     KO 2018-10-03  482.284086   42.524342  102.544068  Sell\n",
            "7         7    PEP 2018-10-03  197.454665  100.702245   99.420640   Buy\n",
            "8         8    PEP 2018-12-03  189.202087  111.094282  105.096350  Sell\n",
            "9         9     KO 2018-12-03  451.211817   46.006429  103.793222   Buy\n"
          ]
        }
      ]
    },
    {
      "cell_type": "code",
      "metadata": {
        "id": "FFX9xPCzeWyo"
      },
      "source": [
        "# Proof that both bt and vbt produce the same result\n",
        "pd.testing.assert_series_equal(bt_cash, vbt_pf.cash().rename('cash'))\n",
        "pd.testing.assert_series_equal(bt_value, vbt_pf.value().rename('value'))"
      ],
      "execution_count": 42,
      "outputs": []
    },
    {
      "cell_type": "code",
      "metadata": {
        "colab": {
          "base_uri": "https://localhost:8080/"
        },
        "id": "mxQU2FgUeWyp",
        "outputId": "49936f29-adcc-49e1-a2a9-d38752bcc63a"
      },
      "source": [
        "print(vbt_pf.stats())"
      ],
      "execution_count": 43,
      "outputs": [
        {
          "output_type": "stream",
          "name": "stdout",
          "text": [
            "Start                         2017-01-03 00:00:00\n",
            "End                           2018-12-31 00:00:00\n",
            "Period                          502 days 00:00:00\n",
            "Start Value                                100000\n",
            "End Value                                  100284\n",
            "Total Return [%]                         0.284082\n",
            "Benchmark Return [%]                      16.6313\n",
            "Max Gross Exposure [%]                   0.915879\n",
            "Total Fees Paid                           908.375\n",
            "Max Drawdown [%]                          1.03029\n",
            "Max Drawdown Duration           168 days 00:00:00\n",
            "Total Trades                                   10\n",
            "Total Closed Trades                             8\n",
            "Total Open Trades                               2\n",
            "Open Trade PnL                            149.653\n",
            "Win Rate [%]                                 62.5\n",
            "Best Trade [%]                            9.26797\n",
            "Worst Trade [%]                           -9.2294\n",
            "Avg Winning Trade [%]                      3.9672\n",
            "Avg Losing Trade [%]                     -6.18285\n",
            "Avg Winning Trade Duration       56 days 19:12:00\n",
            "Avg Losing Trade Duration        80 days 16:00:00\n",
            "Profit Factor                             1.07246\n",
            "Expectancy                                16.8036\n",
            "Sharpe Ratio                             0.185035\n",
            "Calmar Ratio                             0.200403\n",
            "Omega Ratio                               1.03606\n",
            "Sortino Ratio                            0.266979\n",
            "Name: group, dtype: object\n"
          ]
        }
      ]
    },
    {
      "cell_type": "code",
      "metadata": {
        "colab": {
          "base_uri": "https://localhost:8080/",
          "height": 691
        },
        "id": "5V1JvirReWyp",
        "outputId": "313ed5d3-e700-4666-80c8-d2f24b45789a"
      },
      "source": [
        "# Plot portfolio\n",
        "from functools import partial\n",
        "\n",
        "def plot_orders(portfolio, column=None, add_trace_kwargs=None, fig=None):\n",
        "    portfolio.orders.plot(column=column, add_trace_kwargs=add_trace_kwargs, fig=fig)\n",
        "\n",
        "vbt_pf.plot(subplots=[\n",
        "    ('symbol1_orders', dict(\n",
        "        title=f\"Orders ({SYMBOL1})\",\n",
        "       # yaxis_title=\"Price\",\n",
        "        check_is_not_grouped=False,\n",
        "        plot_func=partial(plot_orders, column=SYMBOL1),\n",
        "        pass_column=False\n",
        "    )),\n",
        "    ('symbol2_orders', dict(\n",
        "        title=f\"Orders ({SYMBOL2})\",\n",
        "       # yaxis_title=\"Price\",\n",
        "        check_is_not_grouped=False,\n",
        "        plot_func=partial(plot_orders, column=SYMBOL2),\n",
        "        pass_column=False\n",
        "    ))\n",
        "]).show_svg()"
      ],
      "execution_count": 46,
      "outputs": [
        {
          "output_type": "display_data",
          "data": {
            "image/svg+xml": "<svg class=\"main-svg\" xmlns=\"http://www.w3.org/2000/svg\" xmlns:xlink=\"http://www.w3.org/1999/xlink\" width=\"750\" height=\"670\" style=\"\" viewBox=\"0 0 750 670\"><rect x=\"0\" y=\"0\" width=\"750\" height=\"670\" style=\"fill: rgb(255, 255, 255); fill-opacity: 1;\"/><defs id=\"defs-961eed\"><g class=\"clips\"><clipPath id=\"clip961eedxyplot\" class=\"plotclip\"><rect width=\"687\" height=\"255.76119402985077\"/></clipPath><clipPath id=\"clip961eedx2y2plot\" class=\"plotclip\"><rect width=\"687\" height=\"255.76119402985077\"/></clipPath><clipPath class=\"axesclip\" id=\"clip961eedx\"><rect x=\"33\" y=\"0\" width=\"687\" height=\"670\"/></clipPath><clipPath class=\"axesclip\" id=\"clip961eedy\"><rect x=\"0\" y=\"73\" width=\"750\" height=\"255.76119402985077\"/></clipPath><clipPath class=\"axesclip\" id=\"clip961eedxy\"><rect x=\"33\" y=\"73\" width=\"687\" height=\"255.76119402985077\"/></clipPath><clipPath class=\"axesclip\" id=\"clip961eedy2\"><rect x=\"0\" y=\"361.23880597014926\" width=\"750\" height=\"255.76119402985077\"/></clipPath><clipPath class=\"axesclip\" id=\"clip961eedxy2\"><rect x=\"33\" y=\"361.23880597014926\" width=\"687\" height=\"255.76119402985077\"/></clipPath><clipPath class=\"axesclip\" id=\"clip961eedx2\"><rect x=\"33\" y=\"0\" width=\"687\" height=\"670\"/></clipPath><clipPath class=\"axesclip\" id=\"clip961eedx2y\"><rect x=\"33\" y=\"73\" width=\"687\" height=\"255.76119402985077\"/></clipPath><clipPath class=\"axesclip\" id=\"clip961eedx2y2\"><rect x=\"33\" y=\"361.23880597014926\" width=\"687\" height=\"255.76119402985077\"/></clipPath></g><g class=\"gradients\"/><g class=\"patterns\"/></defs><g class=\"bglayer\"><rect class=\"bg\" x=\"33\" y=\"73\" width=\"687\" height=\"255.76119402985077\" style=\"fill: rgb(229, 236, 246); fill-opacity: 1; stroke-width: 0;\"/><rect class=\"bg\" x=\"33\" y=\"361.23880597014926\" width=\"687\" height=\"255.76119402985077\" style=\"fill: rgb(229, 236, 246); fill-opacity: 1; stroke-width: 0;\"/></g><g class=\"layer-below\"><g class=\"imagelayer\"/><g class=\"shapelayer\"/></g><g class=\"cartesianlayer\"><g class=\"subplot xy\"><g class=\"layer-subplot\"><g class=\"shapelayer\"/><g class=\"imagelayer\"/></g><g class=\"gridlayer\"><g class=\"x\"><path class=\"xgrid crisp\" transform=\"translate(114.54,0)\" d=\"M0,73v255.76119402985077\" style=\"stroke: rgb(255, 255, 255); stroke-opacity: 1; stroke-width: 1px;\"/><path class=\"xgrid crisp\" transform=\"translate(198.85,0)\" d=\"M0,73v255.76119402985077\" style=\"stroke: rgb(255, 255, 255); stroke-opacity: 1; stroke-width: 1px;\"/><path class=\"xgrid crisp\" transform=\"translate(284.09000000000003,0)\" d=\"M0,73v255.76119402985077\" style=\"stroke: rgb(255, 255, 255); stroke-opacity: 1; stroke-width: 1px;\"/><path class=\"xgrid crisp\" transform=\"translate(369.33,0)\" d=\"M0,73v255.76119402985077\" style=\"stroke: rgb(255, 255, 255); stroke-opacity: 1; stroke-width: 1px;\"/><path class=\"xgrid crisp\" transform=\"translate(452.72,0)\" d=\"M0,73v255.76119402985077\" style=\"stroke: rgb(255, 255, 255); stroke-opacity: 1; stroke-width: 1px;\"/><path class=\"xgrid crisp\" transform=\"translate(537.04,0)\" d=\"M0,73v255.76119402985077\" style=\"stroke: rgb(255, 255, 255); stroke-opacity: 1; stroke-width: 1px;\"/><path class=\"xgrid crisp\" transform=\"translate(622.28,0)\" d=\"M0,73v255.76119402985077\" style=\"stroke: rgb(255, 255, 255); stroke-opacity: 1; stroke-width: 1px;\"/><path class=\"xgrid crisp\" transform=\"translate(707.52,0)\" d=\"M0,73v255.76119402985077\" style=\"stroke: rgb(255, 255, 255); stroke-opacity: 1; stroke-width: 1px;\"/></g><g class=\"y\"><path class=\"ygrid crisp\" transform=\"translate(0,289.95)\" d=\"M33,0h687\" style=\"stroke: rgb(255, 255, 255); stroke-opacity: 1; stroke-width: 1px;\"/><path class=\"ygrid crisp\" transform=\"translate(0,244.46)\" d=\"M33,0h687\" style=\"stroke: rgb(255, 255, 255); stroke-opacity: 1; stroke-width: 1px;\"/><path class=\"ygrid crisp\" transform=\"translate(0,198.97)\" d=\"M33,0h687\" style=\"stroke: rgb(255, 255, 255); stroke-opacity: 1; stroke-width: 1px;\"/><path class=\"ygrid crisp\" transform=\"translate(0,153.48000000000002)\" d=\"M33,0h687\" style=\"stroke: rgb(255, 255, 255); stroke-opacity: 1; stroke-width: 1px;\"/><path class=\"ygrid crisp\" transform=\"translate(0,107.99000000000001)\" d=\"M33,0h687\" style=\"stroke: rgb(255, 255, 255); stroke-opacity: 1; stroke-width: 1px;\"/></g></g><g class=\"zerolinelayer\"/><path class=\"xlines-below\"/><path class=\"ylines-below\"/><g class=\"overlines-below\"/><g class=\"xaxislayer-below\"/><g class=\"yaxislayer-below\"/><g class=\"overaxes-below\"/><g class=\"plot\" transform=\"translate(33,73)\" clip-path=\"url(#clip961eedxyplot)\"><g class=\"scatterlayer mlayer\"><g class=\"trace scatter trace6dc3db91-6d7b-47fb-a124-fa9f2d1efbf9\" style=\"stroke-miterlimit: 2; opacity: 1;\"><g class=\"fills\"/><g class=\"errorbars\"/><g class=\"lines\"><path class=\"js-line\" d=\"M0,202.6L0.93,201.01L1.85,202.12L2.78,203.32L5.56,212.08L6.49,223.94L7.41,225.21L8.34,224.97L9.27,227.28L12.97,222.19L13.9,217.81L14.82,220.83L15.75,213.83L18.53,207.7L19.46,202.12L20.38,202.92L21.31,206.66L22.24,211.92L25.02,210.25L25.94,209.53L26.87,215.66L28.72,198.94L31.5,203.24L32.43,194.96L33.36,194.32L35.21,191.06L37.99,187.71L38.91,184.53L39.84,186.04L40.77,174.98L41.69,174.74L46.33,164.71L47.25,163.67L48.18,161.36L50.96,165.82L51.89,156.98L52.81,156.16L54.67,149.5L57.45,156.96L58.37,159.44L59.3,159.6L60.22,161.85L61.15,157.28L64.86,159.28L65.78,145.09L66.71,144.85L67.64,142.85L70.42,144.77L71.34,139.8L72.27,137.8L73.2,139.72L74.12,137L76.9,139.32L77.83,134.35L78.76,134.51L80.61,139.08L83.39,139.08L84.31,137.32L85.24,138.44L86.17,141.33L87.09,141.09L89.87,137.8L90.8,140.12L91.73,125.05L92.65,132.51L96.36,127.38L97.29,119.68L98.21,124.97L99.14,125.21L100.07,126.5L102.85,119.36L103.77,120.65L104.7,127.3L105.63,132.83L106.55,127.7L109.33,135.72L110.26,135.64L111.18,139.64L112.11,130.26L113.04,128.18L115.82,128.18L116.74,132.19L117.67,131.23L118.6,129.62L119.52,130.67L122.3,122.41L123.23,123.61L124.16,124.01L125.08,121.69L126.01,124.41L128.79,116.32L129.72,113.51L130.64,105.41L132.49,90.58L136.2,89.78L137.13,92.49L138.05,89.58L138.98,86.03L141.76,84.33L142.69,85.79L143.61,91.03L144.54,100.4L145.47,99.99L149.17,96.93L150.1,88.45L151.03,89.74L151.95,92.57L154.73,89.1L155.66,83.77L156.58,88.05L157.51,98.3L158.44,91.76L161.22,90.47L162.14,99.99L163.07,96.44L164,106.13L164.92,103.63L167.7,104.03L169.56,105.16L170.48,106.53L171.41,103.46L175.12,117.75L176.04,109.44L176.97,115.49L177.9,108.14L181.6,107.5L182.53,104.84L183.45,103.46L184.38,94.42L187.16,98.46L188.09,95.88L189.94,88.69L190.87,94.59L193.65,94.59L194.57,100.15L195.5,102.66L196.43,97.09L197.35,96.52L200.13,91.76L202.91,96.44L203.84,95.39L206.62,84.66L207.54,75.54L208.47,74.49L209.4,80.22L210.32,86.59L213.1,81.27L214.03,84.01L214.96,89.1L216.81,100.72L219.59,103.22L221.44,99.87L222.37,95.15L223.3,94.26L227,94.01L228.85,84.91L229.78,100.76L232.56,95.48L233.49,101.08L235.34,107.67L236.27,102.3L239.05,101.17L239.97,105.23L242.75,126.69L245.53,125.96L246.46,127.01L247.39,132.78L248.31,128.39L249.24,130.1L252.02,148.88L252.94,148.79L253.87,147.09L254.8,138.07L255.72,138.47L258.5,141.64L262.21,120.43L264.99,112.71L265.92,123.92L266.84,125.87L267.77,120.02L268.7,128.64L271.48,127.99L272.4,135.63L273.33,141.15L274.26,135.79L275.18,136.85L277.96,144.57L278.89,139.85L279.81,140.67L280.74,141.32L281.67,139.94L284.45,147.74L285.37,137.9L286.3,125.47L287.23,129.69L288.15,119.37L290.93,108.89L291.86,94.91L292.79,100.27L293.71,99.22L294.64,103.69L297.42,101.82L298.35,92.55L299.27,100.43L301.12,93.77L303.9,94.18L304.83,86.7L305.76,86.13L306.68,82.16L311.32,73.4L312.24,62.68L313.17,80.44L314.1,81.75L316.88,75.04L317.8,74.96L319.66,69.88L320.58,60.06L323.36,69.64L324.29,65.06L325.21,61.7L326.14,67.92L327.07,65.14L330.77,62.76L331.7,59.41L332.63,59L333.55,54.33L337.26,69.56L338.19,72.09L339.11,67.35L340.04,64.56L342.82,70.13L343.75,69.39L344.67,74.3L345.6,79.21L346.53,75.12L350.23,71.19L351.16,60.39L352.08,61.45L353.01,52.29L355.79,41.32L356.72,43.04L358.57,46.31L359.5,39.28L362.28,56.38L363.2,54.58L364.13,51.22L365.06,51.22L368.76,99.02L369.69,106.39L370.62,106.88L371.54,134.29L372.47,125.86L375.25,119.73L376.17,118.01L377.1,142.8L378.03,127.58L378.95,126.85L382.66,139.78L383.59,151.89L385.44,138.14L388.22,127.83L389.15,128.24L390.07,137.73L391,144.37L391.93,136.78L395.63,132.33L396.56,130.19L398.41,107.93L401.19,106.19L402.12,99.19L403.04,107.35L404.9,115.35L407.68,125.9L408.6,129.69L409.53,139.26L410.46,145.85L411.38,160.61L414.16,155.17L415.09,148.32L416.02,135.63L416.94,135.88L420.65,153.19L421.57,143.79L423.43,124.17L424.35,134.64L428.06,133.81L428.99,139.75L429.91,142.8L430.84,134.97L433.62,129.53L434.55,138.18L437.33,190.87L440.11,190.04L441.96,201.83L442.89,184.44L443.81,197.22L446.59,203.56L448.44,234.15L449.37,231.1L450.3,219.64L453.08,225.91L454.93,242.97L455.86,233.82L456.78,232.5L459.56,234.81L460.49,237.7L461.42,234.48L462.34,228.46L463.27,231.84L467.9,207.6L468.83,209.83L469.75,208.76L473.46,202.24L474.39,196.23L475.31,201.65L476.24,201.65L479.02,202.73L479.95,201.98L480.87,196.83L481.8,194.08L482.73,183.01L485.51,177.02L486.43,166.46L487.36,159.88L488.29,161.05L489.21,140.41L491.99,158.97L492.92,154.14L493.84,155.39L495.7,134.09L498.48,128.93L499.4,136.75L500.33,134.92L502.18,129.93L504.96,124.44L505.89,130.51L507.74,124.27L508.67,124.19L511.45,139.16L512.38,96.48L513.3,99.39L514.23,107.8L515.16,98.14L517.93,95.9L518.86,79.92L519.79,80.34L520.71,72.52L521.64,70.52L524.42,84L526.27,77.18L527.2,78.92L528.13,84.91L530.91,85.75L531.83,78.92L532.76,90.49L534.61,68.11L537.39,59.12L539.25,91.49L540.17,89.74L541.1,96.65L543.88,95.4L544.8,94.73L545.73,91.82L547.58,79.26L550.36,80.26L553.14,104.47L554.07,102.64L556.85,100.47L557.78,110.79L558.7,103.47L559.63,104.22L560.56,103.8L564.26,112.21L566.11,83.59L567.04,89.97L569.82,83.01L570.75,85.02L571.67,80.66L572.6,71.09L573.53,74.62L576.31,67.65L577.23,79.57L578.16,81.33L579.09,69.16L580.01,71.76L583.72,96.43L584.65,100.37L585.57,104.15L586.5,97.86L589.28,107L590.2,123.69L592.06,141.4L592.98,142.4L595.76,128.14L596.69,128.73L597.62,135.27L598.54,154.4L599.47,152.55L602.25,149.62L604.1,127.13L605.03,130.32L605.96,110.52L608.74,117.99L609.66,111.87L610.59,88.12L611.52,89.05L612.44,109.18L616.15,81.33L617.07,92.99L618.93,103.14L621.71,76.13L623.56,65.89L624.49,62.12L625.41,50.2L628.19,54.48L629.12,53.06L630.05,57.17L630.97,55.91L631.9,42.91L634.68,37.37L635.61,62.62L636.53,68.66L638.38,67.57L641.16,63.79L642.09,58.93L643.02,41.65L643.94,43.58L644.87,12.79L647.65,37.62L648.58,47.52L650.43,47.79L651.36,56.42L654.14,53.29L655.06,43.99L655.99,46.44L656.92,35.02L657.84,72.23L660.62,81.36L661.55,90.07L662.47,105.29L663.4,103.85L664.33,110.53L667.11,139.2L670.81,102.58L673.59,101.57\" style=\"vector-effect: non-scaling-stroke; fill: none; stroke: rgb(31, 119, 180); stroke-opacity: 1; stroke-width: 2px; opacity: 1;\"/></g><g class=\"points\"/><g class=\"text\"/></g><g class=\"trace scatter trace9b4f32a0-683b-4de2-8587-1d1a1cd5f50e\" style=\"stroke-miterlimit: 2; opacity: 1;\"><g class=\"fills\"/><g class=\"errorbars\"/><g class=\"lines\"/><g class=\"points\"><path class=\"point plotly-customdata\" transform=\"translate(429.91,137.44)\" d=\"M-4.62,2H4.62L0,-4Z\" style=\"opacity: 1; stroke-width: 1px; fill: rgb(55, 177, 63); fill-opacity: 1; stroke: rgb(38, 123, 44); stroke-opacity: 1;\"/><path class=\"point plotly-customdata\" transform=\"translate(591.13,119.58)\" d=\"M-4.62,2H4.62L0,-4Z\" style=\"opacity: 1; stroke-width: 1px; fill: rgb(55, 177, 63); fill-opacity: 1; stroke: rgb(38, 123, 44); stroke-opacity: 1;\"/></g><g class=\"text\"/></g><g class=\"trace scatter trace61f6d0f6-fa6f-45ef-ae92-35c20260d3b2\" style=\"stroke-miterlimit: 2; opacity: 1;\"><g class=\"fills\"/><g class=\"errorbars\"/><g class=\"lines\"/><g class=\"points\"><path class=\"point plotly-customdata\" transform=\"translate(292.79,95.8)\" d=\"M-4.62,-2H4.62L0,4Z\" style=\"opacity: 1; stroke-width: 1px; fill: rgb(234, 67, 53); fill-opacity: 1; stroke: rgb(181, 31, 18); stroke-opacity: 1;\"/><path class=\"point plotly-customdata\" transform=\"translate(564.26,105.38)\" d=\"M-4.62,-2H4.62L0,4Z\" style=\"opacity: 1; stroke-width: 1px; fill: rgb(234, 67, 53); fill-opacity: 1; stroke: rgb(181, 31, 18); stroke-opacity: 1;\"/><path class=\"point plotly-customdata\" transform=\"translate(647.65,25.04)\" d=\"M-4.62,-2H4.62L0,4Z\" style=\"opacity: 1; stroke-width: 1px; fill: rgb(234, 67, 53); fill-opacity: 1; stroke: rgb(181, 31, 18); stroke-opacity: 1;\"/></g><g class=\"text\"/></g></g></g><g class=\"overplot\"/><path class=\"xlines-above crisp\" d=\"M0,0\" style=\"fill: none;\"/><path class=\"ylines-above crisp\" d=\"M0,0\" style=\"fill: none;\"/><g class=\"overlines-above\"/><g class=\"xaxislayer-above\"/><g class=\"yaxislayer-above\"><g class=\"ytick\"><text text-anchor=\"end\" x=\"32\" y=\"4.199999999999999\" transform=\"translate(0,289.95)\" style=\"font-family: 'Open Sans', verdana, arial, sans-serif; font-size: 12px; fill: rgb(42, 63, 95); fill-opacity: 1; white-space: pre; opacity: 1;\">90</text></g><g class=\"ytick\"><text text-anchor=\"end\" x=\"32\" y=\"4.199999999999999\" style=\"font-family: 'Open Sans', verdana, arial, sans-serif; font-size: 12px; fill: rgb(42, 63, 95); fill-opacity: 1; white-space: pre; opacity: 1;\" transform=\"translate(0,244.46)\">95</text></g><g class=\"ytick\"><text text-anchor=\"end\" x=\"32\" y=\"4.199999999999999\" style=\"font-family: 'Open Sans', verdana, arial, sans-serif; font-size: 12px; fill: rgb(42, 63, 95); fill-opacity: 1; white-space: pre; opacity: 1;\" transform=\"translate(0,198.97)\">100</text></g><g class=\"ytick\"><text text-anchor=\"end\" x=\"32\" y=\"4.199999999999999\" style=\"font-family: 'Open Sans', verdana, arial, sans-serif; font-size: 12px; fill: rgb(42, 63, 95); fill-opacity: 1; white-space: pre; opacity: 1;\" transform=\"translate(0,153.48000000000002)\">105</text></g><g class=\"ytick\"><text text-anchor=\"end\" x=\"32\" y=\"4.199999999999999\" style=\"font-family: 'Open Sans', verdana, arial, sans-serif; font-size: 12px; fill: rgb(42, 63, 95); fill-opacity: 1; white-space: pre; opacity: 1;\" transform=\"translate(0,107.99000000000001)\">110</text></g></g><g class=\"overaxes-above\"/></g><g class=\"subplot x2y2\"><g class=\"layer-subplot\"><g class=\"shapelayer\"/><g class=\"imagelayer\"/></g><g class=\"gridlayer\"><g class=\"x2\"><path class=\"x2grid crisp\" transform=\"translate(114.54,0)\" d=\"M0,361.23880597014926v255.76119402985077\" style=\"stroke: rgb(255, 255, 255); stroke-opacity: 1; stroke-width: 1px;\"/><path class=\"x2grid crisp\" transform=\"translate(198.85,0)\" d=\"M0,361.23880597014926v255.76119402985077\" style=\"stroke: rgb(255, 255, 255); stroke-opacity: 1; stroke-width: 1px;\"/><path class=\"x2grid crisp\" transform=\"translate(284.09000000000003,0)\" d=\"M0,361.23880597014926v255.76119402985077\" style=\"stroke: rgb(255, 255, 255); stroke-opacity: 1; stroke-width: 1px;\"/><path class=\"x2grid crisp\" transform=\"translate(369.33,0)\" d=\"M0,361.23880597014926v255.76119402985077\" style=\"stroke: rgb(255, 255, 255); stroke-opacity: 1; stroke-width: 1px;\"/><path class=\"x2grid crisp\" transform=\"translate(452.72,0)\" d=\"M0,361.23880597014926v255.76119402985077\" style=\"stroke: rgb(255, 255, 255); stroke-opacity: 1; stroke-width: 1px;\"/><path class=\"x2grid crisp\" transform=\"translate(537.04,0)\" d=\"M0,361.23880597014926v255.76119402985077\" style=\"stroke: rgb(255, 255, 255); stroke-opacity: 1; stroke-width: 1px;\"/><path class=\"x2grid crisp\" transform=\"translate(622.28,0)\" d=\"M0,361.23880597014926v255.76119402985077\" style=\"stroke: rgb(255, 255, 255); stroke-opacity: 1; stroke-width: 1px;\"/><path class=\"x2grid crisp\" transform=\"translate(707.52,0)\" d=\"M0,361.23880597014926v255.76119402985077\" style=\"stroke: rgb(255, 255, 255); stroke-opacity: 1; stroke-width: 1px;\"/></g><g class=\"y2\"><path class=\"y2grid crisp\" transform=\"translate(0,582.1388059701493)\" d=\"M33,0h687\" style=\"stroke: rgb(255, 255, 255); stroke-opacity: 1; stroke-width: 1px;\"/><path class=\"y2grid crisp\" transform=\"translate(0,542.4788059701493)\" d=\"M33,0h687\" style=\"stroke: rgb(255, 255, 255); stroke-opacity: 1; stroke-width: 1px;\"/><path class=\"y2grid crisp\" transform=\"translate(0,502.81880597014924)\" d=\"M33,0h687\" style=\"stroke: rgb(255, 255, 255); stroke-opacity: 1; stroke-width: 1px;\"/><path class=\"y2grid crisp\" transform=\"translate(0,463.16880597014926)\" d=\"M33,0h687\" style=\"stroke: rgb(255, 255, 255); stroke-opacity: 1; stroke-width: 1px;\"/><path class=\"y2grid crisp\" transform=\"translate(0,423.50880597014924)\" d=\"M33,0h687\" style=\"stroke: rgb(255, 255, 255); stroke-opacity: 1; stroke-width: 1px;\"/><path class=\"y2grid crisp\" transform=\"translate(0,383.8488059701493)\" d=\"M33,0h687\" style=\"stroke: rgb(255, 255, 255); stroke-opacity: 1; stroke-width: 1px;\"/></g></g><g class=\"zerolinelayer\"/><path class=\"xlines-below\"/><path class=\"ylines-below\"/><g class=\"overlines-below\"/><g class=\"xaxislayer-below\"/><g class=\"yaxislayer-below\"/><g class=\"overaxes-below\"/><g class=\"plot\" transform=\"translate(33,361.23880597014926)\" clip-path=\"url(#clip961eedx2y2plot)\"><g class=\"scatterlayer mlayer\"><g class=\"trace scatter trace9fd9c2b1-17ff-43bb-a743-155f88dfa7a0\" style=\"stroke-miterlimit: 2; opacity: 1;\"><g class=\"fills\"/><g class=\"errorbars\"/><g class=\"lines\"><path class=\"js-line\" d=\"M0,219.71L0.93,222.28L1.85,220.56L2.78,220.74L5.56,227.92L6.49,232.71L7.41,232.54L9.27,235.45L12.97,229.63L13.9,228.43L14.82,231L15.75,227.92L18.53,226.04L20.38,214.24L21.31,219.54L22.24,225.7L25.02,226.89L25.94,223.64L26.87,228.95L28.72,224.16L31.5,223.81L33.36,215.95L34.28,229.12L35.21,240.58L37.99,239.89L39.84,242.97L40.77,229.97L41.69,229.46L45.4,225.53L48.18,220.05L50.96,221.93L53.74,208.25L54.67,208.08L58.37,216.46L59.3,216.46L60.22,215.78L61.15,211.33L63.93,209.43L64.86,210.46L66.71,205.63L67.64,209.43L70.42,206.84L71.34,201.32L74.12,207.88L76.9,204.42L77.83,202.53L78.76,202.7L79.68,199.59L80.61,202.35L83.39,202.87L84.31,198.21L85.24,200.11L86.17,198.39L87.09,199.42L89.87,198.04L90.8,198.56L91.73,193.73L92.65,196.31L96.36,191.48L97.29,184.41L98.21,188.72L100.07,191.48L102.85,187.86L103.77,190.79L104.7,188.55L105.63,192.52L106.55,190.1L109.33,188.89L110.26,185.96L111.18,187.17L112.11,181.3L113.04,180.78L115.82,177.33L116.74,183.89L117.67,182.85L118.6,181.13L119.52,182.51L122.3,180.09L123.23,178.02L124.16,176.64L125.08,178.88L128.79,172.33L129.72,168.7L131.57,151.1L132.49,151.45L137.13,150.07L138.05,144.54L138.98,142.82L141.76,141.09L142.69,141.27L143.61,149.38L144.54,155.93L145.47,152.65L148.25,152.48L149.17,151.26L150.1,146.57L151.03,147.44L151.95,146.39L154.73,145.17L155.66,141.17L156.58,147.96L157.51,150.57L158.44,147.44L161.22,144.3L162.14,150.92L163.07,146.22L164,154.74L164.92,154.4L167.7,155.96L169.56,154.92L170.48,162.23L175.12,163.44L176.04,160.31L176.97,161.7L177.9,157.35L180.67,156.48L181.6,157.53L182.53,154.74L183.45,154.92L184.38,151.26L187.16,154.57L189.94,132.3L190.87,134.21L193.65,137.17L194.57,139.61L195.5,141.52L196.43,140.13L197.35,143.09L200.13,140.65L201.99,141.52L202.91,138.91L203.84,141.52L206.62,137.87L207.54,131.08L208.47,130.91L210.32,140.13L213.1,139.95L215.88,144.65L216.81,141.87L219.59,144.48L220.52,143.96L221.44,145L222.37,142.22L223.3,138.22L227,135.78L227.93,135.08L228.85,129.52L229.78,129.17L232.56,125.34L234.41,119.25L235.34,126.09L236.27,124.86L239.05,126.09L240.9,131.88L241.83,138.54L245.53,133.46L246.46,135.56L247.39,151.87L248.31,147.13L249.24,145.38L252.02,149.06L253.87,136.79L254.8,136.44L258.5,138.37L259.43,130.3L260.36,126.27L261.28,126.09L262.21,124.86L264.99,117.15L266.84,121L267.77,117.67L268.7,121.35L271.48,122.41L273.33,127.14L274.26,123.99L275.18,126.79L277.96,130.47L278.89,128.37L279.81,131.53L281.67,128.55L284.45,137.31L286.3,124.86L287.23,123.99L288.15,118.55L290.93,115.39L291.86,102.94L292.79,113.81L293.71,118.37L294.64,133.11L297.42,137.49L298.35,131.88L299.27,130.82L301.12,130.12L303.9,129.77L304.83,131L305.76,136.79L306.68,125.47L307.61,121.94L310.39,117.34L311.32,116.81L312.24,113.45L314.1,133.61L316.88,133.25L317.8,133.96L318.73,123.17L320.58,118.05L323.36,122.64L324.29,119.11L325.21,119.99L326.14,128.48L327.07,128.65L330.77,124.76L331.7,122.64L332.63,126.36L333.55,123.53L338.19,131.31L339.11,119.99L342.82,121.41L343.75,117.34L345.6,120.7L346.53,118.75L350.23,112.03L351.16,106.91L352.08,105.85L353.01,100.9L356.72,95.77L357.64,89.05L358.57,88.87L359.5,76.67L363.2,96.48L364.13,93.29L365.06,95.77L365.98,108.5L369.69,144.92L370.62,146.87L371.54,172.68L372.47,172.15L376.17,153.41L377.1,155L378.95,139.44L382.66,156.94L383.59,168.44L384.51,165.25L385.44,156.06L388.22,156.24L390.07,170.56L391,166.85L391.93,161.72L394.71,158.71L395.63,158L396.56,159.95L398.41,142.27L401.19,147.4L402.12,146.69L403.04,153.82L403.97,155.79L404.9,159.53L408.6,164.88L409.53,167.74L411.38,179.69L414.16,173.27L415.09,169.7L416.02,162.03L416.94,160.07L420.65,173.62L423.43,142.76L424.35,151.33L427.13,152.93L428.06,150.08L429.91,149.36L430.84,140.8L433.62,137.77L434.55,134.2L437.33,154.54L440.11,150.26L441.96,177.9L442.89,172.2L443.81,162.21L446.59,163.99L448.44,184.5L449.37,187.54L450.3,179.15L453.08,183.08L454,188.96L454.93,189.5L455.86,182.36L456.78,183.08L459.56,184.86L460.49,190.57L461.42,193.6L462.34,180.22L463.27,182.36L466.05,178.26L466.98,181.11L467.9,178.44L468.83,179.87L469.75,178.44L473.46,173.44L474.39,165.42L475.31,167.74L476.24,165.6L479.02,159L479.95,165.77L480.87,159.53L481.8,159.89L482.73,150.79L485.51,147.58L486.43,142.59L487.36,146.69L488.29,150.47L489.21,140.75L491.99,151.01L492.92,150.11L494.77,159.29L495.7,156.41L498.48,150.47L499.4,154.97L500.33,159.65L501.26,152.45L502.18,145.43L504.96,147.41L507.74,131.03L508.67,131.39L511.45,135.71L512.38,125.45L514.23,130.85L515.16,129.59L517.93,129.77L518.86,120.41L519.79,122.75L520.71,122.93L521.64,119.88L524.42,125.81L525.35,120.24L526.27,105.3L527.2,102.6L528.13,103.14L530.91,102.78L531.83,95.58L533.69,103.68L534.61,95.76L537.39,95.22L538.32,97.92L539.25,104.22L540.17,100.62L541.1,105.48L543.88,109.98L544.8,108.9L545.73,105.48L546.66,102.96L547.58,96.12L550.36,93.78L551.29,102.96L553.14,112.32L554.07,113.58L556.85,112.5L557.78,118.26L558.7,118.98L559.63,125.81L560.56,132.65L564.26,129.23L566.11,111.06L567.04,111.96L569.82,105.84L570.75,106.56L571.67,102.6L572.6,102.96L573.53,100.06L576.31,94.07L577.23,101.15L578.16,100.6L579.09,88.26L580.01,89.35L582.79,98.61L583.72,105.68L586.5,96.43L589.28,95.7L590.2,90.62L591.13,102.24L592.06,102.6L592.98,102.05L595.76,91.17L596.69,92.8L598.54,124.56L599.47,123.83L602.25,119.66L603.18,109.13L604.1,102.42L605.03,106.95L605.96,93.89L608.74,100.42L610.59,86.63L611.52,90.62L612.44,101.33L615.22,91.53L617.07,65.76L618,68.3L623.56,38.71L624.49,39.44L625.41,33.09L628.19,29.64L629.12,29.82L630.05,31.64L630.97,32L631.9,24.2L634.68,18.02L635.61,38.53L636.53,50.33L638.38,45.07L641.16,47.79L642.09,38.71L643.02,32.54L643.94,38.76L644.87,12.79L647.65,25.78L650.43,31.45L651.36,36.75L654.14,34.01L655.06,28.52L655.99,34.37L656.92,29.8L657.84,32.18L660.62,50.65L661.55,50.84L662.47,58.52L663.4,65.1L664.33,64.56L667.11,94.01L668.96,76.08L669.89,65.29L670.81,71.32L673.59,68.58\" style=\"vector-effect: non-scaling-stroke; fill: none; stroke: rgb(31, 119, 180); stroke-opacity: 1; stroke-width: 2px; opacity: 1;\"/></g><g class=\"points\"/><g class=\"text\"/></g><g class=\"trace scatter tracecbd034e4-c251-41e0-9ec5-051362ae6bb0\" style=\"stroke-miterlimit: 2; opacity: 1;\"><g class=\"fills\"/><g class=\"errorbars\"/><g class=\"lines\"/><g class=\"points\"><path class=\"point plotly-customdata\" transform=\"translate(292.79,104.87)\" d=\"M-4.62,2H4.62L0,-4Z\" style=\"opacity: 1; stroke-width: 1px; fill: rgb(55, 177, 63); fill-opacity: 1; stroke: rgb(38, 123, 44); stroke-opacity: 1;\"/><path class=\"point plotly-customdata\" transform=\"translate(564.26,132.11)\" d=\"M-4.62,2H4.62L0,-4Z\" style=\"opacity: 1; stroke-width: 1px; fill: rgb(55, 177, 63); fill-opacity: 1; stroke: rgb(38, 123, 44); stroke-opacity: 1;\"/><path class=\"point plotly-customdata\" transform=\"translate(647.65,22.48)\" d=\"M-4.62,2H4.62L0,-4Z\" style=\"opacity: 1; stroke-width: 1px; fill: rgb(55, 177, 63); fill-opacity: 1; stroke: rgb(38, 123, 44); stroke-opacity: 1;\"/></g><g class=\"text\"/></g><g class=\"trace scatter trace5fb15a7b-749c-4131-b42c-b17f8b43b128\" style=\"stroke-miterlimit: 2; opacity: 1;\"><g class=\"fills\"/><g class=\"errorbars\"/><g class=\"lines\"/><g class=\"points\"><path class=\"point plotly-customdata\" transform=\"translate(429.91,148.47)\" d=\"M-4.62,-2H4.62L0,4Z\" style=\"opacity: 1; stroke-width: 1px; fill: rgb(234, 67, 53); fill-opacity: 1; stroke: rgb(181, 31, 18); stroke-opacity: 1;\"/><path class=\"point plotly-customdata\" transform=\"translate(591.13,91.53)\" d=\"M-4.62,-2H4.62L0,4Z\" style=\"opacity: 1; stroke-width: 1px; fill: rgb(234, 67, 53); fill-opacity: 1; stroke: rgb(181, 31, 18); stroke-opacity: 1;\"/></g><g class=\"text\"/></g></g></g><g class=\"overplot\"/><path class=\"xlines-above crisp\" d=\"M0,0\" style=\"fill: none;\"/><path class=\"ylines-above crisp\" d=\"M0,0\" style=\"fill: none;\"/><g class=\"overlines-above\"/><g class=\"xaxislayer-above\"><g class=\"x2tick\"><text text-anchor=\"middle\" x=\"0\" y=\"630\" transform=\"translate(114.54,0)\" style=\"font-family: 'Open Sans', verdana, arial, sans-serif; font-size: 12px; fill: rgb(42, 63, 95); fill-opacity: 1; white-space: pre; opacity: 1;\">Apr 2017</text></g><g class=\"x2tick\"><text text-anchor=\"middle\" x=\"0\" y=\"630\" style=\"font-family: 'Open Sans', verdana, arial, sans-serif; font-size: 12px; fill: rgb(42, 63, 95); fill-opacity: 1; white-space: pre; opacity: 1;\" transform=\"translate(198.85,0)\">Jul 2017</text></g><g class=\"x2tick\"><text text-anchor=\"middle\" x=\"0\" y=\"630\" style=\"font-family: 'Open Sans', verdana, arial, sans-serif; font-size: 12px; fill: rgb(42, 63, 95); fill-opacity: 1; white-space: pre; opacity: 1;\" transform=\"translate(284.09000000000003,0)\">Oct 2017</text></g><g class=\"x2tick\"><text text-anchor=\"middle\" x=\"0\" y=\"630\" style=\"font-family: 'Open Sans', verdana, arial, sans-serif; font-size: 12px; fill: rgb(42, 63, 95); fill-opacity: 1; white-space: pre; opacity: 1;\" transform=\"translate(369.33,0)\">Jan 2018</text></g><g class=\"x2tick\"><text text-anchor=\"middle\" x=\"0\" y=\"630\" style=\"font-family: 'Open Sans', verdana, arial, sans-serif; font-size: 12px; fill: rgb(42, 63, 95); fill-opacity: 1; white-space: pre; opacity: 1;\" transform=\"translate(452.72,0)\">Apr 2018</text></g><g class=\"x2tick\"><text text-anchor=\"middle\" x=\"0\" y=\"630\" style=\"font-family: 'Open Sans', verdana, arial, sans-serif; font-size: 12px; fill: rgb(42, 63, 95); fill-opacity: 1; white-space: pre; opacity: 1;\" transform=\"translate(537.04,0)\">Jul 2018</text></g><g class=\"x2tick\"><text text-anchor=\"middle\" x=\"0\" y=\"630\" style=\"font-family: 'Open Sans', verdana, arial, sans-serif; font-size: 12px; fill: rgb(42, 63, 95); fill-opacity: 1; white-space: pre; opacity: 1;\" transform=\"translate(622.28,0)\">Oct 2018</text></g><g class=\"x2tick\"><text text-anchor=\"middle\" x=\"0\" y=\"630\" style=\"font-family: 'Open Sans', verdana, arial, sans-serif; font-size: 12px; fill: rgb(42, 63, 95); fill-opacity: 1; white-space: pre; opacity: 1;\" transform=\"translate(707.52,0)\">Jan 2019</text></g></g><g class=\"yaxislayer-above\"><g class=\"y2tick\"><text text-anchor=\"end\" x=\"32\" y=\"4.199999999999999\" transform=\"translate(0,582.1388059701493)\" style=\"font-family: 'Open Sans', verdana, arial, sans-serif; font-size: 12px; fill: rgb(42, 63, 95); fill-opacity: 1; white-space: pre; opacity: 1;\">36</text></g><g class=\"y2tick\"><text text-anchor=\"end\" x=\"32\" y=\"4.199999999999999\" style=\"font-family: 'Open Sans', verdana, arial, sans-serif; font-size: 12px; fill: rgb(42, 63, 95); fill-opacity: 1; white-space: pre; opacity: 1;\" transform=\"translate(0,542.4788059701493)\">38</text></g><g class=\"y2tick\"><text text-anchor=\"end\" x=\"32\" y=\"4.199999999999999\" style=\"font-family: 'Open Sans', verdana, arial, sans-serif; font-size: 12px; fill: rgb(42, 63, 95); fill-opacity: 1; white-space: pre; opacity: 1;\" transform=\"translate(0,502.81880597014924)\">40</text></g><g class=\"y2tick\"><text text-anchor=\"end\" x=\"32\" y=\"4.199999999999999\" style=\"font-family: 'Open Sans', verdana, arial, sans-serif; font-size: 12px; fill: rgb(42, 63, 95); fill-opacity: 1; white-space: pre; opacity: 1;\" transform=\"translate(0,463.16880597014926)\">42</text></g><g class=\"y2tick\"><text text-anchor=\"end\" x=\"32\" y=\"4.199999999999999\" style=\"font-family: 'Open Sans', verdana, arial, sans-serif; font-size: 12px; fill: rgb(42, 63, 95); fill-opacity: 1; white-space: pre; opacity: 1;\" transform=\"translate(0,423.50880597014924)\">44</text></g><g class=\"y2tick\"><text text-anchor=\"end\" x=\"32\" y=\"4.199999999999999\" style=\"font-family: 'Open Sans', verdana, arial, sans-serif; font-size: 12px; fill: rgb(42, 63, 95); fill-opacity: 1; white-space: pre; opacity: 1;\" transform=\"translate(0,383.8488059701493)\">46</text></g></g><g class=\"overaxes-above\"/></g></g><g class=\"polarlayer\"/><g class=\"ternarylayer\"/><g class=\"geolayer\"/><g class=\"funnelarealayer\"/><g class=\"pielayer\"/><g class=\"iciclelayer\"/><g class=\"treemaplayer\"/><g class=\"sunburstlayer\"/><g class=\"glimages\"/><defs id=\"topdefs-961eed\"><g class=\"clips\"/><clipPath id=\"legend961eed\"><rect width=\"207\" height=\"29\" x=\"0\" y=\"0\"/></clipPath></defs><g class=\"layer-above\"><g class=\"imagelayer\"/><g class=\"shapelayer\"/></g><g class=\"infolayer\"><g class=\"legend\" pointer-events=\"all\" transform=\"translate(513,11.52238805970152)\"><rect class=\"bg\" shape-rendering=\"crispEdges\" style=\"stroke: rgb(68, 68, 68); stroke-opacity: 1; fill: rgb(255, 255, 255); fill-opacity: 1; stroke-width: 0px;\" width=\"207\" height=\"29\" x=\"0\" y=\"0\"/><g class=\"scrollbox\" transform=\"\" clip-path=\"url(#legend961eed)\"><g class=\"groups\"><g class=\"traces\" transform=\"translate(0,14.5)\" style=\"opacity: 1;\"><text class=\"legendtext\" text-anchor=\"start\" x=\"40\" y=\"4.680000000000001\" style=\"font-family: 'Open Sans', verdana, arial, sans-serif; font-size: 12px; fill: rgb(42, 63, 95); fill-opacity: 1; white-space: pre;\">Close</text><g class=\"layers\" style=\"opacity: 1;\"><g class=\"legendfill\"/><g class=\"legendlines\"><path class=\"js-line\" d=\"M5,0h30\" style=\"fill: none; stroke: rgb(31, 119, 180); stroke-opacity: 1; stroke-width: 2px;\"/></g><g class=\"legendsymbols\"><g class=\"legendpoints\"/></g></g><rect class=\"legendtoggle\" x=\"0\" y=\"-9.5\" width=\"73.515625\" height=\"19\" style=\"fill: rgb(0, 0, 0); fill-opacity: 0;\"/></g><g class=\"traces\" transform=\"translate(76.015625,14.5)\" style=\"opacity: 1;\"><text class=\"legendtext\" text-anchor=\"start\" x=\"40\" y=\"4.680000000000001\" style=\"font-family: 'Open Sans', verdana, arial, sans-serif; font-size: 12px; fill: rgb(42, 63, 95); fill-opacity: 1; white-space: pre;\">Buy</text><g class=\"layers\" style=\"opacity: 1;\"><g class=\"legendfill\"/><g class=\"legendlines\"/><g class=\"legendsymbols\"><g class=\"legendpoints\"><path class=\"scatterpts\" transform=\"translate(20,0)\" d=\"M-4.62,2H4.62L0,-4Z\" style=\"opacity: 1; stroke-width: 1px; fill: rgb(55, 177, 63); fill-opacity: 1; stroke: rgb(38, 123, 44); stroke-opacity: 1;\"/></g></g></g><rect class=\"legendtoggle\" x=\"0\" y=\"-9.5\" width=\"63.1875\" height=\"19\" style=\"fill: rgb(0, 0, 0); fill-opacity: 0;\"/></g><g class=\"traces\" transform=\"translate(141.703125,14.5)\" style=\"opacity: 1;\"><text class=\"legendtext\" text-anchor=\"start\" x=\"40\" y=\"4.680000000000001\" style=\"font-family: 'Open Sans', verdana, arial, sans-serif; font-size: 12px; fill: rgb(42, 63, 95); fill-opacity: 1; white-space: pre;\">Sell</text><g class=\"layers\" style=\"opacity: 1;\"><g class=\"legendfill\"/><g class=\"legendlines\"/><g class=\"legendsymbols\"><g class=\"legendpoints\"><path class=\"scatterpts\" transform=\"translate(20,0)\" d=\"M-4.62,-2H4.62L0,4Z\" style=\"opacity: 1; stroke-width: 1px; fill: rgb(234, 67, 53); fill-opacity: 1; stroke: rgb(181, 31, 18); stroke-opacity: 1;\"/></g></g></g><rect class=\"legendtoggle\" x=\"0\" y=\"-9.5\" width=\"62.515625\" height=\"19\" style=\"fill: rgb(0, 0, 0); fill-opacity: 0;\"/></g></g></g><rect class=\"scrollbar\" rx=\"20\" ry=\"3\" width=\"0\" height=\"0\" style=\"fill: rgb(128, 139, 164); fill-opacity: 1;\" x=\"0\" y=\"0\"/></g><g class=\"g-gtitle\"/><g class=\"g-xtitle\"/><g class=\"g-x2title\"><text class=\"x2title\" x=\"376.5\" y=\"657.8\" text-anchor=\"middle\" style=\"font-family: 'Open Sans', verdana, arial, sans-serif; font-size: 14px; fill: rgb(42, 63, 95); opacity: 1; font-weight: normal; white-space: pre;\">Index</text></g><g class=\"g-ytitle\"/><g class=\"g-y2title\"/><g class=\"annotation\" data-index=\"0\" style=\"opacity: 1;\"><g class=\"annotation-text-g\" transform=\"rotate(0,376.5,62.5)\"><g class=\"cursor-pointer\" transform=\"translate(327,52)\"><rect class=\"bg\" x=\"0.5\" y=\"0.5\" width=\"99\" height=\"20\" style=\"stroke-width: 1px; stroke: rgb(0, 0, 0); stroke-opacity: 0; fill: rgb(0, 0, 0); fill-opacity: 0;\"/><text class=\"annotation-text\" text-anchor=\"middle\" x=\"50.015625\" y=\"16\" style=\"font-family: 'Open Sans', verdana, arial, sans-serif; font-size: 16px; fill: rgb(42, 63, 95); fill-opacity: 1; white-space: pre;\">Orders (PEP)</text></g></g></g><g class=\"annotation\" data-index=\"1\" style=\"opacity: 1;\"><g class=\"annotation-text-g\" transform=\"rotate(0,376.5,350.73880597014926)\"><g class=\"cursor-pointer\" transform=\"translate(331,340)\"><rect class=\"bg\" x=\"0.5\" y=\"0.5\" width=\"90\" height=\"20\" style=\"stroke-width: 1px; stroke: rgb(0, 0, 0); stroke-opacity: 0; fill: rgb(0, 0, 0); fill-opacity: 0;\"/><text class=\"annotation-text\" text-anchor=\"middle\" x=\"45.5625\" y=\"16\" style=\"font-family: 'Open Sans', verdana, arial, sans-serif; font-size: 16px; fill: rgb(42, 63, 95); fill-opacity: 1; white-space: pre;\">Orders (KO)</text></g></g></g></g></svg>"
          },
          "metadata": {}
        }
      ]
    },
    {
      "cell_type": "code",
      "metadata": {
        "id": "rAulWt2teWyp",
        "outputId": "84325e11-d6b8-43fe-c565-2ab71123a744"
      },
      "source": [
        "# How fast is vbt?\n",
        "%timeit simulate_from_orders()"
      ],
      "execution_count": null,
      "outputs": [
        {
          "name": "stdout",
          "output_type": "stream",
          "text": [
            "3.72 ms ± 15.9 µs per loop (mean ± std. dev. of 7 runs, 100 loops each)\n"
          ]
        }
      ]
    },
    {
      "cell_type": "markdown",
      "metadata": {
        "id": "4CAbOCC-eWyp"
      },
      "source": [
        "While Portfolio.from_orders is a very convenient and optimized function for simulating portfolios, it requires some prior steps to produce the size array. In the example above, we needed to manually run the calculation of the spread z-score, generate the signals from the z-score, build the size array from the signals, and make sure that all arrays are perfectly aligned. All these steps must be repeated and adapted accordingly once there is more than one hyperparameter combination to test.\n",
        "\n",
        "Nevertheless, dividing the pipeline into clearly separated backtesting steps helps us to analyze each step thoroughly and actually does wonders for strategy development and debugging."
      ]
    },
    {
      "cell_type": "markdown",
      "metadata": {
        "id": "skj2wkwOeWyp"
      },
      "source": [
        "### Using Portfolio.from_order_func"
      ]
    },
    {
      "cell_type": "markdown",
      "metadata": {
        "id": "-dcePl5_eWyq"
      },
      "source": [
        "Portfolio.from_order_func follows a different (self-contained) approach where as much steps as possible should be defined in the simulation function itself. It sequentially processes timestamps one by one and executes orders based on the logic the user defined rather than parses this logic from some arrays. While this makes order execution less transparent as you cannot analyze each piece of data on the fly anymore (sadly, no pandas and plotting within Numba), it has one big advantage over other vectorized methods: event-driven order processing. This gives best flexibility (you can write any logic), security (less probability of exposing yourself to a look-ahead bias among other biases), and performance (you're traversing the data only once). This method is the most similar one compared to backtrader."
      ]
    },
    {
      "cell_type": "code",
      "metadata": {
        "id": "yO2MI4zQeWyq"
      },
      "source": [
        "from vectorbt.portfolio import nb as portfolio_nb\n",
        "from vectorbt.base.reshape_fns import flex_select_auto_nb\n",
        "from vectorbt.portfolio.enums import SizeType, Direction\n",
        "from collections import namedtuple\n",
        "\n",
        "Memory = namedtuple(\"Memory\", ('spread', 'zscore', 'status'))\n",
        "Params = namedtuple(\"Params\", ('period', 'upper', 'lower', 'order_pct1', 'order_pct2'))\n",
        "\n",
        "@njit\n",
        "def pre_group_func_nb(c, _period, _upper, _lower, _order_pct1, _order_pct2):\n",
        "    \"\"\"Prepare the current group (= pair of columns).\"\"\"\n",
        "    assert c.group_len == 2\n",
        "    \n",
        "    # In contrast to bt, we don't have a class instance that we could use to store arrays,\n",
        "    # so let's create a namedtuple acting as a container for our arrays\n",
        "    # ( you could also pass each array as a standalone object, but a single object is more convenient)\n",
        "    spread = np.full(c.target_shape[0], np.nan, dtype=np.float_)\n",
        "    zscore = np.full(c.target_shape[0], np.nan, dtype=np.float_)\n",
        "    \n",
        "    # Note that namedtuples aren't mutable, you can't simply assign a value,\n",
        "    # thus make status variable an array of one element for an easy assignment\n",
        "    status = np.full(1, 0, dtype=np.int_)\n",
        "    memory = Memory(spread, zscore, status)\n",
        "    \n",
        "    # Treat each param as an array with value per group, and select the combination of params for this group\n",
        "    period = flex_select_auto_nb(np.asarray(_period), 0, c.group, True)\n",
        "    upper = flex_select_auto_nb(np.asarray(_upper), 0, c.group, True)\n",
        "    lower = flex_select_auto_nb(np.asarray(_lower), 0, c.group, True)\n",
        "    order_pct1 = flex_select_auto_nb(np.asarray(_order_pct1), 0, c.group, True)\n",
        "    order_pct2 = flex_select_auto_nb(np.asarray(_order_pct2), 0, c.group, True)\n",
        "    \n",
        "    # Put all params into a container (again, this is optional)\n",
        "    params = Params(period, upper, lower, order_pct1, order_pct2)\n",
        "    \n",
        "    # Create an array that will store our two target percentages used by order_func_nb\n",
        "    # we do it here instead of in pre_segment_func_nb to initialize the array once, instead of in each row\n",
        "    size = np.empty(c.group_len, dtype=np.float_)\n",
        "    \n",
        "    # The returned tuple is passed as arguments to the function below\n",
        "    return (memory, params, size)\n",
        "    \n",
        "\n",
        "@njit\n",
        "def pre_segment_func_nb(c, memory, params, size, mode):\n",
        "    \"\"\"Prepare the current segment (= row within group).\"\"\"\n",
        "    \n",
        "    # We want to perform calculations once we reach full window size\n",
        "    if c.i < params.period - 1:\n",
        "        size[0] = np.nan  # size of nan means no order\n",
        "        size[1] = np.nan\n",
        "        return (size,)\n",
        "    \n",
        "    # z-core is calculated using a window (=period) of spread values\n",
        "    # This window can be specified as a slice\n",
        "    window_slice = slice(max(0, c.i + 1 - params.period), c.i + 1)\n",
        "    \n",
        "    # Here comes the same as in rolling_ols_zscore_nb\n",
        "    if mode == 'OLS':\n",
        "        a = c.close[window_slice, c.from_col]\n",
        "        b = c.close[window_slice, c.from_col + 1]\n",
        "        memory.spread[c.i] = ols_spread_nb(a, b)\n",
        "    elif mode == 'log_return':\n",
        "        logret_a = np.log(c.close[c.i, c.from_col] / c.close[c.i - 1, c.from_col])\n",
        "        logret_b = np.log(c.close[c.i, c.from_col + 1] / c.close[c.i - 1, c.from_col + 1])\n",
        "        memory.spread[c.i] = logret_a - logret_b\n",
        "    else:\n",
        "        raise ValueError(\"Unknown mode\")\n",
        "    spread_mean = np.mean(memory.spread[window_slice])\n",
        "    spread_std = np.std(memory.spread[window_slice])\n",
        "    memory.zscore[c.i] = (memory.spread[c.i] - spread_mean) / spread_std\n",
        "    \n",
        "    # Check if any bound is crossed\n",
        "    # Since zscore is calculated using close, use zscore of the previous step\n",
        "    # This way we are executing signals defined at the previous bar\n",
        "    # Same logic as in PairTradingStrategy\n",
        "    if memory.zscore[c.i - 1] > params.upper and memory.status[0] != 1:\n",
        "        size[0] = -params.order_pct1\n",
        "        size[1] = params.order_pct2\n",
        "        \n",
        "        # Here we specify the order of execution\n",
        "        # call_seq_now defines order for the current group (2 elements)\n",
        "        c.call_seq_now[0] = 0\n",
        "        c.call_seq_now[1] = 1\n",
        "        memory.status[0] = 1\n",
        "    elif memory.zscore[c.i - 1] < params.lower and memory.status[0] != 2:\n",
        "        size[0] = params.order_pct1\n",
        "        size[1] = -params.order_pct2\n",
        "        c.call_seq_now[0] = 1  # execute the second order first to release funds early\n",
        "        c.call_seq_now[1] = 0\n",
        "        memory.status[0] = 2\n",
        "    else:\n",
        "        size[0] = np.nan\n",
        "        size[1] = np.nan\n",
        "        \n",
        "    # Group value is converted to shares using previous close, just like in bt\n",
        "    # Note that last_val_price contains valuation price of all columns, not just the current pair\n",
        "    c.last_val_price[c.from_col] = c.close[c.i - 1, c.from_col]\n",
        "    c.last_val_price[c.from_col + 1] = c.close[c.i - 1, c.from_col + 1]\n",
        "        \n",
        "    return (size,)\n",
        "\n",
        "@njit\n",
        "def order_func_nb(c, size, price, commperc):\n",
        "    \"\"\"Place an order (= element within group and row).\"\"\"\n",
        "    \n",
        "    # Get column index within group (if group starts at column 58 and current column is 59, \n",
        "    # the column within group is 1, which can be used to get size)\n",
        "    group_col = c.col - c.from_col\n",
        "    return portfolio_nb.order_nb(\n",
        "        size=size[group_col], \n",
        "        price=price[c.i, c.col],\n",
        "        size_type=SizeType.TargetPercent,\n",
        "        fees=commperc\n",
        "    )"
      ],
      "execution_count": 47,
      "outputs": []
    },
    {
      "cell_type": "code",
      "metadata": {
        "id": "XhVvi6pdeWyq"
      },
      "source": [
        "def simulate_from_order_func():\n",
        "    \"\"\"Simulate using `Portfolio.from_order_func`.\"\"\"\n",
        "    return vbt.Portfolio.from_order_func(\n",
        "        vbt_close_price,\n",
        "        order_func_nb, \n",
        "        vbt_open_price.values, COMMPERC,  # *args for order_func_nb\n",
        "        pre_group_func_nb=pre_group_func_nb, \n",
        "        pre_group_args=(PERIOD, UPPER, LOWER, ORDER_PCT1, ORDER_PCT2),\n",
        "        pre_segment_func_nb=pre_segment_func_nb, \n",
        "        pre_segment_args=(MODE,),\n",
        "        fill_pos_record=False,  # a bit faster\n",
        "        init_cash=CASH,\n",
        "        cash_sharing=True, \n",
        "        group_by=True,\n",
        "        freq='d'\n",
        "    )\n",
        "\n",
        "vbt_pf2 = simulate_from_order_func()"
      ],
      "execution_count": null,
      "outputs": []
    },
    {
      "cell_type": "code",
      "metadata": {
        "id": "eW6sueV7eWyq",
        "outputId": "d2d98d01-3235-47ba-f194-1fa08f34168d"
      },
      "source": [
        "print(vbt_pf2.orders.records_readable)"
      ],
      "execution_count": null,
      "outputs": [
        {
          "name": "stdout",
          "output_type": "stream",
          "text": [
            "   Order Id Column  Timestamp        Size       Price        Fees  Side\n",
            "0         0    PEP 2017-11-15   96.698241  103.316229   49.952488  Sell\n",
            "1         1     KO 2017-11-15  238.385955   41.851497   49.884046   Buy\n",
            "2         2     KO 2018-04-12  490.647327   39.652521   97.277017  Sell\n",
            "3         3    PEP 2018-04-12  198.056953   98.739352   97.780076   Buy\n",
            "4         4    PEP 2018-09-04  198.781680  102.263047  101.640101  Sell\n",
            "5         5     KO 2018-09-04  498.975917   40.477607  100.986755   Buy\n",
            "6         6     KO 2018-10-03  482.284086   42.524342  102.544068  Sell\n",
            "7         7    PEP 2018-10-03  197.454665  100.702245   99.420640   Buy\n",
            "8         8    PEP 2018-12-03  189.202087  111.094282  105.096350  Sell\n",
            "9         9     KO 2018-12-03  451.211817   46.006429  103.793222   Buy\n"
          ]
        }
      ]
    },
    {
      "cell_type": "code",
      "metadata": {
        "id": "xWN2HEg_eWyq"
      },
      "source": [
        "# Proof that both bt and vbt produce the same result\n",
        "pd.testing.assert_series_equal(bt_cash, vbt_pf2.cash().rename('cash'))\n",
        "pd.testing.assert_series_equal(bt_value, vbt_pf2.value().rename('value'))"
      ],
      "execution_count": null,
      "outputs": []
    },
    {
      "cell_type": "code",
      "metadata": {
        "id": "7ZKtZnjBeWyr",
        "outputId": "c82571b4-2dc2-4ab0-ef81-055ae6fedccc"
      },
      "source": [
        "# How fast is vbt?\n",
        "%timeit simulate_from_order_func()"
      ],
      "execution_count": null,
      "outputs": [
        {
          "name": "stdout",
          "output_type": "stream",
          "text": [
            "4.4 ms ± 17.3 µs per loop (mean ± std. dev. of 7 runs, 100 loops each)\n"
          ]
        }
      ]
    },
    {
      "cell_type": "markdown",
      "metadata": {
        "id": "ho8GncC7eWyr"
      },
      "source": [
        "### Numba paradise (or hell?) - fastest"
      ]
    },
    {
      "cell_type": "code",
      "metadata": {
        "id": "FMUzlUqweWyr"
      },
      "source": [
        "def simulate_nb_from_order_func():\n",
        "    \"\"\"Simulate using `simulate_nb`.\"\"\"\n",
        "    # iterate over 502 rows and 2 columns, each element is a potential order\n",
        "    target_shape = vbt_close_price.shape\n",
        "    \n",
        "    # number of columns in the group - exactly two\n",
        "    group_lens = np.array([2])\n",
        "    \n",
        "    # build default call sequence (orders are executed from the left to the right column)\n",
        "    call_seq = portfolio_nb.build_call_seq(target_shape, group_lens)\n",
        "    \n",
        "    # initial cash per group\n",
        "    init_cash = np.array([CASH], dtype=np.float_)\n",
        "    \n",
        "    order_records, log_records = portfolio_nb.simulate_nb(\n",
        "        target_shape=target_shape, \n",
        "        group_lens=group_lens,\n",
        "        init_cash=init_cash,\n",
        "        cash_sharing=True,\n",
        "        call_seq=call_seq,  \n",
        "        segment_mask=np.full(target_shape, True),  # used for disabling some segments\n",
        "        pre_group_func_nb=pre_group_func_nb, \n",
        "        pre_group_args=(PERIOD, UPPER, LOWER, ORDER_PCT1, ORDER_PCT2),\n",
        "        pre_segment_func_nb=pre_segment_func_nb, \n",
        "        pre_segment_args=(MODE,),\n",
        "        order_func_nb=order_func_nb, \n",
        "        order_args=(vbt_open_price.values, COMMPERC),\n",
        "        close=vbt_close_price.values,  # used for target percentage, but we override the valuation price\n",
        "        fill_pos_record=False\n",
        "    )\n",
        "    \n",
        "    return target_shape, group_lens, call_seq, init_cash, order_records, log_records\n",
        "\n",
        "target_shape, group_lens, call_seq, init_cash, order_records, log_records = simulate_nb_from_order_func()"
      ],
      "execution_count": null,
      "outputs": []
    },
    {
      "cell_type": "code",
      "metadata": {
        "id": "MXPQxN-5eWyt",
        "outputId": "ced02455-3d48-4068-df26-f0496b4da0a9"
      },
      "source": [
        "# Print order records in a readable format\n",
        "print(vbt.Orders(vbt_close_price.vbt.wrapper, order_records, vbt_close_price).records_readable)"
      ],
      "execution_count": null,
      "outputs": [
        {
          "name": "stdout",
          "output_type": "stream",
          "text": [
            "   Order Id Column  Timestamp        Size       Price        Fees  Side\n",
            "0         0    PEP 2017-11-15   96.698241  103.316229   49.952488  Sell\n",
            "1         1     KO 2017-11-15  238.385955   41.851497   49.884046   Buy\n",
            "2         2     KO 2018-04-12  490.647327   39.652521   97.277017  Sell\n",
            "3         3    PEP 2018-04-12  198.056953   98.739352   97.780076   Buy\n",
            "4         4    PEP 2018-09-04  198.781680  102.263047  101.640101  Sell\n",
            "5         5     KO 2018-09-04  498.975917   40.477607  100.986755   Buy\n",
            "6         6     KO 2018-10-03  482.284086   42.524342  102.544068  Sell\n",
            "7         7    PEP 2018-10-03  197.454665  100.702245   99.420640   Buy\n",
            "8         8    PEP 2018-12-03  189.202087  111.094282  105.096350  Sell\n",
            "9         9     KO 2018-12-03  451.211817   46.006429  103.793222   Buy\n"
          ]
        }
      ]
    },
    {
      "cell_type": "code",
      "metadata": {
        "id": "aVQDKCAEeWyu"
      },
      "source": [
        "# Proof that both bt and vbt produce the same cash\n",
        "from vectorbt.records import nb as records_nb\n",
        "\n",
        "col_map = records_nb.col_map_nb(order_records['col'], target_shape[1])\n",
        "cash_flow = portfolio_nb.cash_flow_nb(target_shape, order_records, col_map, False)\n",
        "cash_flow_grouped = portfolio_nb.cash_flow_grouped_nb(cash_flow, group_lens)\n",
        "cash_grouped = portfolio_nb.cash_grouped_nb(target_shape, cash_flow_grouped, group_lens, init_cash)\n",
        "\n",
        "pd.testing.assert_series_equal(bt_cash, bt_cash.vbt.wrapper.wrap(cash_grouped))"
      ],
      "execution_count": null,
      "outputs": []
    },
    {
      "cell_type": "code",
      "metadata": {
        "id": "5s9UYQOZeWyu"
      },
      "source": [
        "# Proof that both bt and vbt produce the same value\n",
        "asset_flow = portfolio_nb.asset_flow_nb(target_shape, order_records, col_map, Direction.Both)\n",
        "assets = portfolio_nb.assets_nb(asset_flow)\n",
        "asset_value = portfolio_nb.asset_value_nb(vbt_close_price.values, assets)\n",
        "asset_value_grouped = portfolio_nb.asset_value_grouped_nb(asset_value, group_lens)\n",
        "value = portfolio_nb.value_nb(cash_grouped, asset_value_grouped)\n",
        "\n",
        "pd.testing.assert_series_equal(bt_value, bt_value.vbt.wrapper.wrap(value))"
      ],
      "execution_count": null,
      "outputs": []
    },
    {
      "cell_type": "code",
      "metadata": {
        "id": "_YPw2GNZeWyu",
        "outputId": "39c618a9-1ddf-4242-d2dd-aacf35c2b01d"
      },
      "source": [
        "# To produce more complex metrics such as stats, it's advisable to use Portfolio,\n",
        "# which can be easily constructed from the arguments and outputs of simulate_nb\n",
        "vbt_pf3 = vbt.Portfolio(\n",
        "    wrapper=vbt_close_price.vbt(freq='d', group_by=True).wrapper, \n",
        "    close=vbt_close_price, \n",
        "    order_records=order_records, \n",
        "    log_records=log_records, \n",
        "    init_cash=init_cash,\n",
        "    cash_sharing=True, \n",
        "    call_seq=call_seq\n",
        ")\n",
        "\n",
        "print(vbt_pf3.stats())"
      ],
      "execution_count": null,
      "outputs": [
        {
          "name": "stdout",
          "output_type": "stream",
          "text": [
            "Start                         2017-01-03 00:00:00\n",
            "End                           2018-12-31 00:00:00\n",
            "Period                          502 days 00:00:00\n",
            "Start Value                              100000.0\n",
            "End Value                           100284.081822\n",
            "Total Return [%]                         0.284082\n",
            "Benchmark Return [%]                    16.631282\n",
            "Max Gross Exposure [%]                   0.915879\n",
            "Total Fees Paid                        908.374763\n",
            "Max Drawdown [%]                         1.030291\n",
            "Max Drawdown Duration           168 days 00:00:00\n",
            "Total Trades                                   10\n",
            "Total Closed Trades                             8\n",
            "Total Open Trades                               2\n",
            "Open Trade PnL                         149.652774\n",
            "Win Rate [%]                                 62.5\n",
            "Best Trade [%]                           9.267971\n",
            "Worst Trade [%]                         -9.229397\n",
            "Avg Winning Trade [%]                    3.967201\n",
            "Avg Losing Trade [%]                    -6.182852\n",
            "Avg Winning Trade Duration       56 days 19:12:00\n",
            "Avg Losing Trade Duration        80 days 16:00:00\n",
            "Profit Factor                            1.072464\n",
            "Expectancy                              16.803631\n",
            "Sharpe Ratio                             0.185035\n",
            "Calmar Ratio                             0.200403\n",
            "Omega Ratio                              1.036058\n",
            "Sortino Ratio                            0.266979\n",
            "Name: group, dtype: object\n"
          ]
        }
      ]
    },
    {
      "cell_type": "code",
      "metadata": {
        "id": "r1yJN68veWyv",
        "outputId": "ceb1e4cd-2b9e-43df-cd54-a37f014128c3"
      },
      "source": [
        "# How fast is vbt?\n",
        "%timeit simulate_nb_from_order_func()"
      ],
      "execution_count": null,
      "outputs": [
        {
          "name": "stdout",
          "output_type": "stream",
          "text": [
            "2.3 ms ± 9.23 µs per loop (mean ± std. dev. of 7 runs, 100 loops each)\n"
          ]
        }
      ]
    },
    {
      "cell_type": "markdown",
      "metadata": {
        "id": "IujN83CjeWyv"
      },
      "source": [
        "As you can see, writing Numba isn't straightforward and requires at least intermediate knowledge of NumPy. That's why Portfolio.from_orders and other class methods based on arrays are usually a good starting point."
      ]
    },
    {
      "cell_type": "markdown",
      "metadata": {
        "id": "0sqcpfRmeWyv"
      },
      "source": [
        "### Multiple parameters"
      ]
    },
    {
      "cell_type": "markdown",
      "metadata": {
        "id": "eJBNRLMJeWyv"
      },
      "source": [
        "Now, why waste all energy to port a strategy to vectorbt? Right, for hyperparameter optimization.\n",
        "\n",
        "*The example below is just for demo purposes, usually brute-forcing many combinations on a single data sample easily leads to overfitting.*"
      ]
    },
    {
      "cell_type": "code",
      "metadata": {
        "id": "-E_V_BK4eWyv"
      },
      "source": [
        "periods = np.arange(10, 105, 5)\n",
        "uppers = np.arange(1.5, 2.2, 0.1)\n",
        "lowers = -1 * np.arange(1.5, 2.2, 0.1)"
      ],
      "execution_count": null,
      "outputs": []
    },
    {
      "cell_type": "code",
      "metadata": {
        "id": "Q_WPI4aVeWyw"
      },
      "source": [
        "def simulate_mult_from_order_func(periods, uppers, lowers):\n",
        "    \"\"\"Simulate multiple parameter combinations using `Portfolio.from_order_func`.\"\"\"\n",
        "    # Build param grid\n",
        "    param_product = vbt.utils.params.create_param_product([periods, uppers, lowers])\n",
        "    param_tuples = list(zip(*param_product))\n",
        "    param_columns = pd.MultiIndex.from_tuples(param_tuples, names=['period', 'upper', 'lower'])\n",
        "    \n",
        "    # We need two price columns per param combination\n",
        "    vbt_close_price_mult = vbt_close_price.vbt.tile(len(param_columns), keys=param_columns)\n",
        "    vbt_open_price_mult = vbt_open_price.vbt.tile(len(param_columns), keys=param_columns)\n",
        "    \n",
        "    return vbt.Portfolio.from_order_func(\n",
        "        vbt_close_price_mult,\n",
        "        order_func_nb, \n",
        "        vbt_open_price_mult.values, COMMPERC,  # *args for order_func_nb\n",
        "        pre_group_func_nb=pre_group_func_nb, \n",
        "        pre_group_args=(\n",
        "            np.array(param_product[0]), \n",
        "            np.array(param_product[1]), \n",
        "            np.array(param_product[2]), \n",
        "            ORDER_PCT1, \n",
        "            ORDER_PCT2\n",
        "        ),\n",
        "        pre_segment_func_nb=pre_segment_func_nb, \n",
        "        pre_segment_args=(MODE,),\n",
        "        fill_pos_record=False,\n",
        "        init_cash=CASH,\n",
        "        cash_sharing=True, \n",
        "        group_by=param_columns.names,\n",
        "        freq='d'\n",
        "    )\n",
        "\n",
        "vbt_pf_mult = simulate_mult_from_order_func(periods, uppers, lowers)"
      ],
      "execution_count": null,
      "outputs": []
    },
    {
      "cell_type": "code",
      "metadata": {
        "id": "PG-AVqydeWyw",
        "outputId": "ba9b5e14-aa27-420a-c2a8-664a027f7999"
      },
      "source": [
        "print(vbt_pf_mult.total_return().sort_values())\n",
        "\n",
        "vbt_pf_mult.total_return().vbt.histplot().show_svg()"
      ],
      "execution_count": null,
      "outputs": [
        {
          "name": "stdout",
          "output_type": "stream",
          "text": [
            "period  upper  lower\n",
            "10      1.6    -1.5    -0.068466\n",
            "        1.5    -1.5    -0.067897\n",
            "        1.8    -1.5    -0.066885\n",
            "        1.5    -1.6    -0.065260\n",
            "        1.7    -1.5    -0.065036\n",
            "                          ...   \n",
            "100     2.0    -2.2     0.003538\n",
            "        1.9    -2.2     0.003538\n",
            "        2.1    -2.2     0.003538\n",
            "        1.8    -2.2     0.003538\n",
            "        2.2    -2.2     0.003538\n",
            "Name: total_return, Length: 1216, dtype: float64\n"
          ]
        },
        {
          "data": {
            "image/svg+xml": [
              "<svg class=\"main-svg\" xmlns=\"http://www.w3.org/2000/svg\" xmlns:xlink=\"http://www.w3.org/1999/xlink\" width=\"700\" height=\"350\" style=\"\" viewBox=\"0 0 700 350\"><rect x=\"0\" y=\"0\" width=\"700\" height=\"350\" style=\"fill: rgb(255, 255, 255); fill-opacity: 1;\"/><defs id=\"defs-8b96f9\"><g class=\"clips\"><clipPath id=\"clip8b96f9xyplot\" class=\"plotclip\"><rect width=\"634\" height=\"274\"/></clipPath><clipPath class=\"axesclip\" id=\"clip8b96f9x\"><rect x=\"36\" y=\"0\" width=\"634\" height=\"350\"/></clipPath><clipPath class=\"axesclip\" id=\"clip8b96f9y\"><rect x=\"0\" y=\"46\" width=\"700\" height=\"274\"/></clipPath><clipPath class=\"axesclip\" id=\"clip8b96f9xy\"><rect x=\"36\" y=\"46\" width=\"634\" height=\"274\"/></clipPath></g><g class=\"gradients\"/><g class=\"patterns\"/></defs><g class=\"bglayer\"><rect class=\"bg\" x=\"36\" y=\"46\" width=\"634\" height=\"274\" style=\"fill: rgb(229, 236, 246); fill-opacity: 1; stroke-width: 0;\"/></g><g class=\"layer-below\"><g class=\"imagelayer\"/><g class=\"shapelayer\"/></g><g class=\"cartesianlayer\"><g class=\"subplot xy\"><g class=\"layer-subplot\"><g class=\"shapelayer\"/><g class=\"imagelayer\"/></g><g class=\"gridlayer\"><g class=\"x\"/><g class=\"y\"><path class=\"ygrid crisp\" transform=\"translate(0,273.1)\" d=\"M36,0h634\" style=\"stroke: rgb(255, 255, 255); stroke-opacity: 1; stroke-width: 1px;\"/><path class=\"ygrid crisp\" transform=\"translate(0,226.2)\" d=\"M36,0h634\" style=\"stroke: rgb(255, 255, 255); stroke-opacity: 1; stroke-width: 1px;\"/><path class=\"ygrid crisp\" transform=\"translate(0,179.3)\" d=\"M36,0h634\" style=\"stroke: rgb(255, 255, 255); stroke-opacity: 1; stroke-width: 1px;\"/><path class=\"ygrid crisp\" transform=\"translate(0,132.4)\" d=\"M36,0h634\" style=\"stroke: rgb(255, 255, 255); stroke-opacity: 1; stroke-width: 1px;\"/><path class=\"ygrid crisp\" transform=\"translate(0,85.5)\" d=\"M36,0h634\" style=\"stroke: rgb(255, 255, 255); stroke-opacity: 1; stroke-width: 1px;\"/></g></g><g class=\"zerolinelayer\"><path class=\"yzl zl crisp\" transform=\"translate(0,320)\" d=\"M36,0h634\" style=\"stroke: rgb(255, 255, 255); stroke-opacity: 1; stroke-width: 2px;\"/></g><path class=\"xlines-below\"/><path class=\"ylines-below\"/><g class=\"overlines-below\"/><g class=\"xaxislayer-below\"/><g class=\"yaxislayer-below\"/><g class=\"overaxes-below\"/><g class=\"plot\" transform=\"translate(36,46)\" clip-path=\"url(#clip8b96f9xyplot)\"><g class=\"barlayer mlayer\"><g class=\"trace bars\" shape-rendering=\"crispEdges\" style=\"opacity: 1;\"><g class=\"points\"><g class=\"point\"><path d=\"M0,274V271.65H17.14V274Z\" style=\"vector-effect: non-scaling-stroke; opacity: 1; stroke-width: 0px; fill: rgb(31, 119, 180); fill-opacity: 1;\"/></g><g class=\"point\"><path d=\"M17.14,274V269.31H34.27V274Z\" style=\"vector-effect: non-scaling-stroke; opacity: 1; stroke-width: 0px; fill: rgb(31, 119, 180); fill-opacity: 1;\"/></g><g class=\"point\"><path d=\"M34.27,274V266.96H51.41V274Z\" style=\"vector-effect: non-scaling-stroke; opacity: 1; stroke-width: 0px; fill: rgb(31, 119, 180); fill-opacity: 1;\"/></g><g class=\"point\"><path d=\"M51.41,274V264.62H68.54V274Z\" style=\"vector-effect: non-scaling-stroke; opacity: 1; stroke-width: 0px; fill: rgb(31, 119, 180); fill-opacity: 1;\"/></g><g class=\"point\"><path d=\"M68.54,274V269.31H85.68V274Z\" style=\"vector-effect: non-scaling-stroke; opacity: 1; stroke-width: 0px; fill: rgb(31, 119, 180); fill-opacity: 1;\"/></g><g class=\"point\"><path d=\"M85.68,274V271.65H102.81V274Z\" style=\"vector-effect: non-scaling-stroke; opacity: 1; stroke-width: 0px; fill: rgb(31, 119, 180); fill-opacity: 1;\"/></g><g class=\"point\"><path d=\"M102.81,274V259.93H119.95V274Z\" style=\"vector-effect: non-scaling-stroke; opacity: 1; stroke-width: 0px; fill: rgb(31, 119, 180); fill-opacity: 1;\"/></g><g class=\"point\"><path d=\"M119.95,274V259.93H137.08V274Z\" style=\"vector-effect: non-scaling-stroke; opacity: 1; stroke-width: 0px; fill: rgb(31, 119, 180); fill-opacity: 1;\"/></g><g class=\"point\"><path d=\"M137.08,274V262.27H154.22V274Z\" style=\"vector-effect: non-scaling-stroke; opacity: 1; stroke-width: 0px; fill: rgb(31, 119, 180); fill-opacity: 1;\"/></g><g class=\"point\"><path d=\"M154.22,274V264.62H171.35V274Z\" style=\"vector-effect: non-scaling-stroke; opacity: 1; stroke-width: 0px; fill: rgb(31, 119, 180); fill-opacity: 1;\"/></g><g class=\"point\"><path d=\"M171.35,274V220.06H188.49V274Z\" style=\"vector-effect: non-scaling-stroke; opacity: 1; stroke-width: 0px; fill: rgb(31, 119, 180); fill-opacity: 1;\"/></g><g class=\"point\"><path d=\"M188.49,274V220.06H205.62V274Z\" style=\"vector-effect: non-scaling-stroke; opacity: 1; stroke-width: 0px; fill: rgb(31, 119, 180); fill-opacity: 1;\"/></g><g class=\"point\"><path d=\"M205.62,274V229.44H222.76V274Z\" style=\"vector-effect: non-scaling-stroke; opacity: 1; stroke-width: 0px; fill: rgb(31, 119, 180); fill-opacity: 1;\"/></g><g class=\"point\"><path d=\"M222.76,274V196.61H239.89V274Z\" style=\"vector-effect: non-scaling-stroke; opacity: 1; stroke-width: 0px; fill: rgb(31, 119, 180); fill-opacity: 1;\"/></g><g class=\"point\"><path d=\"M239.89,274V205.99H257.03V274Z\" style=\"vector-effect: non-scaling-stroke; opacity: 1; stroke-width: 0px; fill: rgb(31, 119, 180); fill-opacity: 1;\"/></g><g class=\"point\"><path d=\"M257.03,274V220.06H274.16V274Z\" style=\"vector-effect: non-scaling-stroke; opacity: 1; stroke-width: 0px; fill: rgb(31, 119, 180); fill-opacity: 1;\"/></g><g class=\"point\"><path d=\"M274.16,274V189.58H291.3V274Z\" style=\"vector-effect: non-scaling-stroke; opacity: 1; stroke-width: 0px; fill: rgb(31, 119, 180); fill-opacity: 1;\"/></g><g class=\"point\"><path d=\"M291.3,274V191.92H308.43V274Z\" style=\"vector-effect: non-scaling-stroke; opacity: 1; stroke-width: 0px; fill: rgb(31, 119, 180); fill-opacity: 1;\"/></g><g class=\"point\"><path d=\"M308.43,274V180.2H325.57V274Z\" style=\"vector-effect: non-scaling-stroke; opacity: 1; stroke-width: 0px; fill: rgb(31, 119, 180); fill-opacity: 1;\"/></g><g class=\"point\"><path d=\"M325.57,274V184.89H342.7V274Z\" style=\"vector-effect: non-scaling-stroke; opacity: 1; stroke-width: 0px; fill: rgb(31, 119, 180); fill-opacity: 1;\"/></g><g class=\"point\"><path d=\"M342.7,274V187.23H359.84V274Z\" style=\"vector-effect: non-scaling-stroke; opacity: 1; stroke-width: 0px; fill: rgb(31, 119, 180); fill-opacity: 1;\"/></g><g class=\"point\"><path d=\"M359.84,274V229.44H376.97V274Z\" style=\"vector-effect: non-scaling-stroke; opacity: 1; stroke-width: 0px; fill: rgb(31, 119, 180); fill-opacity: 1;\"/></g><g class=\"point\"><path d=\"M376.97,274V238.82H394.11V274Z\" style=\"vector-effect: non-scaling-stroke; opacity: 1; stroke-width: 0px; fill: rgb(31, 119, 180); fill-opacity: 1;\"/></g><g class=\"point\"><path d=\"M394.11,274V236.48H411.24V274Z\" style=\"vector-effect: non-scaling-stroke; opacity: 1; stroke-width: 0px; fill: rgb(31, 119, 180); fill-opacity: 1;\"/></g><g class=\"point\"><path d=\"M411.24,274V208.34H428.38V274Z\" style=\"vector-effect: non-scaling-stroke; opacity: 1; stroke-width: 0px; fill: rgb(31, 119, 180); fill-opacity: 1;\"/></g><g class=\"point\"><path d=\"M428.38,274V147.37H445.51V274Z\" style=\"vector-effect: non-scaling-stroke; opacity: 1; stroke-width: 0px; fill: rgb(31, 119, 180); fill-opacity: 1;\"/></g><g class=\"point\"><path d=\"M445.51,274V105.16H462.65V274Z\" style=\"vector-effect: non-scaling-stroke; opacity: 1; stroke-width: 0px; fill: rgb(31, 119, 180); fill-opacity: 1;\"/></g><g class=\"point\"><path d=\"M462.65,274V114.54H479.78V274Z\" style=\"vector-effect: non-scaling-stroke; opacity: 1; stroke-width: 0px; fill: rgb(31, 119, 180); fill-opacity: 1;\"/></g><g class=\"point\"><path d=\"M479.78,274V142.68H496.92V274Z\" style=\"vector-effect: non-scaling-stroke; opacity: 1; stroke-width: 0px; fill: rgb(31, 119, 180); fill-opacity: 1;\"/></g><g class=\"point\"><path d=\"M496.92,274V156.75H514.05V274Z\" style=\"vector-effect: non-scaling-stroke; opacity: 1; stroke-width: 0px; fill: rgb(31, 119, 180); fill-opacity: 1;\"/></g><g class=\"point\"><path d=\"M514.05,274V126.26H531.19V274Z\" style=\"vector-effect: non-scaling-stroke; opacity: 1; stroke-width: 0px; fill: rgb(31, 119, 180); fill-opacity: 1;\"/></g><g class=\"point\"><path d=\"M531.19,274V72.33H548.32V274Z\" style=\"vector-effect: non-scaling-stroke; opacity: 1; stroke-width: 0px; fill: rgb(31, 119, 180); fill-opacity: 1;\"/></g><g class=\"point\"><path d=\"M548.32,274V119.23H565.46V274Z\" style=\"vector-effect: non-scaling-stroke; opacity: 1; stroke-width: 0px; fill: rgb(31, 119, 180); fill-opacity: 1;\"/></g><g class=\"point\"><path d=\"M565.46,274V13.7H582.59V274Z\" style=\"vector-effect: non-scaling-stroke; opacity: 1; stroke-width: 0px; fill: rgb(31, 119, 180); fill-opacity: 1;\"/></g><g class=\"point\"><path d=\"M582.59,274V149.71H599.73V274Z\" style=\"vector-effect: non-scaling-stroke; opacity: 1; stroke-width: 0px; fill: rgb(31, 119, 180); fill-opacity: 1;\"/></g><g class=\"point\"><path d=\"M599.73,274V126.26H616.86V274Z\" style=\"vector-effect: non-scaling-stroke; opacity: 1; stroke-width: 0px; fill: rgb(31, 119, 180); fill-opacity: 1;\"/></g><g class=\"point\"><path d=\"M616.86,274V213.03H634V274Z\" style=\"vector-effect: non-scaling-stroke; opacity: 1; stroke-width: 0px; fill: rgb(31, 119, 180); fill-opacity: 1;\"/></g></g></g></g></g><g class=\"overplot\"/><path class=\"xlines-above crisp\" d=\"M0,0\" style=\"fill: none;\"/><path class=\"ylines-above crisp\" d=\"M0,0\" style=\"fill: none;\"/><g class=\"overlines-above\"/><g class=\"xaxislayer-above\"><g class=\"xtick\"><text text-anchor=\"middle\" x=\"0\" y=\"333\" transform=\"translate(36,0)\" style=\"font-family: 'Open Sans', verdana, arial, sans-serif; font-size: 12px; fill: rgb(42, 63, 95); fill-opacity: 1; white-space: pre; opacity: 1;\">−0.07</text></g><g class=\"xtick\"><text text-anchor=\"middle\" x=\"0\" y=\"333\" style=\"font-family: 'Open Sans', verdana, arial, sans-serif; font-size: 12px; fill: rgb(42, 63, 95); fill-opacity: 1; white-space: pre; opacity: 1;\" transform=\"translate(121.68,0)\">−0.06</text></g><g class=\"xtick\"><text text-anchor=\"middle\" x=\"0\" y=\"333\" style=\"font-family: 'Open Sans', verdana, arial, sans-serif; font-size: 12px; fill: rgb(42, 63, 95); fill-opacity: 1; white-space: pre; opacity: 1;\" transform=\"translate(207.35,0)\">−0.05</text></g><g class=\"xtick\"><text text-anchor=\"middle\" x=\"0\" y=\"333\" style=\"font-family: 'Open Sans', verdana, arial, sans-serif; font-size: 12px; fill: rgb(42, 63, 95); fill-opacity: 1; white-space: pre; opacity: 1;\" transform=\"translate(293.03,0)\">−0.04</text></g><g class=\"xtick\"><text text-anchor=\"middle\" x=\"0\" y=\"333\" style=\"font-family: 'Open Sans', verdana, arial, sans-serif; font-size: 12px; fill: rgb(42, 63, 95); fill-opacity: 1; white-space: pre; opacity: 1;\" transform=\"translate(378.7,0)\">−0.03</text></g><g class=\"xtick\"><text text-anchor=\"middle\" x=\"0\" y=\"333\" style=\"font-family: 'Open Sans', verdana, arial, sans-serif; font-size: 12px; fill: rgb(42, 63, 95); fill-opacity: 1; white-space: pre; opacity: 1;\" transform=\"translate(464.38,0)\">−0.02</text></g><g class=\"xtick\"><text text-anchor=\"middle\" x=\"0\" y=\"333\" style=\"font-family: 'Open Sans', verdana, arial, sans-serif; font-size: 12px; fill: rgb(42, 63, 95); fill-opacity: 1; white-space: pre; opacity: 1;\" transform=\"translate(550.05,0)\">−0.01</text></g><g class=\"xtick\"><text text-anchor=\"middle\" x=\"0\" y=\"333\" style=\"font-family: 'Open Sans', verdana, arial, sans-serif; font-size: 12px; fill: rgb(42, 63, 95); fill-opacity: 1; white-space: pre; opacity: 1;\" transform=\"translate(635.73,0)\">0</text></g></g><g class=\"yaxislayer-above\"><g class=\"ytick\"><text text-anchor=\"end\" x=\"35\" y=\"4.199999999999999\" transform=\"translate(0,320)\" style=\"font-family: 'Open Sans', verdana, arial, sans-serif; font-size: 12px; fill: rgb(42, 63, 95); fill-opacity: 1; white-space: pre; opacity: 1;\">0</text></g><g class=\"ytick\"><text text-anchor=\"end\" x=\"35\" y=\"4.199999999999999\" style=\"font-family: 'Open Sans', verdana, arial, sans-serif; font-size: 12px; fill: rgb(42, 63, 95); fill-opacity: 1; white-space: pre; opacity: 1;\" transform=\"translate(0,273.1)\">20</text></g><g class=\"ytick\"><text text-anchor=\"end\" x=\"35\" y=\"4.199999999999999\" style=\"font-family: 'Open Sans', verdana, arial, sans-serif; font-size: 12px; fill: rgb(42, 63, 95); fill-opacity: 1; white-space: pre; opacity: 1;\" transform=\"translate(0,226.2)\">40</text></g><g class=\"ytick\"><text text-anchor=\"end\" x=\"35\" y=\"4.199999999999999\" style=\"font-family: 'Open Sans', verdana, arial, sans-serif; font-size: 12px; fill: rgb(42, 63, 95); fill-opacity: 1; white-space: pre; opacity: 1;\" transform=\"translate(0,179.3)\">60</text></g><g class=\"ytick\"><text text-anchor=\"end\" x=\"35\" y=\"4.199999999999999\" style=\"font-family: 'Open Sans', verdana, arial, sans-serif; font-size: 12px; fill: rgb(42, 63, 95); fill-opacity: 1; white-space: pre; opacity: 1;\" transform=\"translate(0,132.4)\">80</text></g><g class=\"ytick\"><text text-anchor=\"end\" x=\"35\" y=\"4.199999999999999\" style=\"font-family: 'Open Sans', verdana, arial, sans-serif; font-size: 12px; fill: rgb(42, 63, 95); fill-opacity: 1; white-space: pre; opacity: 1;\" transform=\"translate(0,85.5)\">100</text></g></g><g class=\"overaxes-above\"/></g></g><g class=\"polarlayer\"/><g class=\"ternarylayer\"/><g class=\"geolayer\"/><g class=\"funnelarealayer\"/><g class=\"pielayer\"/><g class=\"iciclelayer\"/><g class=\"treemaplayer\"/><g class=\"sunburstlayer\"/><g class=\"glimages\"/><defs id=\"topdefs-8b96f9\"><g class=\"clips\"/><clipPath id=\"legend8b96f9\"><rect width=\"118\" height=\"29\" x=\"0\" y=\"0\"/></clipPath></defs><g class=\"layer-above\"><g class=\"imagelayer\"/><g class=\"shapelayer\"/></g><g class=\"infolayer\"><g class=\"legend\" pointer-events=\"all\" transform=\"translate(552,11.519999999999996)\"><rect class=\"bg\" shape-rendering=\"crispEdges\" style=\"stroke: rgb(68, 68, 68); stroke-opacity: 1; fill: rgb(255, 255, 255); fill-opacity: 1; stroke-width: 0px;\" width=\"118\" height=\"29\" x=\"0\" y=\"0\"/><g class=\"scrollbox\" transform=\"\" clip-path=\"url(#legend8b96f9)\"><g class=\"groups\"><g class=\"traces\" transform=\"translate(0,14.5)\" style=\"opacity: 1;\"><text class=\"legendtext\" text-anchor=\"start\" x=\"40\" y=\"4.680000000000001\" style=\"font-family: 'Open Sans', verdana, arial, sans-serif; font-size: 12px; fill: rgb(42, 63, 95); fill-opacity: 1; white-space: pre;\">total_return</text><g class=\"layers\" style=\"opacity: 1;\"><g class=\"legendfill\"/><g class=\"legendlines\"/><g class=\"legendsymbols\"><g class=\"legendpoints\"><path class=\"legendundefined\" d=\"M6,6H-6V-6H6Z\" transform=\"translate(20,0)\" style=\"stroke-width: 0px; fill: rgb(31, 119, 180); fill-opacity: 1;\"/></g></g></g><rect class=\"legendtoggle\" x=\"0\" y=\"-9.5\" width=\"114.6875\" height=\"19\" style=\"fill: rgb(0, 0, 0); fill-opacity: 0;\"/></g></g></g><rect class=\"scrollbar\" rx=\"20\" ry=\"3\" width=\"0\" height=\"0\" style=\"fill: rgb(128, 139, 164); fill-opacity: 1;\" x=\"0\" y=\"0\"/></g><g class=\"g-gtitle\"/><g class=\"g-xtitle\"/><g class=\"g-ytitle\"/></g></svg>"
            ]
          },
          "metadata": {},
          "output_type": "display_data"
        }
      ]
    },
    {
      "cell_type": "code",
      "metadata": {
        "id": "LbgIO1OyeWyw",
        "outputId": "b643c427-b6b6-42d3-9126-26bb003f0356"
      },
      "source": [
        "# How fast is vbt?\n",
        "%timeit simulate_mult_from_order_func(periods, uppers, lowers)"
      ],
      "execution_count": null,
      "outputs": [
        {
          "name": "stdout",
          "output_type": "stream",
          "text": [
            "2.15 s ± 15.5 ms per loop (mean ± std. dev. of 7 runs, 1 loop each)\n"
          ]
        }
      ]
    },
    {
      "cell_type": "markdown",
      "metadata": {
        "id": "sxSiXm9ZeWyw"
      },
      "source": [
        "Even though the strategy is profitable on paper, the majority of hyperparameter combinations yield a loss, so finding a proper \"slice\" of hyperparameters is just a question of luck when relying on a single backtest. Thanks to vectorbt, we can do thousands of tests in seconds to validate our strategy - the same would last hours using conventional libraries."
      ]
    },
    {
      "cell_type": "code",
      "metadata": {
        "id": "GRdA_goyeWyw"
      },
      "source": [
        ""
      ],
      "execution_count": null,
      "outputs": []
    }
  ]
}